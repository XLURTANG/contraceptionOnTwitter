{
 "cells": [
  {
   "cell_type": "markdown",
   "metadata": {},
   "source": [
    "# Analysis of the polarity results: numerical\n",
    "\n",
    "\n",
    "This notebook contains the different functions developed to analyze the polarity analysis:\n",
    "- formating the output of Amazon Comprehend\n",
    "- creating a summary table for each category or group of categories (LARC, non-LARC). For each category or group of categories we will obtain: \n",
    "    - total number of tweets analyzed\n",
    "    - total number of confident tweets (amazon comprehend confidence score >= 0.95 )\n",
    "    - % positive, negative and neutral confidenent tweets\n",
    "\n",
    "When running this notebook, we saved the output table also in a file. "
   ]
  },
  {
   "cell_type": "code",
   "execution_count": 17,
   "metadata": {},
   "outputs": [],
   "source": [
    "#####################\n",
    "# Load Libraries    #\n",
    "#####################\n",
    "#install.packages(c(\"ggplot2\",\"plotly\",\"dplyr\", \"reshape2\"))\n",
    "library(\"ggplot2\")\n",
    "library(\"dplyr\")\n",
    "library(\"reshape2\")\n",
    "rm(list=ls())"
   ]
  },
  {
   "cell_type": "code",
   "execution_count": 43,
   "metadata": {},
   "outputs": [],
   "source": [
    "######################\n",
    "# Polarity Analysis  #\n",
    "######################\n",
    "polarityAnalysis <- function( categories ){\n",
    "    \n",
    "    for( i in 1:length(categories)){\n",
    "        \n",
    "        if( i == 1){\n",
    "             polarityInput  <- read.delim( paste0( '/home/ec2-user/SageMaker/CleanAndAggregateTweets/', categories[i], \"_CleanTweets.txt\"), header = TRUE)\n",
    "            polarityInput  <- polarityInput[, c(\"text\", \"date\")]\n",
    "            polarityInput$year <- sapply(strsplit( as.character(polarityInput$date), \"-\"), '[', 1)\n",
    "            polarityInput$yearMonth <- paste0( sapply(strsplit( as.character(polarityInput$date), \"-\"), '[', 1), \"-\",\n",
    "                                       sapply(strsplit( as.character(polarityInput$date), \"-\"), '[', 2) )\n",
    "            colnames(polarityInput)[1] <- \"tweets\"\n",
    "    \n",
    "            polarityOutput <- read.csv( paste0( '/home/ec2-user/SageMaker/AWScomprenhend_output/', categories[i], \"_AWScomprehend_complete.csv\"), header = TRUE)\n",
    "       \n",
    "            final <- inner_join( polarityOutput, polarityInput, by=\"tweets\")\n",
    "        }else{\n",
    "            polarityInputInt  <- read.delim( paste0( '/home/ec2-user/SageMaker/CleanAndAggregateTweets/', categories[i], \"_CleanTweets.txt\"), header = TRUE)\n",
    "            polarityInputInt  <- polarityInputInt[, c(\"text\", \"date\")]\n",
    "            polarityInputInt$year <- sapply(strsplit( as.character(polarityInputInt$date), \"-\"), '[', 1)\n",
    "            polarityInputInt$yearMonth <- paste0( sapply(strsplit( as.character(polarityInputInt$date), \"-\"), '[', 1), \"-\",\n",
    "                                       sapply(strsplit( as.character(polarityInputInt$date), \"-\"), '[', 2) )\n",
    "            colnames(polarityInputInt)[1] <- \"tweets\"\n",
    "    \n",
    "            polarityOutputInt <- read.csv( paste0( '/home/ec2-user/SageMaker/AWScomprenhend_output/', categories[i], \"_AWScomprehend_complete.csv\"), header = TRUE)\n",
    "   \n",
    "            finalInt <- inner_join( polarityOutputInt, polarityInputInt, by=\"tweets\")\n",
    "\n",
    "            final <- rbind( final, finalInt )\n",
    "\n",
    "        }\n",
    "        \n",
    "    }\n",
    "    return( final )\n",
    "}"
   ]
  },
  {
   "cell_type": "code",
   "execution_count": 44,
   "metadata": {},
   "outputs": [],
   "source": [
    "###################\n",
    "# Summary by year #\n",
    "###################\n",
    "confidenceScore <- 0.95\n",
    "polarityByYear <- function( polarityResults, confidence, outputPath, outputName ){\n",
    "    \n",
    "    print(paste0(\"There are a total of \", nrow(polarityResults), \" tweets in this category\") )\n",
    "    years <- sort(unique( polarityResults$year))\n",
    "    \n",
    "    results <- as.data.frame( matrix( ncol = 7, nrow= length( years )))\n",
    "    colnames(results) <- c(\"year\", \"totalTweets\",\"confidentTweets\",\"positiveConfident\", \n",
    "                           \"negativeConfident\", \"neutralConfident\", \"mixedConfident\")\n",
    "    results$year <- years\n",
    "    \n",
    "    selection <- polarityResults[ polarityResults$positive >= confidence | polarityResults$negative >= confidence | \n",
    "                                     polarityResults$neutral >= confidence | polarityResults$mixed >= confidence, ]\n",
    "    \n",
    "    print(paste0(\"There are a total of \", nrow(selection), \" tweets in this category with \", confidence, \"confidence\") )\n",
    "\n",
    "    for( i in 1:nrow(results)){\n",
    "        \n",
    "        results$totalTweets[i]       <- nrow( polarityResults[ polarityResults$year == results$year[i], ] )\n",
    "        results$confidentTweets[i]   <- nrow( selection[ selection$year == results$year[i], ] )\n",
    "        results$positiveConfident[i] <- nrow( selection[ selection$year == results$year[i] & selection$sentiments == \"POSITIVE\", ] )\n",
    "        results$negativeConfident[i] <- nrow( selection[ selection$year == results$year[i] & selection$sentiments == \"NEGATIVE\", ] )\n",
    "        results$neutralConfident[i]  <- nrow( selection[ selection$year == results$year[i] & selection$sentiments == \"NEUTRAL\", ] )\n",
    "        results$mixedConfident[i]  <- nrow( selection[ selection$year == results$year[i] & selection$sentiments == \"MIXED\", ] )\n",
    "    }\n",
    "    \n",
    "    totalValues <- c( \"Total\", sum( as.numeric( results$totalTweets) ), sum( as.numeric( results$confidentTweets)), \n",
    "                    sum( as.numeric( results$positiveConfident) ), sum( as.numeric( results$negativeConfident) ),\n",
    "                    sum( as.numeric( results$neutralConfident) ), sum( as.numeric( results$mixedConfident) ))\n",
    "\n",
    "    results <- rbind( results, totalValues )\n",
    "    \n",
    "    resultsToSave <- results\n",
    "    resultsToSave$category <- outputName\n",
    "    write.table( resultsToSave, file = paste0(outputPath, outputName, \".txt\"), col.names = TRUE, \n",
    "                 row.names = FALSE, quote = FALSE,sep = \"\\t\" )\n",
    "\n",
    "    results$confidenceTweetsPerc <- paste0(round((as.numeric(results$confidentTweets)/ as.numeric(results$totalTweets))*100,2),\"%\")\n",
    "    results$positiveConfidentPerc <- paste0(round((as.numeric(results$positiveConfident)/ as.numeric(results$confidentTweets))*100,2),\"%\")\n",
    "    results$negativeConfidentPerc <- paste0(round((as.numeric(results$negativeConfident)/ as.numeric(results$confidentTweets))*100,2),\"%\")\n",
    "    results$neutralConfidentPerc <- paste0(round((as.numeric(results$neutralConfident)/ as.numeric(results$confidentTweets))*100,2),\"%\")\n",
    "    results$mixedConfidentPerc <- paste0(round((as.numeric(results$mixedConfident)/ as.numeric(results$confidentTweets))*100,2),\"%\")\n",
    "    \n",
    "    results$confidentTweets <- paste0( results$confidentTweets, \" (\", results$confidenceTweetsPerc, \")\")\n",
    "    results$positiveConfident <- paste0( results$positiveConfident, \" (\", results$positiveConfidentPerc, \")\")\n",
    "    results$negativeConfident <- paste0( results$negativeConfident, \" (\", results$negativeConfidentPerc, \")\")\n",
    "    results$neutralConfident <- paste0( results$neutralConfident, \" (\", results$neutralConfidentPerc, \")\")\n",
    "    results$mixedConfident <- paste0( results$mixedConfident, \" (\", results$mixedConfidentPerc, \")\")\n",
    "\n",
    "    results <- results[, c(1:7)]\n",
    "    return( results )\n",
    "}"
   ]
  },
  {
   "cell_type": "code",
   "execution_count": 45,
   "metadata": {},
   "outputs": [
    {
     "data": {
      "text/html": [
       "<ol class=list-inline>\n",
       "\t<li>17577</li>\n",
       "\t<li>10</li>\n",
       "</ol>\n"
      ],
      "text/latex": [
       "\\begin{enumerate*}\n",
       "\\item 17577\n",
       "\\item 10\n",
       "\\end{enumerate*}\n"
      ],
      "text/markdown": [
       "1. 17577\n",
       "2. 10\n",
       "\n",
       "\n"
      ],
      "text/plain": [
       "[1] 17577    10"
      ]
     },
     "metadata": {},
     "output_type": "display_data"
    },
    {
     "name": "stdout",
     "output_type": "stream",
     "text": [
      "[1] \"There are a total of 17577 tweets in this category\"\n",
      "[1] \"There are a total of 4580 tweets in this category with 0.95confidence\"\n"
     ]
    },
    {
     "data": {
      "text/html": [
       "<table>\n",
       "<thead><tr><th scope=col>year</th><th scope=col>totalTweets</th><th scope=col>confidentTweets</th><th scope=col>positiveConfident</th><th scope=col>negativeConfident</th><th scope=col>neutralConfident</th><th scope=col>mixedConfident</th></tr></thead>\n",
       "<tbody>\n",
       "\t<tr><td>2008         </td><td>6            </td><td>1 (16.67%)   </td><td>0 (0%)       </td><td>0 (0%)       </td><td>0 (0%)       </td><td>1 (100%)     </td></tr>\n",
       "\t<tr><td>2009         </td><td>97           </td><td>18 (18.56%)  </td><td>7 (38.89%)   </td><td>2 (11.11%)   </td><td>8 (44.44%)   </td><td>1 (5.56%)    </td></tr>\n",
       "\t<tr><td>2010         </td><td>384          </td><td>95 (24.74%)  </td><td>17 (17.89%)  </td><td>16 (16.84%)  </td><td>58 (61.05%)  </td><td>4 (4.21%)    </td></tr>\n",
       "\t<tr><td>2011         </td><td>582          </td><td>121 (20.79%) </td><td>30 (24.79%)  </td><td>18 (14.88%)  </td><td>67 (55.37%)  </td><td>6 (4.96%)    </td></tr>\n",
       "\t<tr><td>2012         </td><td>1473         </td><td>381 (25.87%) </td><td>76 (19.95%)  </td><td>140 (36.75%) </td><td>137 (35.96%) </td><td>28 (7.35%)   </td></tr>\n",
       "\t<tr><td>2013         </td><td>1160         </td><td>289 (24.91%) </td><td>63 (21.8%)   </td><td>75 (25.95%)  </td><td>138 (47.75%) </td><td>13 (4.5%)    </td></tr>\n",
       "\t<tr><td>2014         </td><td>933          </td><td>250 (26.8%)  </td><td>50 (20%)     </td><td>44 (17.6%)   </td><td>146 (58.4%)  </td><td>10 (4%)      </td></tr>\n",
       "\t<tr><td>2015         </td><td>1023         </td><td>260 (25.42%) </td><td>64 (24.62%)  </td><td>62 (23.85%)  </td><td>114 (43.85%) </td><td>20 (7.69%)   </td></tr>\n",
       "\t<tr><td>2016         </td><td>1589         </td><td>384 (24.17%) </td><td>110 (28.65%) </td><td>90 (23.44%)  </td><td>154 (40.1%)  </td><td>30 (7.81%)   </td></tr>\n",
       "\t<tr><td>2017         </td><td>2316         </td><td>645 (27.85%) </td><td>163 (25.27%) </td><td>179 (27.75%) </td><td>258 (40%)    </td><td>45 (6.98%)   </td></tr>\n",
       "\t<tr><td>2018         </td><td>2861         </td><td>747 (26.11%) </td><td>284 (38.02%) </td><td>267 (35.74%) </td><td>129 (17.27%) </td><td>67 (8.97%)   </td></tr>\n",
       "\t<tr><td>2019         </td><td>5153         </td><td>1389 (26.96%)</td><td>527 (37.94%) </td><td>599 (43.12%) </td><td>162 (11.66%) </td><td>101 (7.27%)  </td></tr>\n",
       "\t<tr><td>Total        </td><td>17577        </td><td>4580 (26.06%)</td><td>1391 (30.37%)</td><td>1492 (32.58%)</td><td>1371 (29.93%)</td><td>326 (7.12%)  </td></tr>\n",
       "</tbody>\n",
       "</table>\n"
      ],
      "text/latex": [
       "\\begin{tabular}{r|lllllll}\n",
       " year & totalTweets & confidentTweets & positiveConfident & negativeConfident & neutralConfident & mixedConfident\\\\\n",
       "\\hline\n",
       "\t 2008            & 6               & 1 (16.67\\%)    & 0 (0\\%)        & 0 (0\\%)        & 0 (0\\%)        & 1 (100\\%)     \\\\\n",
       "\t 2009            & 97              & 18 (18.56\\%)   & 7 (38.89\\%)    & 2 (11.11\\%)    & 8 (44.44\\%)    & 1 (5.56\\%)    \\\\\n",
       "\t 2010            & 384             & 95 (24.74\\%)   & 17 (17.89\\%)   & 16 (16.84\\%)   & 58 (61.05\\%)   & 4 (4.21\\%)    \\\\\n",
       "\t 2011            & 582             & 121 (20.79\\%)  & 30 (24.79\\%)   & 18 (14.88\\%)   & 67 (55.37\\%)   & 6 (4.96\\%)    \\\\\n",
       "\t 2012            & 1473            & 381 (25.87\\%)  & 76 (19.95\\%)   & 140 (36.75\\%)  & 137 (35.96\\%)  & 28 (7.35\\%)   \\\\\n",
       "\t 2013            & 1160            & 289 (24.91\\%)  & 63 (21.8\\%)    & 75 (25.95\\%)   & 138 (47.75\\%)  & 13 (4.5\\%)    \\\\\n",
       "\t 2014            & 933             & 250 (26.8\\%)   & 50 (20\\%)      & 44 (17.6\\%)    & 146 (58.4\\%)   & 10 (4\\%)      \\\\\n",
       "\t 2015            & 1023            & 260 (25.42\\%)  & 64 (24.62\\%)   & 62 (23.85\\%)   & 114 (43.85\\%)  & 20 (7.69\\%)   \\\\\n",
       "\t 2016            & 1589            & 384 (24.17\\%)  & 110 (28.65\\%)  & 90 (23.44\\%)   & 154 (40.1\\%)   & 30 (7.81\\%)   \\\\\n",
       "\t 2017            & 2316            & 645 (27.85\\%)  & 163 (25.27\\%)  & 179 (27.75\\%)  & 258 (40\\%)     & 45 (6.98\\%)   \\\\\n",
       "\t 2018            & 2861            & 747 (26.11\\%)  & 284 (38.02\\%)  & 267 (35.74\\%)  & 129 (17.27\\%)  & 67 (8.97\\%)   \\\\\n",
       "\t 2019            & 5153            & 1389 (26.96\\%) & 527 (37.94\\%)  & 599 (43.12\\%)  & 162 (11.66\\%)  & 101 (7.27\\%)  \\\\\n",
       "\t Total           & 17577           & 4580 (26.06\\%) & 1391 (30.37\\%) & 1492 (32.58\\%) & 1371 (29.93\\%) & 326 (7.12\\%)  \\\\\n",
       "\\end{tabular}\n"
      ],
      "text/markdown": [
       "\n",
       "| year | totalTweets | confidentTweets | positiveConfident | negativeConfident | neutralConfident | mixedConfident |\n",
       "|---|---|---|---|---|---|---|\n",
       "| 2008          | 6             | 1 (16.67%)    | 0 (0%)        | 0 (0%)        | 0 (0%)        | 1 (100%)      |\n",
       "| 2009          | 97            | 18 (18.56%)   | 7 (38.89%)    | 2 (11.11%)    | 8 (44.44%)    | 1 (5.56%)     |\n",
       "| 2010          | 384           | 95 (24.74%)   | 17 (17.89%)   | 16 (16.84%)   | 58 (61.05%)   | 4 (4.21%)     |\n",
       "| 2011          | 582           | 121 (20.79%)  | 30 (24.79%)   | 18 (14.88%)   | 67 (55.37%)   | 6 (4.96%)     |\n",
       "| 2012          | 1473          | 381 (25.87%)  | 76 (19.95%)   | 140 (36.75%)  | 137 (35.96%)  | 28 (7.35%)    |\n",
       "| 2013          | 1160          | 289 (24.91%)  | 63 (21.8%)    | 75 (25.95%)   | 138 (47.75%)  | 13 (4.5%)     |\n",
       "| 2014          | 933           | 250 (26.8%)   | 50 (20%)      | 44 (17.6%)    | 146 (58.4%)   | 10 (4%)       |\n",
       "| 2015          | 1023          | 260 (25.42%)  | 64 (24.62%)   | 62 (23.85%)   | 114 (43.85%)  | 20 (7.69%)    |\n",
       "| 2016          | 1589          | 384 (24.17%)  | 110 (28.65%)  | 90 (23.44%)   | 154 (40.1%)   | 30 (7.81%)    |\n",
       "| 2017          | 2316          | 645 (27.85%)  | 163 (25.27%)  | 179 (27.75%)  | 258 (40%)     | 45 (6.98%)    |\n",
       "| 2018          | 2861          | 747 (26.11%)  | 284 (38.02%)  | 267 (35.74%)  | 129 (17.27%)  | 67 (8.97%)    |\n",
       "| 2019          | 5153          | 1389 (26.96%) | 527 (37.94%)  | 599 (43.12%)  | 162 (11.66%)  | 101 (7.27%)   |\n",
       "| Total         | 17577         | 4580 (26.06%) | 1391 (30.37%) | 1492 (32.58%) | 1371 (29.93%) | 326 (7.12%)   |\n",
       "\n"
      ],
      "text/plain": [
       "   year  totalTweets confidentTweets positiveConfident negativeConfident\n",
       "1  2008  6           1 (16.67%)      0 (0%)            0 (0%)           \n",
       "2  2009  97          18 (18.56%)     7 (38.89%)        2 (11.11%)       \n",
       "3  2010  384         95 (24.74%)     17 (17.89%)       16 (16.84%)      \n",
       "4  2011  582         121 (20.79%)    30 (24.79%)       18 (14.88%)      \n",
       "5  2012  1473        381 (25.87%)    76 (19.95%)       140 (36.75%)     \n",
       "6  2013  1160        289 (24.91%)    63 (21.8%)        75 (25.95%)      \n",
       "7  2014  933         250 (26.8%)     50 (20%)          44 (17.6%)       \n",
       "8  2015  1023        260 (25.42%)    64 (24.62%)       62 (23.85%)      \n",
       "9  2016  1589        384 (24.17%)    110 (28.65%)      90 (23.44%)      \n",
       "10 2017  2316        645 (27.85%)    163 (25.27%)      179 (27.75%)     \n",
       "11 2018  2861        747 (26.11%)    284 (38.02%)      267 (35.74%)     \n",
       "12 2019  5153        1389 (26.96%)   527 (37.94%)      599 (43.12%)     \n",
       "13 Total 17577       4580 (26.06%)   1391 (30.37%)     1492 (32.58%)    \n",
       "   neutralConfident mixedConfident\n",
       "1  0 (0%)           1 (100%)      \n",
       "2  8 (44.44%)       1 (5.56%)     \n",
       "3  58 (61.05%)      4 (4.21%)     \n",
       "4  67 (55.37%)      6 (4.96%)     \n",
       "5  137 (35.96%)     28 (7.35%)    \n",
       "6  138 (47.75%)     13 (4.5%)     \n",
       "7  146 (58.4%)      10 (4%)       \n",
       "8  114 (43.85%)     20 (7.69%)    \n",
       "9  154 (40.1%)      30 (7.81%)    \n",
       "10 258 (40%)        45 (6.98%)    \n",
       "11 129 (17.27%)     67 (8.97%)    \n",
       "12 162 (11.66%)     101 (7.27%)   \n",
       "13 1371 (29.93%)    326 (7.12%)   "
      ]
     },
     "metadata": {},
     "output_type": "display_data"
    }
   ],
   "source": [
    "##############\n",
    "# Copper IUD #\n",
    "##############\n",
    "polarityResultsByYear <- polarityAnalysis( categories = \"copperIUD\" )\n",
    "dim(polarityResultsByYear)\n",
    "\n",
    "summaryResults <- polarityByYear( polarityResults = polarityResultsByYear, confidence = confidenceScore,\n",
    "                                  outputPath = \"/home/ec2-user/SageMaker/polarityPerYear/\", outputName = \"copperIUD\" )\n",
    "summaryResults"
   ]
  },
  {
   "cell_type": "code",
   "execution_count": 34,
   "metadata": {},
   "outputs": [
    {
     "data": {
      "text/html": [
       "<ol class=list-inline>\n",
       "\t<li>17577</li>\n",
       "\t<li>10</li>\n",
       "</ol>\n"
      ],
      "text/latex": [
       "\\begin{enumerate*}\n",
       "\\item 17577\n",
       "\\item 10\n",
       "\\end{enumerate*}\n"
      ],
      "text/markdown": [
       "1. 17577\n",
       "2. 10\n",
       "\n",
       "\n"
      ],
      "text/plain": [
       "[1] 17577    10"
      ]
     },
     "metadata": {},
     "output_type": "display_data"
    },
    {
     "name": "stdout",
     "output_type": "stream",
     "text": [
      "[1] \"There are a total of 17577 tweets in this category\"\n",
      "[1] \"There are a total of 17577 tweets in this category with 0confidence\"\n"
     ]
    },
    {
     "data": {
      "text/html": [
       "<table>\n",
       "<thead><tr><th scope=col>year</th><th scope=col>totalTweets</th><th scope=col>confidentTweets</th><th scope=col>positiveConfident</th><th scope=col>negativeConfident</th><th scope=col>neutralConfident</th><th scope=col>mixedConfident</th></tr></thead>\n",
       "<tbody>\n",
       "\t<tr><td>2008         </td><td>6            </td><td>6 (100%)     </td><td>2 (33.33%)   </td><td>2 (33.33%)   </td><td>1 (16.67%)   </td><td>1 (16.67%)   </td></tr>\n",
       "\t<tr><td>2009         </td><td>97           </td><td>97 (100%)    </td><td>20 (20.62%)  </td><td>37 (38.14%)  </td><td>34 (35.05%)  </td><td>6 (6.19%)    </td></tr>\n",
       "\t<tr><td>2010         </td><td>384          </td><td>384 (100%)   </td><td>57 (14.84%)  </td><td>91 (23.7%)   </td><td>223 (58.07%) </td><td>13 (3.39%)   </td></tr>\n",
       "\t<tr><td>2011         </td><td>582          </td><td>582 (100%)   </td><td>117 (20.1%)  </td><td>140 (24.05%) </td><td>292 (50.17%) </td><td>33 (5.67%)   </td></tr>\n",
       "\t<tr><td>2012         </td><td>1473         </td><td>1473 (100%)  </td><td>248 (16.84%) </td><td>537 (36.46%) </td><td>603 (40.94%) </td><td>85 (5.77%)   </td></tr>\n",
       "\t<tr><td>2013         </td><td>1160         </td><td>1160 (100%)  </td><td>225 (19.4%)  </td><td>338 (29.14%) </td><td>549 (47.33%) </td><td>48 (4.14%)   </td></tr>\n",
       "\t<tr><td>2014         </td><td>933          </td><td>933 (100%)   </td><td>164 (17.58%) </td><td>267 (28.62%) </td><td>467 (50.05%) </td><td>35 (3.75%)   </td></tr>\n",
       "\t<tr><td>2015         </td><td>1023         </td><td>1023 (100%)  </td><td>220 (21.51%) </td><td>309 (30.21%) </td><td>444 (43.4%)  </td><td>50 (4.89%)   </td></tr>\n",
       "\t<tr><td>2016         </td><td>1589         </td><td>1589 (100%)  </td><td>360 (22.66%) </td><td>539 (33.92%) </td><td>608 (38.26%) </td><td>82 (5.16%)   </td></tr>\n",
       "\t<tr><td>2017         </td><td>2316         </td><td>2316 (100%)  </td><td>506 (21.85%) </td><td>780 (33.68%) </td><td>904 (39.03%) </td><td>126 (5.44%)  </td></tr>\n",
       "\t<tr><td>2018         </td><td>2861         </td><td>2861 (100%)  </td><td>792 (27.68%) </td><td>1071 (37.43%)</td><td>801 (28%)    </td><td>197 (6.89%)  </td></tr>\n",
       "\t<tr><td>2019         </td><td>5153         </td><td>5153 (100%)  </td><td>1339 (25.98%)</td><td>2129 (41.32%)</td><td>1337 (25.95%)</td><td>348 (6.75%)  </td></tr>\n",
       "\t<tr><td>Total        </td><td>17577        </td><td>17577 (100%) </td><td>4050 (23.04%)</td><td>6240 (35.5%) </td><td>6263 (35.63%)</td><td>1024 (5.83%) </td></tr>\n",
       "</tbody>\n",
       "</table>\n"
      ],
      "text/latex": [
       "\\begin{tabular}{r|lllllll}\n",
       " year & totalTweets & confidentTweets & positiveConfident & negativeConfident & neutralConfident & mixedConfident\\\\\n",
       "\\hline\n",
       "\t 2008            & 6               & 6 (100\\%)      & 2 (33.33\\%)    & 2 (33.33\\%)    & 1 (16.67\\%)    & 1 (16.67\\%)   \\\\\n",
       "\t 2009            & 97              & 97 (100\\%)     & 20 (20.62\\%)   & 37 (38.14\\%)   & 34 (35.05\\%)   & 6 (6.19\\%)    \\\\\n",
       "\t 2010            & 384             & 384 (100\\%)    & 57 (14.84\\%)   & 91 (23.7\\%)    & 223 (58.07\\%)  & 13 (3.39\\%)   \\\\\n",
       "\t 2011            & 582             & 582 (100\\%)    & 117 (20.1\\%)   & 140 (24.05\\%)  & 292 (50.17\\%)  & 33 (5.67\\%)   \\\\\n",
       "\t 2012            & 1473            & 1473 (100\\%)   & 248 (16.84\\%)  & 537 (36.46\\%)  & 603 (40.94\\%)  & 85 (5.77\\%)   \\\\\n",
       "\t 2013            & 1160            & 1160 (100\\%)   & 225 (19.4\\%)   & 338 (29.14\\%)  & 549 (47.33\\%)  & 48 (4.14\\%)   \\\\\n",
       "\t 2014            & 933             & 933 (100\\%)    & 164 (17.58\\%)  & 267 (28.62\\%)  & 467 (50.05\\%)  & 35 (3.75\\%)   \\\\\n",
       "\t 2015            & 1023            & 1023 (100\\%)   & 220 (21.51\\%)  & 309 (30.21\\%)  & 444 (43.4\\%)   & 50 (4.89\\%)   \\\\\n",
       "\t 2016            & 1589            & 1589 (100\\%)   & 360 (22.66\\%)  & 539 (33.92\\%)  & 608 (38.26\\%)  & 82 (5.16\\%)   \\\\\n",
       "\t 2017            & 2316            & 2316 (100\\%)   & 506 (21.85\\%)  & 780 (33.68\\%)  & 904 (39.03\\%)  & 126 (5.44\\%)  \\\\\n",
       "\t 2018            & 2861            & 2861 (100\\%)   & 792 (27.68\\%)  & 1071 (37.43\\%) & 801 (28\\%)     & 197 (6.89\\%)  \\\\\n",
       "\t 2019            & 5153            & 5153 (100\\%)   & 1339 (25.98\\%) & 2129 (41.32\\%) & 1337 (25.95\\%) & 348 (6.75\\%)  \\\\\n",
       "\t Total           & 17577           & 17577 (100\\%)  & 4050 (23.04\\%) & 6240 (35.5\\%)  & 6263 (35.63\\%) & 1024 (5.83\\%) \\\\\n",
       "\\end{tabular}\n"
      ],
      "text/markdown": [
       "\n",
       "| year | totalTweets | confidentTweets | positiveConfident | negativeConfident | neutralConfident | mixedConfident |\n",
       "|---|---|---|---|---|---|---|\n",
       "| 2008          | 6             | 6 (100%)      | 2 (33.33%)    | 2 (33.33%)    | 1 (16.67%)    | 1 (16.67%)    |\n",
       "| 2009          | 97            | 97 (100%)     | 20 (20.62%)   | 37 (38.14%)   | 34 (35.05%)   | 6 (6.19%)     |\n",
       "| 2010          | 384           | 384 (100%)    | 57 (14.84%)   | 91 (23.7%)    | 223 (58.07%)  | 13 (3.39%)    |\n",
       "| 2011          | 582           | 582 (100%)    | 117 (20.1%)   | 140 (24.05%)  | 292 (50.17%)  | 33 (5.67%)    |\n",
       "| 2012          | 1473          | 1473 (100%)   | 248 (16.84%)  | 537 (36.46%)  | 603 (40.94%)  | 85 (5.77%)    |\n",
       "| 2013          | 1160          | 1160 (100%)   | 225 (19.4%)   | 338 (29.14%)  | 549 (47.33%)  | 48 (4.14%)    |\n",
       "| 2014          | 933           | 933 (100%)    | 164 (17.58%)  | 267 (28.62%)  | 467 (50.05%)  | 35 (3.75%)    |\n",
       "| 2015          | 1023          | 1023 (100%)   | 220 (21.51%)  | 309 (30.21%)  | 444 (43.4%)   | 50 (4.89%)    |\n",
       "| 2016          | 1589          | 1589 (100%)   | 360 (22.66%)  | 539 (33.92%)  | 608 (38.26%)  | 82 (5.16%)    |\n",
       "| 2017          | 2316          | 2316 (100%)   | 506 (21.85%)  | 780 (33.68%)  | 904 (39.03%)  | 126 (5.44%)   |\n",
       "| 2018          | 2861          | 2861 (100%)   | 792 (27.68%)  | 1071 (37.43%) | 801 (28%)     | 197 (6.89%)   |\n",
       "| 2019          | 5153          | 5153 (100%)   | 1339 (25.98%) | 2129 (41.32%) | 1337 (25.95%) | 348 (6.75%)   |\n",
       "| Total         | 17577         | 17577 (100%)  | 4050 (23.04%) | 6240 (35.5%)  | 6263 (35.63%) | 1024 (5.83%)  |\n",
       "\n"
      ],
      "text/plain": [
       "   year  totalTweets confidentTweets positiveConfident negativeConfident\n",
       "1  2008  6           6 (100%)        2 (33.33%)        2 (33.33%)       \n",
       "2  2009  97          97 (100%)       20 (20.62%)       37 (38.14%)      \n",
       "3  2010  384         384 (100%)      57 (14.84%)       91 (23.7%)       \n",
       "4  2011  582         582 (100%)      117 (20.1%)       140 (24.05%)     \n",
       "5  2012  1473        1473 (100%)     248 (16.84%)      537 (36.46%)     \n",
       "6  2013  1160        1160 (100%)     225 (19.4%)       338 (29.14%)     \n",
       "7  2014  933         933 (100%)      164 (17.58%)      267 (28.62%)     \n",
       "8  2015  1023        1023 (100%)     220 (21.51%)      309 (30.21%)     \n",
       "9  2016  1589        1589 (100%)     360 (22.66%)      539 (33.92%)     \n",
       "10 2017  2316        2316 (100%)     506 (21.85%)      780 (33.68%)     \n",
       "11 2018  2861        2861 (100%)     792 (27.68%)      1071 (37.43%)    \n",
       "12 2019  5153        5153 (100%)     1339 (25.98%)     2129 (41.32%)    \n",
       "13 Total 17577       17577 (100%)    4050 (23.04%)     6240 (35.5%)     \n",
       "   neutralConfident mixedConfident\n",
       "1  1 (16.67%)       1 (16.67%)    \n",
       "2  34 (35.05%)      6 (6.19%)     \n",
       "3  223 (58.07%)     13 (3.39%)    \n",
       "4  292 (50.17%)     33 (5.67%)    \n",
       "5  603 (40.94%)     85 (5.77%)    \n",
       "6  549 (47.33%)     48 (4.14%)    \n",
       "7  467 (50.05%)     35 (3.75%)    \n",
       "8  444 (43.4%)      50 (4.89%)    \n",
       "9  608 (38.26%)     82 (5.16%)    \n",
       "10 904 (39.03%)     126 (5.44%)   \n",
       "11 801 (28%)        197 (6.89%)   \n",
       "12 1337 (25.95%)    348 (6.75%)   \n",
       "13 6263 (35.63%)    1024 (5.83%)  "
      ]
     },
     "metadata": {},
     "output_type": "display_data"
    }
   ],
   "source": [
    "####################################\n",
    "# Copper IUD all confidence scores #\n",
    "####################################\n",
    "polarityResultsByYear <- polarityAnalysis( categories = \"copperIUD\" )\n",
    "dim(polarityResultsByYear)\n",
    "\n",
    "summaryResults <- polarityByYear( polarityResults = polarityResultsByYear, confidence = 0,\n",
    "                                  outputPath = \"/home/ec2-user/SageMaker/polarityPerYear/\", outputName = \"copperIUD\" )\n",
    "summaryResults"
   ]
  },
  {
   "cell_type": "code",
   "execution_count": 46,
   "metadata": {},
   "outputs": [
    {
     "data": {
      "text/html": [
       "<ol class=list-inline>\n",
       "\t<li>11500</li>\n",
       "\t<li>10</li>\n",
       "</ol>\n"
      ],
      "text/latex": [
       "\\begin{enumerate*}\n",
       "\\item 11500\n",
       "\\item 10\n",
       "\\end{enumerate*}\n"
      ],
      "text/markdown": [
       "1. 11500\n",
       "2. 10\n",
       "\n",
       "\n"
      ],
      "text/plain": [
       "[1] 11500    10"
      ]
     },
     "metadata": {},
     "output_type": "display_data"
    },
    {
     "name": "stdout",
     "output_type": "stream",
     "text": [
      "[1] \"There are a total of 11500 tweets in this category\"\n",
      "[1] \"There are a total of 3729 tweets in this category with 0.95confidence\"\n"
     ]
    },
    {
     "data": {
      "text/html": [
       "<table>\n",
       "<thead><tr><th scope=col>year</th><th scope=col>totalTweets</th><th scope=col>confidentTweets</th><th scope=col>positiveConfident</th><th scope=col>negativeConfident</th><th scope=col>neutralConfident</th><th scope=col>mixedConfident</th></tr></thead>\n",
       "<tbody>\n",
       "\t<tr><td>2008         </td><td>6            </td><td>1 (16.67%)   </td><td>0 (0%)       </td><td>0 (0%)       </td><td>0 (0%)       </td><td>1 (100%)     </td></tr>\n",
       "\t<tr><td>2009         </td><td>174          </td><td>53 (30.46%)  </td><td>5 (9.43%)    </td><td>8 (15.09%)   </td><td>37 (69.81%)  </td><td>3 (5.66%)    </td></tr>\n",
       "\t<tr><td>2010         </td><td>381          </td><td>106 (27.82%) </td><td>18 (16.98%)  </td><td>15 (14.15%)  </td><td>69 (65.09%)  </td><td>4 (3.77%)    </td></tr>\n",
       "\t<tr><td>2011         </td><td>481          </td><td>123 (25.57%) </td><td>10 (8.13%)   </td><td>17 (13.82%)  </td><td>92 (74.8%)   </td><td>4 (3.25%)    </td></tr>\n",
       "\t<tr><td>2012         </td><td>890          </td><td>267 (30%)    </td><td>15 (5.62%)   </td><td>62 (23.22%)  </td><td>183 (68.54%) </td><td>7 (2.62%)    </td></tr>\n",
       "\t<tr><td>2013         </td><td>1658         </td><td>684 (41.25%) </td><td>41 (5.99%)   </td><td>71 (10.38%)  </td><td>569 (83.19%) </td><td>3 (0.44%)    </td></tr>\n",
       "\t<tr><td>2014         </td><td>839          </td><td>351 (41.84%) </td><td>27 (7.69%)   </td><td>34 (9.69%)   </td><td>287 (81.77%) </td><td>3 (0.85%)    </td></tr>\n",
       "\t<tr><td>2015         </td><td>731          </td><td>253 (34.61%) </td><td>41 (16.21%)  </td><td>31 (12.25%)  </td><td>178 (70.36%) </td><td>3 (1.19%)    </td></tr>\n",
       "\t<tr><td>2016         </td><td>945          </td><td>280 (29.63%) </td><td>62 (22.14%)  </td><td>43 (15.36%)  </td><td>167 (59.64%) </td><td>8 (2.86%)    </td></tr>\n",
       "\t<tr><td>2017         </td><td>1235         </td><td>355 (28.74%) </td><td>98 (27.61%)  </td><td>51 (14.37%)  </td><td>183 (51.55%) </td><td>23 (6.48%)   </td></tr>\n",
       "\t<tr><td>2018         </td><td>1686         </td><td>499 (29.6%)  </td><td>219 (43.89%) </td><td>101 (20.24%) </td><td>145 (29.06%) </td><td>34 (6.81%)   </td></tr>\n",
       "\t<tr><td>2019         </td><td>2474         </td><td>757 (30.6%)  </td><td>384 (50.73%) </td><td>157 (20.74%) </td><td>161 (21.27%) </td><td>55 (7.27%)   </td></tr>\n",
       "\t<tr><td>Total        </td><td>11500        </td><td>3729 (32.43%)</td><td>920 (24.67%) </td><td>590 (15.82%) </td><td>2071 (55.54%)</td><td>148 (3.97%)  </td></tr>\n",
       "</tbody>\n",
       "</table>\n"
      ],
      "text/latex": [
       "\\begin{tabular}{r|lllllll}\n",
       " year & totalTweets & confidentTweets & positiveConfident & negativeConfident & neutralConfident & mixedConfident\\\\\n",
       "\\hline\n",
       "\t 2008            & 6               & 1 (16.67\\%)    & 0 (0\\%)        & 0 (0\\%)        & 0 (0\\%)        & 1 (100\\%)     \\\\\n",
       "\t 2009            & 174             & 53 (30.46\\%)   & 5 (9.43\\%)     & 8 (15.09\\%)    & 37 (69.81\\%)   & 3 (5.66\\%)    \\\\\n",
       "\t 2010            & 381             & 106 (27.82\\%)  & 18 (16.98\\%)   & 15 (14.15\\%)   & 69 (65.09\\%)   & 4 (3.77\\%)    \\\\\n",
       "\t 2011            & 481             & 123 (25.57\\%)  & 10 (8.13\\%)    & 17 (13.82\\%)   & 92 (74.8\\%)    & 4 (3.25\\%)    \\\\\n",
       "\t 2012            & 890             & 267 (30\\%)     & 15 (5.62\\%)    & 62 (23.22\\%)   & 183 (68.54\\%)  & 7 (2.62\\%)    \\\\\n",
       "\t 2013            & 1658            & 684 (41.25\\%)  & 41 (5.99\\%)    & 71 (10.38\\%)   & 569 (83.19\\%)  & 3 (0.44\\%)    \\\\\n",
       "\t 2014            & 839             & 351 (41.84\\%)  & 27 (7.69\\%)    & 34 (9.69\\%)    & 287 (81.77\\%)  & 3 (0.85\\%)    \\\\\n",
       "\t 2015            & 731             & 253 (34.61\\%)  & 41 (16.21\\%)   & 31 (12.25\\%)   & 178 (70.36\\%)  & 3 (1.19\\%)    \\\\\n",
       "\t 2016            & 945             & 280 (29.63\\%)  & 62 (22.14\\%)   & 43 (15.36\\%)   & 167 (59.64\\%)  & 8 (2.86\\%)    \\\\\n",
       "\t 2017            & 1235            & 355 (28.74\\%)  & 98 (27.61\\%)   & 51 (14.37\\%)   & 183 (51.55\\%)  & 23 (6.48\\%)   \\\\\n",
       "\t 2018            & 1686            & 499 (29.6\\%)   & 219 (43.89\\%)  & 101 (20.24\\%)  & 145 (29.06\\%)  & 34 (6.81\\%)   \\\\\n",
       "\t 2019            & 2474            & 757 (30.6\\%)   & 384 (50.73\\%)  & 157 (20.74\\%)  & 161 (21.27\\%)  & 55 (7.27\\%)   \\\\\n",
       "\t Total           & 11500           & 3729 (32.43\\%) & 920 (24.67\\%)  & 590 (15.82\\%)  & 2071 (55.54\\%) & 148 (3.97\\%)  \\\\\n",
       "\\end{tabular}\n"
      ],
      "text/markdown": [
       "\n",
       "| year | totalTweets | confidentTweets | positiveConfident | negativeConfident | neutralConfident | mixedConfident |\n",
       "|---|---|---|---|---|---|---|\n",
       "| 2008          | 6             | 1 (16.67%)    | 0 (0%)        | 0 (0%)        | 0 (0%)        | 1 (100%)      |\n",
       "| 2009          | 174           | 53 (30.46%)   | 5 (9.43%)     | 8 (15.09%)    | 37 (69.81%)   | 3 (5.66%)     |\n",
       "| 2010          | 381           | 106 (27.82%)  | 18 (16.98%)   | 15 (14.15%)   | 69 (65.09%)   | 4 (3.77%)     |\n",
       "| 2011          | 481           | 123 (25.57%)  | 10 (8.13%)    | 17 (13.82%)   | 92 (74.8%)    | 4 (3.25%)     |\n",
       "| 2012          | 890           | 267 (30%)     | 15 (5.62%)    | 62 (23.22%)   | 183 (68.54%)  | 7 (2.62%)     |\n",
       "| 2013          | 1658          | 684 (41.25%)  | 41 (5.99%)    | 71 (10.38%)   | 569 (83.19%)  | 3 (0.44%)     |\n",
       "| 2014          | 839           | 351 (41.84%)  | 27 (7.69%)    | 34 (9.69%)    | 287 (81.77%)  | 3 (0.85%)     |\n",
       "| 2015          | 731           | 253 (34.61%)  | 41 (16.21%)   | 31 (12.25%)   | 178 (70.36%)  | 3 (1.19%)     |\n",
       "| 2016          | 945           | 280 (29.63%)  | 62 (22.14%)   | 43 (15.36%)   | 167 (59.64%)  | 8 (2.86%)     |\n",
       "| 2017          | 1235          | 355 (28.74%)  | 98 (27.61%)   | 51 (14.37%)   | 183 (51.55%)  | 23 (6.48%)    |\n",
       "| 2018          | 1686          | 499 (29.6%)   | 219 (43.89%)  | 101 (20.24%)  | 145 (29.06%)  | 34 (6.81%)    |\n",
       "| 2019          | 2474          | 757 (30.6%)   | 384 (50.73%)  | 157 (20.74%)  | 161 (21.27%)  | 55 (7.27%)    |\n",
       "| Total         | 11500         | 3729 (32.43%) | 920 (24.67%)  | 590 (15.82%)  | 2071 (55.54%) | 148 (3.97%)   |\n",
       "\n"
      ],
      "text/plain": [
       "   year  totalTweets confidentTweets positiveConfident negativeConfident\n",
       "1  2008  6           1 (16.67%)      0 (0%)            0 (0%)           \n",
       "2  2009  174         53 (30.46%)     5 (9.43%)         8 (15.09%)       \n",
       "3  2010  381         106 (27.82%)    18 (16.98%)       15 (14.15%)      \n",
       "4  2011  481         123 (25.57%)    10 (8.13%)        17 (13.82%)      \n",
       "5  2012  890         267 (30%)       15 (5.62%)        62 (23.22%)      \n",
       "6  2013  1658        684 (41.25%)    41 (5.99%)        71 (10.38%)      \n",
       "7  2014  839         351 (41.84%)    27 (7.69%)        34 (9.69%)       \n",
       "8  2015  731         253 (34.61%)    41 (16.21%)       31 (12.25%)      \n",
       "9  2016  945         280 (29.63%)    62 (22.14%)       43 (15.36%)      \n",
       "10 2017  1235        355 (28.74%)    98 (27.61%)       51 (14.37%)      \n",
       "11 2018  1686        499 (29.6%)     219 (43.89%)      101 (20.24%)     \n",
       "12 2019  2474        757 (30.6%)     384 (50.73%)      157 (20.74%)     \n",
       "13 Total 11500       3729 (32.43%)   920 (24.67%)      590 (15.82%)     \n",
       "   neutralConfident mixedConfident\n",
       "1  0 (0%)           1 (100%)      \n",
       "2  37 (69.81%)      3 (5.66%)     \n",
       "3  69 (65.09%)      4 (3.77%)     \n",
       "4  92 (74.8%)       4 (3.25%)     \n",
       "5  183 (68.54%)     7 (2.62%)     \n",
       "6  569 (83.19%)     3 (0.44%)     \n",
       "7  287 (81.77%)     3 (0.85%)     \n",
       "8  178 (70.36%)     3 (1.19%)     \n",
       "9  167 (59.64%)     8 (2.86%)     \n",
       "10 183 (51.55%)     23 (6.48%)    \n",
       "11 145 (29.06%)     34 (6.81%)    \n",
       "12 161 (21.27%)     55 (7.27%)    \n",
       "13 2071 (55.54%)    148 (3.97%)   "
      ]
     },
     "metadata": {},
     "output_type": "display_data"
    }
   ],
   "source": [
    "###########\n",
    "# LNG IUD #\n",
    "###########\n",
    "polarityResultsByYear <- polarityAnalysis( categories = \"LNG-IUD\" )\n",
    "dim(polarityResultsByYear)\n",
    "\n",
    "summaryResults <- polarityByYear( polarityResults = polarityResultsByYear, confidence = confidenceScore, \n",
    "                                  outputPath = \"/home/ec2-user/SageMaker/polarityPerYear/\", outputName = \"LNG-IUD\")\n",
    "summaryResults"
   ]
  },
  {
   "cell_type": "code",
   "execution_count": 35,
   "metadata": {},
   "outputs": [
    {
     "data": {
      "text/html": [
       "<ol class=list-inline>\n",
       "\t<li>11500</li>\n",
       "\t<li>10</li>\n",
       "</ol>\n"
      ],
      "text/latex": [
       "\\begin{enumerate*}\n",
       "\\item 11500\n",
       "\\item 10\n",
       "\\end{enumerate*}\n"
      ],
      "text/markdown": [
       "1. 11500\n",
       "2. 10\n",
       "\n",
       "\n"
      ],
      "text/plain": [
       "[1] 11500    10"
      ]
     },
     "metadata": {},
     "output_type": "display_data"
    },
    {
     "name": "stdout",
     "output_type": "stream",
     "text": [
      "[1] \"There are a total of 11500 tweets in this category\"\n",
      "[1] \"There are a total of 11500 tweets in this category with 0confidence\"\n"
     ]
    },
    {
     "data": {
      "text/html": [
       "<table>\n",
       "<thead><tr><th scope=col>year</th><th scope=col>totalTweets</th><th scope=col>confidentTweets</th><th scope=col>positiveConfident</th><th scope=col>negativeConfident</th><th scope=col>neutralConfident</th><th scope=col>mixedConfident</th></tr></thead>\n",
       "<tbody>\n",
       "\t<tr><td>2008         </td><td>6            </td><td>6 (100%)     </td><td>0 (0%)       </td><td>3 (50%)      </td><td>2 (33.33%)   </td><td>1 (16.67%)   </td></tr>\n",
       "\t<tr><td>2009         </td><td>174          </td><td>174 (100%)   </td><td>26 (14.94%)  </td><td>32 (18.39%)  </td><td>110 (63.22%) </td><td>6 (3.45%)    </td></tr>\n",
       "\t<tr><td>2010         </td><td>381          </td><td>381 (100%)   </td><td>51 (13.39%)  </td><td>83 (21.78%)  </td><td>233 (61.15%) </td><td>14 (3.67%)   </td></tr>\n",
       "\t<tr><td>2011         </td><td>481          </td><td>481 (100%)   </td><td>57 (11.85%)  </td><td>123 (25.57%) </td><td>289 (60.08%) </td><td>12 (2.49%)   </td></tr>\n",
       "\t<tr><td>2012         </td><td>890          </td><td>890 (100%)   </td><td>82 (9.21%)   </td><td>258 (28.99%) </td><td>528 (59.33%) </td><td>22 (2.47%)   </td></tr>\n",
       "\t<tr><td>2013         </td><td>1658         </td><td>1658 (100%)  </td><td>120 (7.24%)  </td><td>346 (20.87%) </td><td>1172 (70.69%)</td><td>20 (1.21%)   </td></tr>\n",
       "\t<tr><td>2014         </td><td>839          </td><td>839 (100%)   </td><td>80 (9.54%)   </td><td>158 (18.83%) </td><td>584 (69.61%) </td><td>17 (2.03%)   </td></tr>\n",
       "\t<tr><td>2015         </td><td>731          </td><td>731 (100%)   </td><td>126 (17.24%) </td><td>132 (18.06%) </td><td>454 (62.11%) </td><td>19 (2.6%)    </td></tr>\n",
       "\t<tr><td>2016         </td><td>945          </td><td>945 (100%)   </td><td>167 (17.67%) </td><td>215 (22.75%) </td><td>532 (56.3%)  </td><td>31 (3.28%)   </td></tr>\n",
       "\t<tr><td>2017         </td><td>1235         </td><td>1235 (100%)  </td><td>271 (21.94%) </td><td>307 (24.86%) </td><td>594 (48.1%)  </td><td>63 (5.1%)    </td></tr>\n",
       "\t<tr><td>2018         </td><td>1686         </td><td>1686 (100%)  </td><td>514 (30.49%) </td><td>460 (27.28%) </td><td>609 (36.12%) </td><td>103 (6.11%)  </td></tr>\n",
       "\t<tr><td>2019         </td><td>2474         </td><td>2474 (100%)  </td><td>846 (34.2%)  </td><td>671 (27.12%) </td><td>787 (31.81%) </td><td>170 (6.87%)  </td></tr>\n",
       "\t<tr><td>Total        </td><td>11500        </td><td>11500 (100%) </td><td>2340 (20.35%)</td><td>2788 (24.24%)</td><td>5894 (51.25%)</td><td>478 (4.16%)  </td></tr>\n",
       "</tbody>\n",
       "</table>\n"
      ],
      "text/latex": [
       "\\begin{tabular}{r|lllllll}\n",
       " year & totalTweets & confidentTweets & positiveConfident & negativeConfident & neutralConfident & mixedConfident\\\\\n",
       "\\hline\n",
       "\t 2008            & 6               & 6 (100\\%)      & 0 (0\\%)        & 3 (50\\%)       & 2 (33.33\\%)    & 1 (16.67\\%)   \\\\\n",
       "\t 2009            & 174             & 174 (100\\%)    & 26 (14.94\\%)   & 32 (18.39\\%)   & 110 (63.22\\%)  & 6 (3.45\\%)    \\\\\n",
       "\t 2010            & 381             & 381 (100\\%)    & 51 (13.39\\%)   & 83 (21.78\\%)   & 233 (61.15\\%)  & 14 (3.67\\%)   \\\\\n",
       "\t 2011            & 481             & 481 (100\\%)    & 57 (11.85\\%)   & 123 (25.57\\%)  & 289 (60.08\\%)  & 12 (2.49\\%)   \\\\\n",
       "\t 2012            & 890             & 890 (100\\%)    & 82 (9.21\\%)    & 258 (28.99\\%)  & 528 (59.33\\%)  & 22 (2.47\\%)   \\\\\n",
       "\t 2013            & 1658            & 1658 (100\\%)   & 120 (7.24\\%)   & 346 (20.87\\%)  & 1172 (70.69\\%) & 20 (1.21\\%)   \\\\\n",
       "\t 2014            & 839             & 839 (100\\%)    & 80 (9.54\\%)    & 158 (18.83\\%)  & 584 (69.61\\%)  & 17 (2.03\\%)   \\\\\n",
       "\t 2015            & 731             & 731 (100\\%)    & 126 (17.24\\%)  & 132 (18.06\\%)  & 454 (62.11\\%)  & 19 (2.6\\%)    \\\\\n",
       "\t 2016            & 945             & 945 (100\\%)    & 167 (17.67\\%)  & 215 (22.75\\%)  & 532 (56.3\\%)   & 31 (3.28\\%)   \\\\\n",
       "\t 2017            & 1235            & 1235 (100\\%)   & 271 (21.94\\%)  & 307 (24.86\\%)  & 594 (48.1\\%)   & 63 (5.1\\%)    \\\\\n",
       "\t 2018            & 1686            & 1686 (100\\%)   & 514 (30.49\\%)  & 460 (27.28\\%)  & 609 (36.12\\%)  & 103 (6.11\\%)  \\\\\n",
       "\t 2019            & 2474            & 2474 (100\\%)   & 846 (34.2\\%)   & 671 (27.12\\%)  & 787 (31.81\\%)  & 170 (6.87\\%)  \\\\\n",
       "\t Total           & 11500           & 11500 (100\\%)  & 2340 (20.35\\%) & 2788 (24.24\\%) & 5894 (51.25\\%) & 478 (4.16\\%)  \\\\\n",
       "\\end{tabular}\n"
      ],
      "text/markdown": [
       "\n",
       "| year | totalTweets | confidentTweets | positiveConfident | negativeConfident | neutralConfident | mixedConfident |\n",
       "|---|---|---|---|---|---|---|\n",
       "| 2008          | 6             | 6 (100%)      | 0 (0%)        | 3 (50%)       | 2 (33.33%)    | 1 (16.67%)    |\n",
       "| 2009          | 174           | 174 (100%)    | 26 (14.94%)   | 32 (18.39%)   | 110 (63.22%)  | 6 (3.45%)     |\n",
       "| 2010          | 381           | 381 (100%)    | 51 (13.39%)   | 83 (21.78%)   | 233 (61.15%)  | 14 (3.67%)    |\n",
       "| 2011          | 481           | 481 (100%)    | 57 (11.85%)   | 123 (25.57%)  | 289 (60.08%)  | 12 (2.49%)    |\n",
       "| 2012          | 890           | 890 (100%)    | 82 (9.21%)    | 258 (28.99%)  | 528 (59.33%)  | 22 (2.47%)    |\n",
       "| 2013          | 1658          | 1658 (100%)   | 120 (7.24%)   | 346 (20.87%)  | 1172 (70.69%) | 20 (1.21%)    |\n",
       "| 2014          | 839           | 839 (100%)    | 80 (9.54%)    | 158 (18.83%)  | 584 (69.61%)  | 17 (2.03%)    |\n",
       "| 2015          | 731           | 731 (100%)    | 126 (17.24%)  | 132 (18.06%)  | 454 (62.11%)  | 19 (2.6%)     |\n",
       "| 2016          | 945           | 945 (100%)    | 167 (17.67%)  | 215 (22.75%)  | 532 (56.3%)   | 31 (3.28%)    |\n",
       "| 2017          | 1235          | 1235 (100%)   | 271 (21.94%)  | 307 (24.86%)  | 594 (48.1%)   | 63 (5.1%)     |\n",
       "| 2018          | 1686          | 1686 (100%)   | 514 (30.49%)  | 460 (27.28%)  | 609 (36.12%)  | 103 (6.11%)   |\n",
       "| 2019          | 2474          | 2474 (100%)   | 846 (34.2%)   | 671 (27.12%)  | 787 (31.81%)  | 170 (6.87%)   |\n",
       "| Total         | 11500         | 11500 (100%)  | 2340 (20.35%) | 2788 (24.24%) | 5894 (51.25%) | 478 (4.16%)   |\n",
       "\n"
      ],
      "text/plain": [
       "   year  totalTweets confidentTweets positiveConfident negativeConfident\n",
       "1  2008  6           6 (100%)        0 (0%)            3 (50%)          \n",
       "2  2009  174         174 (100%)      26 (14.94%)       32 (18.39%)      \n",
       "3  2010  381         381 (100%)      51 (13.39%)       83 (21.78%)      \n",
       "4  2011  481         481 (100%)      57 (11.85%)       123 (25.57%)     \n",
       "5  2012  890         890 (100%)      82 (9.21%)        258 (28.99%)     \n",
       "6  2013  1658        1658 (100%)     120 (7.24%)       346 (20.87%)     \n",
       "7  2014  839         839 (100%)      80 (9.54%)        158 (18.83%)     \n",
       "8  2015  731         731 (100%)      126 (17.24%)      132 (18.06%)     \n",
       "9  2016  945         945 (100%)      167 (17.67%)      215 (22.75%)     \n",
       "10 2017  1235        1235 (100%)     271 (21.94%)      307 (24.86%)     \n",
       "11 2018  1686        1686 (100%)     514 (30.49%)      460 (27.28%)     \n",
       "12 2019  2474        2474 (100%)     846 (34.2%)       671 (27.12%)     \n",
       "13 Total 11500       11500 (100%)    2340 (20.35%)     2788 (24.24%)    \n",
       "   neutralConfident mixedConfident\n",
       "1  2 (33.33%)       1 (16.67%)    \n",
       "2  110 (63.22%)     6 (3.45%)     \n",
       "3  233 (61.15%)     14 (3.67%)    \n",
       "4  289 (60.08%)     12 (2.49%)    \n",
       "5  528 (59.33%)     22 (2.47%)    \n",
       "6  1172 (70.69%)    20 (1.21%)    \n",
       "7  584 (69.61%)     17 (2.03%)    \n",
       "8  454 (62.11%)     19 (2.6%)     \n",
       "9  532 (56.3%)      31 (3.28%)    \n",
       "10 594 (48.1%)      63 (5.1%)     \n",
       "11 609 (36.12%)     103 (6.11%)   \n",
       "12 787 (31.81%)     170 (6.87%)   \n",
       "13 5894 (51.25%)    478 (4.16%)   "
      ]
     },
     "metadata": {},
     "output_type": "display_data"
    }
   ],
   "source": [
    "#################################\n",
    "# LNG IUD all confidence scores #\n",
    "#################################\n",
    "polarityResultsByYear <- polarityAnalysis( categories = \"LNG-IUD\" )\n",
    "dim(polarityResultsByYear)\n",
    "\n",
    "summaryResults <- polarityByYear( polarityResults = polarityResultsByYear, confidence = 0, \n",
    "                                  outputPath = \"/home/ec2-user/SageMaker/polarityPerYear/\", outputName = \"LNG-IUD\")\n",
    "summaryResults"
   ]
  },
  {
   "cell_type": "code",
   "execution_count": 47,
   "metadata": {},
   "outputs": [
    {
     "data": {
      "text/html": [
       "<ol class=list-inline>\n",
       "\t<li>14568</li>\n",
       "\t<li>10</li>\n",
       "</ol>\n"
      ],
      "text/latex": [
       "\\begin{enumerate*}\n",
       "\\item 14568\n",
       "\\item 10\n",
       "\\end{enumerate*}\n"
      ],
      "text/markdown": [
       "1. 14568\n",
       "2. 10\n",
       "\n",
       "\n"
      ],
      "text/plain": [
       "[1] 14568    10"
      ]
     },
     "metadata": {},
     "output_type": "display_data"
    },
    {
     "name": "stdout",
     "output_type": "stream",
     "text": [
      "[1] \"There are a total of 14568 tweets in this category\"\n",
      "[1] \"There are a total of 4586 tweets in this category with 0.95confidence\"\n"
     ]
    },
    {
     "data": {
      "text/html": [
       "<table>\n",
       "<thead><tr><th scope=col>year</th><th scope=col>totalTweets</th><th scope=col>confidentTweets</th><th scope=col>positiveConfident</th><th scope=col>negativeConfident</th><th scope=col>neutralConfident</th><th scope=col>mixedConfident</th></tr></thead>\n",
       "<tbody>\n",
       "\t<tr><td>2007         </td><td>2            </td><td>0 (0%)       </td><td>0 (NaN%)     </td><td>0 (NaN%)     </td><td>0 (NaN%)     </td><td>0 (NaN%)     </td></tr>\n",
       "\t<tr><td>2008         </td><td>43           </td><td>16 (37.21%)  </td><td>0 (0%)       </td><td>1 (6.25%)    </td><td>15 (93.75%)  </td><td>0 (0%)       </td></tr>\n",
       "\t<tr><td>2009         </td><td>418          </td><td>134 (32.06%) </td><td>7 (5.22%)    </td><td>38 (28.36%)  </td><td>84 (62.69%)  </td><td>5 (3.73%)    </td></tr>\n",
       "\t<tr><td>2010         </td><td>1749         </td><td>562 (32.13%) </td><td>19 (3.38%)   </td><td>102 (18.15%) </td><td>427 (75.98%) </td><td>14 (2.49%)   </td></tr>\n",
       "\t<tr><td>2011         </td><td>3447         </td><td>1099 (31.88%)</td><td>21 (1.91%)   </td><td>247 (22.47%) </td><td>812 (73.89%) </td><td>19 (1.73%)   </td></tr>\n",
       "\t<tr><td>2012         </td><td>2036         </td><td>630 (30.94%) </td><td>28 (4.44%)   </td><td>262 (41.59%) </td><td>322 (51.11%) </td><td>18 (2.86%)   </td></tr>\n",
       "\t<tr><td>2013         </td><td>1434         </td><td>419 (29.22%) </td><td>24 (5.73%)   </td><td>185 (44.15%) </td><td>196 (46.78%) </td><td>14 (3.34%)   </td></tr>\n",
       "\t<tr><td>2014         </td><td>1228         </td><td>472 (38.44%) </td><td>31 (6.57%)   </td><td>135 (28.6%)  </td><td>297 (62.92%) </td><td>9 (1.91%)    </td></tr>\n",
       "\t<tr><td>2015         </td><td>692          </td><td>222 (32.08%) </td><td>16 (7.21%)   </td><td>84 (37.84%)  </td><td>116 (52.25%) </td><td>6 (2.7%)     </td></tr>\n",
       "\t<tr><td>2016         </td><td>548          </td><td>170 (31.02%) </td><td>18 (10.59%)  </td><td>83 (48.82%)  </td><td>63 (37.06%)  </td><td>6 (3.53%)    </td></tr>\n",
       "\t<tr><td>2017         </td><td>722          </td><td>207 (28.67%) </td><td>32 (15.46%)  </td><td>83 (40.1%)   </td><td>87 (42.03%)  </td><td>5 (2.42%)    </td></tr>\n",
       "\t<tr><td>2018         </td><td>798          </td><td>223 (27.94%) </td><td>47 (21.08%)  </td><td>93 (41.7%)   </td><td>74 (33.18%)  </td><td>9 (4.04%)    </td></tr>\n",
       "\t<tr><td>2019         </td><td>1451         </td><td>432 (29.77%) </td><td>92 (21.3%)   </td><td>142 (32.87%) </td><td>170 (39.35%) </td><td>28 (6.48%)   </td></tr>\n",
       "\t<tr><td>Total        </td><td>14568        </td><td>4586 (31.48%)</td><td>335 (7.3%)   </td><td>1455 (31.73%)</td><td>2663 (58.07%)</td><td>133 (2.9%)   </td></tr>\n",
       "</tbody>\n",
       "</table>\n"
      ],
      "text/latex": [
       "\\begin{tabular}{r|lllllll}\n",
       " year & totalTweets & confidentTweets & positiveConfident & negativeConfident & neutralConfident & mixedConfident\\\\\n",
       "\\hline\n",
       "\t 2007            & 2               & 0 (0\\%)        & 0 (NaN\\%)      & 0 (NaN\\%)      & 0 (NaN\\%)      & 0 (NaN\\%)     \\\\\n",
       "\t 2008            & 43              & 16 (37.21\\%)   & 0 (0\\%)        & 1 (6.25\\%)     & 15 (93.75\\%)   & 0 (0\\%)       \\\\\n",
       "\t 2009            & 418             & 134 (32.06\\%)  & 7 (5.22\\%)     & 38 (28.36\\%)   & 84 (62.69\\%)   & 5 (3.73\\%)    \\\\\n",
       "\t 2010            & 1749            & 562 (32.13\\%)  & 19 (3.38\\%)    & 102 (18.15\\%)  & 427 (75.98\\%)  & 14 (2.49\\%)   \\\\\n",
       "\t 2011            & 3447            & 1099 (31.88\\%) & 21 (1.91\\%)    & 247 (22.47\\%)  & 812 (73.89\\%)  & 19 (1.73\\%)   \\\\\n",
       "\t 2012            & 2036            & 630 (30.94\\%)  & 28 (4.44\\%)    & 262 (41.59\\%)  & 322 (51.11\\%)  & 18 (2.86\\%)   \\\\\n",
       "\t 2013            & 1434            & 419 (29.22\\%)  & 24 (5.73\\%)    & 185 (44.15\\%)  & 196 (46.78\\%)  & 14 (3.34\\%)   \\\\\n",
       "\t 2014            & 1228            & 472 (38.44\\%)  & 31 (6.57\\%)    & 135 (28.6\\%)   & 297 (62.92\\%)  & 9 (1.91\\%)    \\\\\n",
       "\t 2015            & 692             & 222 (32.08\\%)  & 16 (7.21\\%)    & 84 (37.84\\%)   & 116 (52.25\\%)  & 6 (2.7\\%)     \\\\\n",
       "\t 2016            & 548             & 170 (31.02\\%)  & 18 (10.59\\%)   & 83 (48.82\\%)   & 63 (37.06\\%)   & 6 (3.53\\%)    \\\\\n",
       "\t 2017            & 722             & 207 (28.67\\%)  & 32 (15.46\\%)   & 83 (40.1\\%)    & 87 (42.03\\%)   & 5 (2.42\\%)    \\\\\n",
       "\t 2018            & 798             & 223 (27.94\\%)  & 47 (21.08\\%)   & 93 (41.7\\%)    & 74 (33.18\\%)   & 9 (4.04\\%)    \\\\\n",
       "\t 2019            & 1451            & 432 (29.77\\%)  & 92 (21.3\\%)    & 142 (32.87\\%)  & 170 (39.35\\%)  & 28 (6.48\\%)   \\\\\n",
       "\t Total           & 14568           & 4586 (31.48\\%) & 335 (7.3\\%)    & 1455 (31.73\\%) & 2663 (58.07\\%) & 133 (2.9\\%)   \\\\\n",
       "\\end{tabular}\n"
      ],
      "text/markdown": [
       "\n",
       "| year | totalTweets | confidentTweets | positiveConfident | negativeConfident | neutralConfident | mixedConfident |\n",
       "|---|---|---|---|---|---|---|\n",
       "| 2007          | 2             | 0 (0%)        | 0 (NaN%)      | 0 (NaN%)      | 0 (NaN%)      | 0 (NaN%)      |\n",
       "| 2008          | 43            | 16 (37.21%)   | 0 (0%)        | 1 (6.25%)     | 15 (93.75%)   | 0 (0%)        |\n",
       "| 2009          | 418           | 134 (32.06%)  | 7 (5.22%)     | 38 (28.36%)   | 84 (62.69%)   | 5 (3.73%)     |\n",
       "| 2010          | 1749          | 562 (32.13%)  | 19 (3.38%)    | 102 (18.15%)  | 427 (75.98%)  | 14 (2.49%)    |\n",
       "| 2011          | 3447          | 1099 (31.88%) | 21 (1.91%)    | 247 (22.47%)  | 812 (73.89%)  | 19 (1.73%)    |\n",
       "| 2012          | 2036          | 630 (30.94%)  | 28 (4.44%)    | 262 (41.59%)  | 322 (51.11%)  | 18 (2.86%)    |\n",
       "| 2013          | 1434          | 419 (29.22%)  | 24 (5.73%)    | 185 (44.15%)  | 196 (46.78%)  | 14 (3.34%)    |\n",
       "| 2014          | 1228          | 472 (38.44%)  | 31 (6.57%)    | 135 (28.6%)   | 297 (62.92%)  | 9 (1.91%)     |\n",
       "| 2015          | 692           | 222 (32.08%)  | 16 (7.21%)    | 84 (37.84%)   | 116 (52.25%)  | 6 (2.7%)      |\n",
       "| 2016          | 548           | 170 (31.02%)  | 18 (10.59%)   | 83 (48.82%)   | 63 (37.06%)   | 6 (3.53%)     |\n",
       "| 2017          | 722           | 207 (28.67%)  | 32 (15.46%)   | 83 (40.1%)    | 87 (42.03%)   | 5 (2.42%)     |\n",
       "| 2018          | 798           | 223 (27.94%)  | 47 (21.08%)   | 93 (41.7%)    | 74 (33.18%)   | 9 (4.04%)     |\n",
       "| 2019          | 1451          | 432 (29.77%)  | 92 (21.3%)    | 142 (32.87%)  | 170 (39.35%)  | 28 (6.48%)    |\n",
       "| Total         | 14568         | 4586 (31.48%) | 335 (7.3%)    | 1455 (31.73%) | 2663 (58.07%) | 133 (2.9%)    |\n",
       "\n"
      ],
      "text/plain": [
       "   year  totalTweets confidentTweets positiveConfident negativeConfident\n",
       "1  2007  2           0 (0%)          0 (NaN%)          0 (NaN%)         \n",
       "2  2008  43          16 (37.21%)     0 (0%)            1 (6.25%)        \n",
       "3  2009  418         134 (32.06%)    7 (5.22%)         38 (28.36%)      \n",
       "4  2010  1749        562 (32.13%)    19 (3.38%)        102 (18.15%)     \n",
       "5  2011  3447        1099 (31.88%)   21 (1.91%)        247 (22.47%)     \n",
       "6  2012  2036        630 (30.94%)    28 (4.44%)        262 (41.59%)     \n",
       "7  2013  1434        419 (29.22%)    24 (5.73%)        185 (44.15%)     \n",
       "8  2014  1228        472 (38.44%)    31 (6.57%)        135 (28.6%)      \n",
       "9  2015  692         222 (32.08%)    16 (7.21%)        84 (37.84%)      \n",
       "10 2016  548         170 (31.02%)    18 (10.59%)       83 (48.82%)      \n",
       "11 2017  722         207 (28.67%)    32 (15.46%)       83 (40.1%)       \n",
       "12 2018  798         223 (27.94%)    47 (21.08%)       93 (41.7%)       \n",
       "13 2019  1451        432 (29.77%)    92 (21.3%)        142 (32.87%)     \n",
       "14 Total 14568       4586 (31.48%)   335 (7.3%)        1455 (31.73%)    \n",
       "   neutralConfident mixedConfident\n",
       "1  0 (NaN%)         0 (NaN%)      \n",
       "2  15 (93.75%)      0 (0%)        \n",
       "3  84 (62.69%)      5 (3.73%)     \n",
       "4  427 (75.98%)     14 (2.49%)    \n",
       "5  812 (73.89%)     19 (1.73%)    \n",
       "6  322 (51.11%)     18 (2.86%)    \n",
       "7  196 (46.78%)     14 (3.34%)    \n",
       "8  297 (62.92%)     9 (1.91%)     \n",
       "9  116 (52.25%)     6 (2.7%)      \n",
       "10 63 (37.06%)      6 (3.53%)     \n",
       "11 87 (42.03%)      5 (2.42%)     \n",
       "12 74 (33.18%)      9 (4.04%)     \n",
       "13 170 (39.35%)     28 (6.48%)    \n",
       "14 2663 (58.07%)    133 (2.9%)    "
      ]
     },
     "metadata": {},
     "output_type": "display_data"
    }
   ],
   "source": [
    "#############\n",
    "# The Patch #\n",
    "############\n",
    "polarityResultsByYear <- polarityAnalysis( categories = \"Patch\" )\n",
    "dim(polarityResultsByYear)\n",
    "\n",
    "summaryResults <- polarityByYear( polarityResults = polarityResultsByYear, confidence = confidenceScore, \n",
    "                                  outputPath = \"/home/ec2-user/SageMaker/polarityPerYear/\", outputName = \"Patch\")\n",
    "summaryResults"
   ]
  },
  {
   "cell_type": "code",
   "execution_count": 36,
   "metadata": {},
   "outputs": [
    {
     "data": {
      "text/html": [
       "<ol class=list-inline>\n",
       "\t<li>14568</li>\n",
       "\t<li>10</li>\n",
       "</ol>\n"
      ],
      "text/latex": [
       "\\begin{enumerate*}\n",
       "\\item 14568\n",
       "\\item 10\n",
       "\\end{enumerate*}\n"
      ],
      "text/markdown": [
       "1. 14568\n",
       "2. 10\n",
       "\n",
       "\n"
      ],
      "text/plain": [
       "[1] 14568    10"
      ]
     },
     "metadata": {},
     "output_type": "display_data"
    },
    {
     "name": "stdout",
     "output_type": "stream",
     "text": [
      "[1] \"There are a total of 14568 tweets in this category\"\n",
      "[1] \"There are a total of 14568 tweets in this category with 0confidence\"\n"
     ]
    },
    {
     "data": {
      "text/html": [
       "<table>\n",
       "<thead><tr><th scope=col>year</th><th scope=col>totalTweets</th><th scope=col>confidentTweets</th><th scope=col>positiveConfident</th><th scope=col>negativeConfident</th><th scope=col>neutralConfident</th><th scope=col>mixedConfident</th></tr></thead>\n",
       "<tbody>\n",
       "\t<tr><td>2007         </td><td>2            </td><td>2 (100%)     </td><td>1 (50%)      </td><td>0 (0%)       </td><td>1 (50%)      </td><td>0 (0%)       </td></tr>\n",
       "\t<tr><td>2008         </td><td>43           </td><td>43 (100%)    </td><td>2 (4.65%)    </td><td>6 (13.95%)   </td><td>35 (81.4%)   </td><td>0 (0%)       </td></tr>\n",
       "\t<tr><td>2009         </td><td>418          </td><td>418 (100%)   </td><td>37 (8.85%)   </td><td>151 (36.12%) </td><td>213 (50.96%) </td><td>17 (4.07%)   </td></tr>\n",
       "\t<tr><td>2010         </td><td>1749         </td><td>1749 (100%)  </td><td>124 (7.09%)  </td><td>509 (29.1%)  </td><td>1072 (61.29%)</td><td>44 (2.52%)   </td></tr>\n",
       "\t<tr><td>2011         </td><td>3447         </td><td>3447 (100%)  </td><td>214 (6.21%)  </td><td>1069 (31.01%)</td><td>2104 (61.04%)</td><td>60 (1.74%)   </td></tr>\n",
       "\t<tr><td>2012         </td><td>2036         </td><td>2036 (100%)  </td><td>170 (8.35%)  </td><td>830 (40.77%) </td><td>983 (48.28%) </td><td>53 (2.6%)    </td></tr>\n",
       "\t<tr><td>2013         </td><td>1434         </td><td>1434 (100%)  </td><td>123 (8.58%)  </td><td>595 (41.49%) </td><td>673 (46.93%) </td><td>43 (3%)      </td></tr>\n",
       "\t<tr><td>2014         </td><td>1228         </td><td>1228 (100%)  </td><td>121 (9.85%)  </td><td>387 (31.51%) </td><td>696 (56.68%) </td><td>24 (1.95%)   </td></tr>\n",
       "\t<tr><td>2015         </td><td>692          </td><td>692 (100%)   </td><td>72 (10.4%)   </td><td>254 (36.71%) </td><td>353 (51.01%) </td><td>13 (1.88%)   </td></tr>\n",
       "\t<tr><td>2016         </td><td>548          </td><td>548 (100%)   </td><td>67 (12.23%)  </td><td>244 (44.53%) </td><td>218 (39.78%) </td><td>19 (3.47%)   </td></tr>\n",
       "\t<tr><td>2017         </td><td>722          </td><td>722 (100%)   </td><td>101 (13.99%) </td><td>268 (37.12%) </td><td>331 (45.84%) </td><td>22 (3.05%)   </td></tr>\n",
       "\t<tr><td>2018         </td><td>798          </td><td>798 (100%)   </td><td>131 (16.42%) </td><td>325 (40.73%) </td><td>305 (38.22%) </td><td>37 (4.64%)   </td></tr>\n",
       "\t<tr><td>2019         </td><td>1451         </td><td>1451 (100%)  </td><td>253 (17.44%) </td><td>476 (32.8%)  </td><td>651 (44.87%) </td><td>71 (4.89%)   </td></tr>\n",
       "\t<tr><td>Total        </td><td>14568        </td><td>14568 (100%) </td><td>1416 (9.72%) </td><td>5114 (35.1%) </td><td>7635 (52.41%)</td><td>403 (2.77%)  </td></tr>\n",
       "</tbody>\n",
       "</table>\n"
      ],
      "text/latex": [
       "\\begin{tabular}{r|lllllll}\n",
       " year & totalTweets & confidentTweets & positiveConfident & negativeConfident & neutralConfident & mixedConfident\\\\\n",
       "\\hline\n",
       "\t 2007            & 2               & 2 (100\\%)      & 1 (50\\%)       & 0 (0\\%)        & 1 (50\\%)       & 0 (0\\%)       \\\\\n",
       "\t 2008            & 43              & 43 (100\\%)     & 2 (4.65\\%)     & 6 (13.95\\%)    & 35 (81.4\\%)    & 0 (0\\%)       \\\\\n",
       "\t 2009            & 418             & 418 (100\\%)    & 37 (8.85\\%)    & 151 (36.12\\%)  & 213 (50.96\\%)  & 17 (4.07\\%)   \\\\\n",
       "\t 2010            & 1749            & 1749 (100\\%)   & 124 (7.09\\%)   & 509 (29.1\\%)   & 1072 (61.29\\%) & 44 (2.52\\%)   \\\\\n",
       "\t 2011            & 3447            & 3447 (100\\%)   & 214 (6.21\\%)   & 1069 (31.01\\%) & 2104 (61.04\\%) & 60 (1.74\\%)   \\\\\n",
       "\t 2012            & 2036            & 2036 (100\\%)   & 170 (8.35\\%)   & 830 (40.77\\%)  & 983 (48.28\\%)  & 53 (2.6\\%)    \\\\\n",
       "\t 2013            & 1434            & 1434 (100\\%)   & 123 (8.58\\%)   & 595 (41.49\\%)  & 673 (46.93\\%)  & 43 (3\\%)      \\\\\n",
       "\t 2014            & 1228            & 1228 (100\\%)   & 121 (9.85\\%)   & 387 (31.51\\%)  & 696 (56.68\\%)  & 24 (1.95\\%)   \\\\\n",
       "\t 2015            & 692             & 692 (100\\%)    & 72 (10.4\\%)    & 254 (36.71\\%)  & 353 (51.01\\%)  & 13 (1.88\\%)   \\\\\n",
       "\t 2016            & 548             & 548 (100\\%)    & 67 (12.23\\%)   & 244 (44.53\\%)  & 218 (39.78\\%)  & 19 (3.47\\%)   \\\\\n",
       "\t 2017            & 722             & 722 (100\\%)    & 101 (13.99\\%)  & 268 (37.12\\%)  & 331 (45.84\\%)  & 22 (3.05\\%)   \\\\\n",
       "\t 2018            & 798             & 798 (100\\%)    & 131 (16.42\\%)  & 325 (40.73\\%)  & 305 (38.22\\%)  & 37 (4.64\\%)   \\\\\n",
       "\t 2019            & 1451            & 1451 (100\\%)   & 253 (17.44\\%)  & 476 (32.8\\%)   & 651 (44.87\\%)  & 71 (4.89\\%)   \\\\\n",
       "\t Total           & 14568           & 14568 (100\\%)  & 1416 (9.72\\%)  & 5114 (35.1\\%)  & 7635 (52.41\\%) & 403 (2.77\\%)  \\\\\n",
       "\\end{tabular}\n"
      ],
      "text/markdown": [
       "\n",
       "| year | totalTweets | confidentTweets | positiveConfident | negativeConfident | neutralConfident | mixedConfident |\n",
       "|---|---|---|---|---|---|---|\n",
       "| 2007          | 2             | 2 (100%)      | 1 (50%)       | 0 (0%)        | 1 (50%)       | 0 (0%)        |\n",
       "| 2008          | 43            | 43 (100%)     | 2 (4.65%)     | 6 (13.95%)    | 35 (81.4%)    | 0 (0%)        |\n",
       "| 2009          | 418           | 418 (100%)    | 37 (8.85%)    | 151 (36.12%)  | 213 (50.96%)  | 17 (4.07%)    |\n",
       "| 2010          | 1749          | 1749 (100%)   | 124 (7.09%)   | 509 (29.1%)   | 1072 (61.29%) | 44 (2.52%)    |\n",
       "| 2011          | 3447          | 3447 (100%)   | 214 (6.21%)   | 1069 (31.01%) | 2104 (61.04%) | 60 (1.74%)    |\n",
       "| 2012          | 2036          | 2036 (100%)   | 170 (8.35%)   | 830 (40.77%)  | 983 (48.28%)  | 53 (2.6%)     |\n",
       "| 2013          | 1434          | 1434 (100%)   | 123 (8.58%)   | 595 (41.49%)  | 673 (46.93%)  | 43 (3%)       |\n",
       "| 2014          | 1228          | 1228 (100%)   | 121 (9.85%)   | 387 (31.51%)  | 696 (56.68%)  | 24 (1.95%)    |\n",
       "| 2015          | 692           | 692 (100%)    | 72 (10.4%)    | 254 (36.71%)  | 353 (51.01%)  | 13 (1.88%)    |\n",
       "| 2016          | 548           | 548 (100%)    | 67 (12.23%)   | 244 (44.53%)  | 218 (39.78%)  | 19 (3.47%)    |\n",
       "| 2017          | 722           | 722 (100%)    | 101 (13.99%)  | 268 (37.12%)  | 331 (45.84%)  | 22 (3.05%)    |\n",
       "| 2018          | 798           | 798 (100%)    | 131 (16.42%)  | 325 (40.73%)  | 305 (38.22%)  | 37 (4.64%)    |\n",
       "| 2019          | 1451          | 1451 (100%)   | 253 (17.44%)  | 476 (32.8%)   | 651 (44.87%)  | 71 (4.89%)    |\n",
       "| Total         | 14568         | 14568 (100%)  | 1416 (9.72%)  | 5114 (35.1%)  | 7635 (52.41%) | 403 (2.77%)   |\n",
       "\n"
      ],
      "text/plain": [
       "   year  totalTweets confidentTweets positiveConfident negativeConfident\n",
       "1  2007  2           2 (100%)        1 (50%)           0 (0%)           \n",
       "2  2008  43          43 (100%)       2 (4.65%)         6 (13.95%)       \n",
       "3  2009  418         418 (100%)      37 (8.85%)        151 (36.12%)     \n",
       "4  2010  1749        1749 (100%)     124 (7.09%)       509 (29.1%)      \n",
       "5  2011  3447        3447 (100%)     214 (6.21%)       1069 (31.01%)    \n",
       "6  2012  2036        2036 (100%)     170 (8.35%)       830 (40.77%)     \n",
       "7  2013  1434        1434 (100%)     123 (8.58%)       595 (41.49%)     \n",
       "8  2014  1228        1228 (100%)     121 (9.85%)       387 (31.51%)     \n",
       "9  2015  692         692 (100%)      72 (10.4%)        254 (36.71%)     \n",
       "10 2016  548         548 (100%)      67 (12.23%)       244 (44.53%)     \n",
       "11 2017  722         722 (100%)      101 (13.99%)      268 (37.12%)     \n",
       "12 2018  798         798 (100%)      131 (16.42%)      325 (40.73%)     \n",
       "13 2019  1451        1451 (100%)     253 (17.44%)      476 (32.8%)      \n",
       "14 Total 14568       14568 (100%)    1416 (9.72%)      5114 (35.1%)     \n",
       "   neutralConfident mixedConfident\n",
       "1  1 (50%)          0 (0%)        \n",
       "2  35 (81.4%)       0 (0%)        \n",
       "3  213 (50.96%)     17 (4.07%)    \n",
       "4  1072 (61.29%)    44 (2.52%)    \n",
       "5  2104 (61.04%)    60 (1.74%)    \n",
       "6  983 (48.28%)     53 (2.6%)     \n",
       "7  673 (46.93%)     43 (3%)       \n",
       "8  696 (56.68%)     24 (1.95%)    \n",
       "9  353 (51.01%)     13 (1.88%)    \n",
       "10 218 (39.78%)     19 (3.47%)    \n",
       "11 331 (45.84%)     22 (3.05%)    \n",
       "12 305 (38.22%)     37 (4.64%)    \n",
       "13 651 (44.87%)     71 (4.89%)    \n",
       "14 7635 (52.41%)    403 (2.77%)   "
      ]
     },
     "metadata": {},
     "output_type": "display_data"
    }
   ],
   "source": [
    "###################################\n",
    "# The Patch all confidence scores #\n",
    "###################################\n",
    "polarityResultsByYear <- polarityAnalysis( categories = \"Patch\" )\n",
    "dim(polarityResultsByYear)\n",
    "\n",
    "summaryResults <- polarityByYear( polarityResults = polarityResultsByYear, confidence = 0, \n",
    "                                  outputPath = \"/home/ec2-user/SageMaker/polarityPerYear/\", outputName = \"Patch\")\n",
    "summaryResults"
   ]
  },
  {
   "cell_type": "code",
   "execution_count": 48,
   "metadata": {},
   "outputs": [
    {
     "data": {
      "text/html": [
       "<ol class=list-inline>\n",
       "\t<li>56283</li>\n",
       "\t<li>10</li>\n",
       "</ol>\n"
      ],
      "text/latex": [
       "\\begin{enumerate*}\n",
       "\\item 56283\n",
       "\\item 10\n",
       "\\end{enumerate*}\n"
      ],
      "text/markdown": [
       "1. 56283\n",
       "2. 10\n",
       "\n",
       "\n"
      ],
      "text/plain": [
       "[1] 56283    10"
      ]
     },
     "metadata": {},
     "output_type": "display_data"
    },
    {
     "name": "stdout",
     "output_type": "stream",
     "text": [
      "[1] \"There are a total of 56283 tweets in this category\"\n",
      "[1] \"There are a total of 13389 tweets in this category with 0.95confidence\"\n"
     ]
    },
    {
     "data": {
      "text/html": [
       "<table>\n",
       "<thead><tr><th scope=col>year</th><th scope=col>totalTweets</th><th scope=col>confidentTweets</th><th scope=col>positiveConfident</th><th scope=col>negativeConfident</th><th scope=col>neutralConfident</th><th scope=col>mixedConfident</th></tr></thead>\n",
       "<tbody>\n",
       "\t<tr><td>2008          </td><td>49            </td><td>17 (34.69%)   </td><td>4 (23.53%)    </td><td>9 (52.94%)    </td><td>2 (11.76%)    </td><td>2 (11.76%)    </td></tr>\n",
       "\t<tr><td>2009          </td><td>1451          </td><td>359 (24.74%)  </td><td>49 (13.65%)   </td><td>127 (35.38%)  </td><td>143 (39.83%)  </td><td>40 (11.14%)   </td></tr>\n",
       "\t<tr><td>2010          </td><td>3829          </td><td>768 (20.06%)  </td><td>85 (11.07%)   </td><td>221 (28.78%)  </td><td>344 (44.79%)  </td><td>118 (15.36%)  </td></tr>\n",
       "\t<tr><td>2011          </td><td>5813          </td><td>1175 (20.21%) </td><td>121 (10.3%)   </td><td>396 (33.7%)   </td><td>473 (40.26%)  </td><td>185 (15.74%)  </td></tr>\n",
       "\t<tr><td>2012          </td><td>9879          </td><td>2501 (25.32%) </td><td>148 (5.92%)   </td><td>732 (29.27%)  </td><td>1340 (53.58%) </td><td>281 (11.24%)  </td></tr>\n",
       "\t<tr><td>2013          </td><td>5147          </td><td>1112 (21.6%)  </td><td>106 (9.53%)   </td><td>300 (26.98%)  </td><td>552 (49.64%)  </td><td>154 (13.85%)  </td></tr>\n",
       "\t<tr><td>2014          </td><td>6873          </td><td>1579 (22.97%) </td><td>146 (9.25%)   </td><td>453 (28.69%)  </td><td>856 (54.21%)  </td><td>124 (7.85%)   </td></tr>\n",
       "\t<tr><td>2015          </td><td>4356          </td><td>935 (21.46%)  </td><td>105 (11.23%)  </td><td>306 (32.73%)  </td><td>437 (46.74%)  </td><td>87 (9.3%)     </td></tr>\n",
       "\t<tr><td>2016          </td><td>6267          </td><td>1594 (25.43%) </td><td>146 (9.16%)   </td><td>252 (15.81%)  </td><td>1105 (69.32%) </td><td>91 (5.71%)    </td></tr>\n",
       "\t<tr><td>2017          </td><td>3646          </td><td>977 (26.8%)   </td><td>179 (18.32%)  </td><td>260 (26.61%)  </td><td>444 (45.45%)  </td><td>94 (9.62%)    </td></tr>\n",
       "\t<tr><td>2018          </td><td>3936          </td><td>976 (24.8%)   </td><td>286 (29.3%)   </td><td>270 (27.66%)  </td><td>320 (32.79%)  </td><td>100 (10.25%)  </td></tr>\n",
       "\t<tr><td>2019          </td><td>5037          </td><td>1396 (27.71%) </td><td>553 (39.61%)  </td><td>334 (23.93%)  </td><td>337 (24.14%)  </td><td>172 (12.32%)  </td></tr>\n",
       "\t<tr><td>Total         </td><td>56283         </td><td>13389 (23.79%)</td><td>1928 (14.4%)  </td><td>3660 (27.34%) </td><td>6353 (47.45%) </td><td>1448 (10.81%) </td></tr>\n",
       "</tbody>\n",
       "</table>\n"
      ],
      "text/latex": [
       "\\begin{tabular}{r|lllllll}\n",
       " year & totalTweets & confidentTweets & positiveConfident & negativeConfident & neutralConfident & mixedConfident\\\\\n",
       "\\hline\n",
       "\t 2008             & 49               & 17 (34.69\\%)    & 4 (23.53\\%)     & 9 (52.94\\%)     & 2 (11.76\\%)     & 2 (11.76\\%)    \\\\\n",
       "\t 2009             & 1451             & 359 (24.74\\%)   & 49 (13.65\\%)    & 127 (35.38\\%)   & 143 (39.83\\%)   & 40 (11.14\\%)   \\\\\n",
       "\t 2010             & 3829             & 768 (20.06\\%)   & 85 (11.07\\%)    & 221 (28.78\\%)   & 344 (44.79\\%)   & 118 (15.36\\%)  \\\\\n",
       "\t 2011             & 5813             & 1175 (20.21\\%)  & 121 (10.3\\%)    & 396 (33.7\\%)    & 473 (40.26\\%)   & 185 (15.74\\%)  \\\\\n",
       "\t 2012             & 9879             & 2501 (25.32\\%)  & 148 (5.92\\%)    & 732 (29.27\\%)   & 1340 (53.58\\%)  & 281 (11.24\\%)  \\\\\n",
       "\t 2013             & 5147             & 1112 (21.6\\%)   & 106 (9.53\\%)    & 300 (26.98\\%)   & 552 (49.64\\%)   & 154 (13.85\\%)  \\\\\n",
       "\t 2014             & 6873             & 1579 (22.97\\%)  & 146 (9.25\\%)    & 453 (28.69\\%)   & 856 (54.21\\%)   & 124 (7.85\\%)   \\\\\n",
       "\t 2015             & 4356             & 935 (21.46\\%)   & 105 (11.23\\%)   & 306 (32.73\\%)   & 437 (46.74\\%)   & 87 (9.3\\%)     \\\\\n",
       "\t 2016             & 6267             & 1594 (25.43\\%)  & 146 (9.16\\%)    & 252 (15.81\\%)   & 1105 (69.32\\%)  & 91 (5.71\\%)    \\\\\n",
       "\t 2017             & 3646             & 977 (26.8\\%)    & 179 (18.32\\%)   & 260 (26.61\\%)   & 444 (45.45\\%)   & 94 (9.62\\%)    \\\\\n",
       "\t 2018             & 3936             & 976 (24.8\\%)    & 286 (29.3\\%)    & 270 (27.66\\%)   & 320 (32.79\\%)   & 100 (10.25\\%)  \\\\\n",
       "\t 2019             & 5037             & 1396 (27.71\\%)  & 553 (39.61\\%)   & 334 (23.93\\%)   & 337 (24.14\\%)   & 172 (12.32\\%)  \\\\\n",
       "\t Total            & 56283            & 13389 (23.79\\%) & 1928 (14.4\\%)   & 3660 (27.34\\%)  & 6353 (47.45\\%)  & 1448 (10.81\\%) \\\\\n",
       "\\end{tabular}\n"
      ],
      "text/markdown": [
       "\n",
       "| year | totalTweets | confidentTweets | positiveConfident | negativeConfident | neutralConfident | mixedConfident |\n",
       "|---|---|---|---|---|---|---|\n",
       "| 2008           | 49             | 17 (34.69%)    | 4 (23.53%)     | 9 (52.94%)     | 2 (11.76%)     | 2 (11.76%)     |\n",
       "| 2009           | 1451           | 359 (24.74%)   | 49 (13.65%)    | 127 (35.38%)   | 143 (39.83%)   | 40 (11.14%)    |\n",
       "| 2010           | 3829           | 768 (20.06%)   | 85 (11.07%)    | 221 (28.78%)   | 344 (44.79%)   | 118 (15.36%)   |\n",
       "| 2011           | 5813           | 1175 (20.21%)  | 121 (10.3%)    | 396 (33.7%)    | 473 (40.26%)   | 185 (15.74%)   |\n",
       "| 2012           | 9879           | 2501 (25.32%)  | 148 (5.92%)    | 732 (29.27%)   | 1340 (53.58%)  | 281 (11.24%)   |\n",
       "| 2013           | 5147           | 1112 (21.6%)   | 106 (9.53%)    | 300 (26.98%)   | 552 (49.64%)   | 154 (13.85%)   |\n",
       "| 2014           | 6873           | 1579 (22.97%)  | 146 (9.25%)    | 453 (28.69%)   | 856 (54.21%)   | 124 (7.85%)    |\n",
       "| 2015           | 4356           | 935 (21.46%)   | 105 (11.23%)   | 306 (32.73%)   | 437 (46.74%)   | 87 (9.3%)      |\n",
       "| 2016           | 6267           | 1594 (25.43%)  | 146 (9.16%)    | 252 (15.81%)   | 1105 (69.32%)  | 91 (5.71%)     |\n",
       "| 2017           | 3646           | 977 (26.8%)    | 179 (18.32%)   | 260 (26.61%)   | 444 (45.45%)   | 94 (9.62%)     |\n",
       "| 2018           | 3936           | 976 (24.8%)    | 286 (29.3%)    | 270 (27.66%)   | 320 (32.79%)   | 100 (10.25%)   |\n",
       "| 2019           | 5037           | 1396 (27.71%)  | 553 (39.61%)   | 334 (23.93%)   | 337 (24.14%)   | 172 (12.32%)   |\n",
       "| Total          | 56283          | 13389 (23.79%) | 1928 (14.4%)   | 3660 (27.34%)  | 6353 (47.45%)  | 1448 (10.81%)  |\n",
       "\n"
      ],
      "text/plain": [
       "   year  totalTweets confidentTweets positiveConfident negativeConfident\n",
       "1  2008  49          17 (34.69%)     4 (23.53%)        9 (52.94%)       \n",
       "2  2009  1451        359 (24.74%)    49 (13.65%)       127 (35.38%)     \n",
       "3  2010  3829        768 (20.06%)    85 (11.07%)       221 (28.78%)     \n",
       "4  2011  5813        1175 (20.21%)   121 (10.3%)       396 (33.7%)      \n",
       "5  2012  9879        2501 (25.32%)   148 (5.92%)       732 (29.27%)     \n",
       "6  2013  5147        1112 (21.6%)    106 (9.53%)       300 (26.98%)     \n",
       "7  2014  6873        1579 (22.97%)   146 (9.25%)       453 (28.69%)     \n",
       "8  2015  4356        935 (21.46%)    105 (11.23%)      306 (32.73%)     \n",
       "9  2016  6267        1594 (25.43%)   146 (9.16%)       252 (15.81%)     \n",
       "10 2017  3646        977 (26.8%)     179 (18.32%)      260 (26.61%)     \n",
       "11 2018  3936        976 (24.8%)     286 (29.3%)       270 (27.66%)     \n",
       "12 2019  5037        1396 (27.71%)   553 (39.61%)      334 (23.93%)     \n",
       "13 Total 56283       13389 (23.79%)  1928 (14.4%)      3660 (27.34%)    \n",
       "   neutralConfident mixedConfident\n",
       "1  2 (11.76%)       2 (11.76%)    \n",
       "2  143 (39.83%)     40 (11.14%)   \n",
       "3  344 (44.79%)     118 (15.36%)  \n",
       "4  473 (40.26%)     185 (15.74%)  \n",
       "5  1340 (53.58%)    281 (11.24%)  \n",
       "6  552 (49.64%)     154 (13.85%)  \n",
       "7  856 (54.21%)     124 (7.85%)   \n",
       "8  437 (46.74%)     87 (9.3%)     \n",
       "9  1105 (69.32%)    91 (5.71%)    \n",
       "10 444 (45.45%)     94 (9.62%)    \n",
       "11 320 (32.79%)     100 (10.25%)  \n",
       "12 337 (24.14%)     172 (12.32%)  \n",
       "13 6353 (47.45%)    1448 (10.81%) "
      ]
     },
     "metadata": {},
     "output_type": "display_data"
    }
   ],
   "source": [
    "############\n",
    "# The Ring #\n",
    "############\n",
    "polarityResultsByYear <- polarityAnalysis( categories = \"Ring\" )\n",
    "dim(polarityResultsByYear)\n",
    "\n",
    "summaryResults <- polarityByYear( polarityResults = polarityResultsByYear, confidence = confidenceScore, \n",
    "                                  outputPath = \"/home/ec2-user/SageMaker/polarityPerYear/\", outputName = \"Ring\")\n",
    "summaryResults"
   ]
  },
  {
   "cell_type": "code",
   "execution_count": 37,
   "metadata": {},
   "outputs": [
    {
     "data": {
      "text/html": [
       "<ol class=list-inline>\n",
       "\t<li>56283</li>\n",
       "\t<li>10</li>\n",
       "</ol>\n"
      ],
      "text/latex": [
       "\\begin{enumerate*}\n",
       "\\item 56283\n",
       "\\item 10\n",
       "\\end{enumerate*}\n"
      ],
      "text/markdown": [
       "1. 56283\n",
       "2. 10\n",
       "\n",
       "\n"
      ],
      "text/plain": [
       "[1] 56283    10"
      ]
     },
     "metadata": {},
     "output_type": "display_data"
    },
    {
     "name": "stdout",
     "output_type": "stream",
     "text": [
      "[1] \"There are a total of 56283 tweets in this category\"\n",
      "[1] \"There are a total of 56283 tweets in this category with 0confidence\"\n"
     ]
    },
    {
     "data": {
      "text/html": [
       "<table>\n",
       "<thead><tr><th scope=col>year</th><th scope=col>totalTweets</th><th scope=col>confidentTweets</th><th scope=col>positiveConfident</th><th scope=col>negativeConfident</th><th scope=col>neutralConfident</th><th scope=col>mixedConfident</th></tr></thead>\n",
       "<tbody>\n",
       "\t<tr><td>2008          </td><td>49            </td><td>49 (100%)     </td><td>8 (16.33%)    </td><td>20 (40.82%)   </td><td>16 (32.65%)   </td><td>5 (10.2%)     </td></tr>\n",
       "\t<tr><td>2009          </td><td>1451          </td><td>1451 (100%)   </td><td>243 (16.75%)  </td><td>464 (31.98%)  </td><td>627 (43.21%)  </td><td>117 (8.06%)   </td></tr>\n",
       "\t<tr><td>2010          </td><td>3829          </td><td>3829 (100%)   </td><td>595 (15.54%)  </td><td>1136 (29.67%) </td><td>1750 (45.7%)  </td><td>348 (9.09%)   </td></tr>\n",
       "\t<tr><td>2011          </td><td>5813          </td><td>5813 (100%)   </td><td>775 (13.33%)  </td><td>1902 (32.72%) </td><td>2594 (44.62%) </td><td>542 (9.32%)   </td></tr>\n",
       "\t<tr><td>2012          </td><td>9879          </td><td>9879 (100%)   </td><td>1033 (10.46%) </td><td>3294 (33.34%) </td><td>4797 (48.56%) </td><td>755 (7.64%)   </td></tr>\n",
       "\t<tr><td>2013          </td><td>5147          </td><td>5147 (100%)   </td><td>670 (13.02%)  </td><td>1554 (30.19%) </td><td>2535 (49.25%) </td><td>388 (7.54%)   </td></tr>\n",
       "\t<tr><td>2014          </td><td>6873          </td><td>6873 (100%)   </td><td>736 (10.71%)  </td><td>2354 (34.25%) </td><td>3330 (48.45%) </td><td>453 (6.59%)   </td></tr>\n",
       "\t<tr><td>2015          </td><td>4356          </td><td>4356 (100%)   </td><td>449 (10.31%)  </td><td>1622 (37.24%) </td><td>2029 (46.58%) </td><td>256 (5.88%)   </td></tr>\n",
       "\t<tr><td>2016          </td><td>6267          </td><td>6267 (100%)   </td><td>684 (10.91%)  </td><td>1324 (21.13%) </td><td>4002 (63.86%) </td><td>257 (4.1%)    </td></tr>\n",
       "\t<tr><td>2017          </td><td>3646          </td><td>3646 (100%)   </td><td>551 (15.11%)  </td><td>1127 (30.91%) </td><td>1706 (46.79%) </td><td>262 (7.19%)   </td></tr>\n",
       "\t<tr><td>2018          </td><td>3936          </td><td>3936 (100%)   </td><td>779 (19.79%)  </td><td>1215 (30.87%) </td><td>1653 (42%)    </td><td>289 (7.34%)   </td></tr>\n",
       "\t<tr><td>2019          </td><td>5037          </td><td>5037 (100%)   </td><td>1236 (24.54%) </td><td>1571 (31.19%) </td><td>1788 (35.5%)  </td><td>442 (8.78%)   </td></tr>\n",
       "\t<tr><td>Total         </td><td>56283         </td><td>56283 (100%)  </td><td>7759 (13.79%) </td><td>17583 (31.24%)</td><td>26827 (47.66%)</td><td>4114 (7.31%)  </td></tr>\n",
       "</tbody>\n",
       "</table>\n"
      ],
      "text/latex": [
       "\\begin{tabular}{r|lllllll}\n",
       " year & totalTweets & confidentTweets & positiveConfident & negativeConfident & neutralConfident & mixedConfident\\\\\n",
       "\\hline\n",
       "\t 2008             & 49               & 49 (100\\%)      & 8 (16.33\\%)     & 20 (40.82\\%)    & 16 (32.65\\%)    & 5 (10.2\\%)     \\\\\n",
       "\t 2009             & 1451             & 1451 (100\\%)    & 243 (16.75\\%)   & 464 (31.98\\%)   & 627 (43.21\\%)   & 117 (8.06\\%)   \\\\\n",
       "\t 2010             & 3829             & 3829 (100\\%)    & 595 (15.54\\%)   & 1136 (29.67\\%)  & 1750 (45.7\\%)   & 348 (9.09\\%)   \\\\\n",
       "\t 2011             & 5813             & 5813 (100\\%)    & 775 (13.33\\%)   & 1902 (32.72\\%)  & 2594 (44.62\\%)  & 542 (9.32\\%)   \\\\\n",
       "\t 2012             & 9879             & 9879 (100\\%)    & 1033 (10.46\\%)  & 3294 (33.34\\%)  & 4797 (48.56\\%)  & 755 (7.64\\%)   \\\\\n",
       "\t 2013             & 5147             & 5147 (100\\%)    & 670 (13.02\\%)   & 1554 (30.19\\%)  & 2535 (49.25\\%)  & 388 (7.54\\%)   \\\\\n",
       "\t 2014             & 6873             & 6873 (100\\%)    & 736 (10.71\\%)   & 2354 (34.25\\%)  & 3330 (48.45\\%)  & 453 (6.59\\%)   \\\\\n",
       "\t 2015             & 4356             & 4356 (100\\%)    & 449 (10.31\\%)   & 1622 (37.24\\%)  & 2029 (46.58\\%)  & 256 (5.88\\%)   \\\\\n",
       "\t 2016             & 6267             & 6267 (100\\%)    & 684 (10.91\\%)   & 1324 (21.13\\%)  & 4002 (63.86\\%)  & 257 (4.1\\%)    \\\\\n",
       "\t 2017             & 3646             & 3646 (100\\%)    & 551 (15.11\\%)   & 1127 (30.91\\%)  & 1706 (46.79\\%)  & 262 (7.19\\%)   \\\\\n",
       "\t 2018             & 3936             & 3936 (100\\%)    & 779 (19.79\\%)   & 1215 (30.87\\%)  & 1653 (42\\%)     & 289 (7.34\\%)   \\\\\n",
       "\t 2019             & 5037             & 5037 (100\\%)    & 1236 (24.54\\%)  & 1571 (31.19\\%)  & 1788 (35.5\\%)   & 442 (8.78\\%)   \\\\\n",
       "\t Total            & 56283            & 56283 (100\\%)   & 7759 (13.79\\%)  & 17583 (31.24\\%) & 26827 (47.66\\%) & 4114 (7.31\\%)  \\\\\n",
       "\\end{tabular}\n"
      ],
      "text/markdown": [
       "\n",
       "| year | totalTweets | confidentTweets | positiveConfident | negativeConfident | neutralConfident | mixedConfident |\n",
       "|---|---|---|---|---|---|---|\n",
       "| 2008           | 49             | 49 (100%)      | 8 (16.33%)     | 20 (40.82%)    | 16 (32.65%)    | 5 (10.2%)      |\n",
       "| 2009           | 1451           | 1451 (100%)    | 243 (16.75%)   | 464 (31.98%)   | 627 (43.21%)   | 117 (8.06%)    |\n",
       "| 2010           | 3829           | 3829 (100%)    | 595 (15.54%)   | 1136 (29.67%)  | 1750 (45.7%)   | 348 (9.09%)    |\n",
       "| 2011           | 5813           | 5813 (100%)    | 775 (13.33%)   | 1902 (32.72%)  | 2594 (44.62%)  | 542 (9.32%)    |\n",
       "| 2012           | 9879           | 9879 (100%)    | 1033 (10.46%)  | 3294 (33.34%)  | 4797 (48.56%)  | 755 (7.64%)    |\n",
       "| 2013           | 5147           | 5147 (100%)    | 670 (13.02%)   | 1554 (30.19%)  | 2535 (49.25%)  | 388 (7.54%)    |\n",
       "| 2014           | 6873           | 6873 (100%)    | 736 (10.71%)   | 2354 (34.25%)  | 3330 (48.45%)  | 453 (6.59%)    |\n",
       "| 2015           | 4356           | 4356 (100%)    | 449 (10.31%)   | 1622 (37.24%)  | 2029 (46.58%)  | 256 (5.88%)    |\n",
       "| 2016           | 6267           | 6267 (100%)    | 684 (10.91%)   | 1324 (21.13%)  | 4002 (63.86%)  | 257 (4.1%)     |\n",
       "| 2017           | 3646           | 3646 (100%)    | 551 (15.11%)   | 1127 (30.91%)  | 1706 (46.79%)  | 262 (7.19%)    |\n",
       "| 2018           | 3936           | 3936 (100%)    | 779 (19.79%)   | 1215 (30.87%)  | 1653 (42%)     | 289 (7.34%)    |\n",
       "| 2019           | 5037           | 5037 (100%)    | 1236 (24.54%)  | 1571 (31.19%)  | 1788 (35.5%)   | 442 (8.78%)    |\n",
       "| Total          | 56283          | 56283 (100%)   | 7759 (13.79%)  | 17583 (31.24%) | 26827 (47.66%) | 4114 (7.31%)   |\n",
       "\n"
      ],
      "text/plain": [
       "   year  totalTweets confidentTweets positiveConfident negativeConfident\n",
       "1  2008  49          49 (100%)       8 (16.33%)        20 (40.82%)      \n",
       "2  2009  1451        1451 (100%)     243 (16.75%)      464 (31.98%)     \n",
       "3  2010  3829        3829 (100%)     595 (15.54%)      1136 (29.67%)    \n",
       "4  2011  5813        5813 (100%)     775 (13.33%)      1902 (32.72%)    \n",
       "5  2012  9879        9879 (100%)     1033 (10.46%)     3294 (33.34%)    \n",
       "6  2013  5147        5147 (100%)     670 (13.02%)      1554 (30.19%)    \n",
       "7  2014  6873        6873 (100%)     736 (10.71%)      2354 (34.25%)    \n",
       "8  2015  4356        4356 (100%)     449 (10.31%)      1622 (37.24%)    \n",
       "9  2016  6267        6267 (100%)     684 (10.91%)      1324 (21.13%)    \n",
       "10 2017  3646        3646 (100%)     551 (15.11%)      1127 (30.91%)    \n",
       "11 2018  3936        3936 (100%)     779 (19.79%)      1215 (30.87%)    \n",
       "12 2019  5037        5037 (100%)     1236 (24.54%)     1571 (31.19%)    \n",
       "13 Total 56283       56283 (100%)    7759 (13.79%)     17583 (31.24%)   \n",
       "   neutralConfident mixedConfident\n",
       "1  16 (32.65%)      5 (10.2%)     \n",
       "2  627 (43.21%)     117 (8.06%)   \n",
       "3  1750 (45.7%)     348 (9.09%)   \n",
       "4  2594 (44.62%)    542 (9.32%)   \n",
       "5  4797 (48.56%)    755 (7.64%)   \n",
       "6  2535 (49.25%)    388 (7.54%)   \n",
       "7  3330 (48.45%)    453 (6.59%)   \n",
       "8  2029 (46.58%)    256 (5.88%)   \n",
       "9  4002 (63.86%)    257 (4.1%)    \n",
       "10 1706 (46.79%)    262 (7.19%)   \n",
       "11 1653 (42%)       289 (7.34%)   \n",
       "12 1788 (35.5%)     442 (8.78%)   \n",
       "13 26827 (47.66%)   4114 (7.31%)  "
      ]
     },
     "metadata": {},
     "output_type": "display_data"
    }
   ],
   "source": [
    "##################################\n",
    "# The Ring all confidence scores #\n",
    "##################################\n",
    "polarityResultsByYear <- polarityAnalysis( categories = \"Ring\" )\n",
    "dim(polarityResultsByYear)\n",
    "\n",
    "summaryResults <- polarityByYear( polarityResults = polarityResultsByYear, confidence = 0, \n",
    "                                  outputPath = \"/home/ec2-user/SageMaker/polarityPerYear/\", outputName = \"Ring\")\n",
    "summaryResults"
   ]
  },
  {
   "cell_type": "code",
   "execution_count": 49,
   "metadata": {},
   "outputs": [
    {
     "data": {
      "text/html": [
       "<ol class=list-inline>\n",
       "\t<li>76356</li>\n",
       "\t<li>10</li>\n",
       "</ol>\n"
      ],
      "text/latex": [
       "\\begin{enumerate*}\n",
       "\\item 76356\n",
       "\\item 10\n",
       "\\end{enumerate*}\n"
      ],
      "text/markdown": [
       "1. 76356\n",
       "2. 10\n",
       "\n",
       "\n"
      ],
      "text/plain": [
       "[1] 76356    10"
      ]
     },
     "metadata": {},
     "output_type": "display_data"
    },
    {
     "name": "stdout",
     "output_type": "stream",
     "text": [
      "[1] \"There are a total of 76356 tweets in this category\"\n",
      "[1] \"There are a total of 22724 tweets in this category with 0.95confidence\"\n"
     ]
    },
    {
     "data": {
      "text/html": [
       "<table>\n",
       "<thead><tr><th scope=col>year</th><th scope=col>totalTweets</th><th scope=col>confidentTweets</th><th scope=col>positiveConfident</th><th scope=col>negativeConfident</th><th scope=col>neutralConfident</th><th scope=col>mixedConfident</th></tr></thead>\n",
       "<tbody>\n",
       "\t<tr><td>2008          </td><td>19            </td><td>2 (10.53%)    </td><td>0 (0%)        </td><td>0 (0%)        </td><td>2 (100%)      </td><td>0 (0%)        </td></tr>\n",
       "\t<tr><td>2009          </td><td>392           </td><td>123 (31.38%)  </td><td>11 (8.94%)    </td><td>22 (17.89%)   </td><td>88 (71.54%)   </td><td>2 (1.63%)     </td></tr>\n",
       "\t<tr><td>2010          </td><td>1274          </td><td>349 (27.39%)  </td><td>45 (12.89%)   </td><td>60 (17.19%)   </td><td>237 (67.91%)  </td><td>7 (2.01%)     </td></tr>\n",
       "\t<tr><td>2011          </td><td>4409          </td><td>1225 (27.78%) </td><td>146 (11.92%)  </td><td>261 (21.31%)  </td><td>788 (64.33%)  </td><td>30 (2.45%)    </td></tr>\n",
       "\t<tr><td>2012          </td><td>5918          </td><td>1653 (27.93%) </td><td>277 (16.76%)  </td><td>588 (35.57%)  </td><td>741 (44.83%)  </td><td>47 (2.84%)    </td></tr>\n",
       "\t<tr><td>2013          </td><td>5754          </td><td>1726 (30%)    </td><td>266 (15.41%)  </td><td>618 (35.81%)  </td><td>786 (45.54%)  </td><td>56 (3.24%)    </td></tr>\n",
       "\t<tr><td>2014          </td><td>5881          </td><td>1927 (32.77%) </td><td>250 (12.97%)  </td><td>583 (30.25%)  </td><td>1039 (53.92%) </td><td>55 (2.85%)    </td></tr>\n",
       "\t<tr><td>2015          </td><td>6337          </td><td>2065 (32.59%) </td><td>292 (14.14%)  </td><td>608 (29.44%)  </td><td>1107 (53.61%) </td><td>58 (2.81%)    </td></tr>\n",
       "\t<tr><td>2016          </td><td>7294          </td><td>2240 (30.71%) </td><td>446 (19.91%)  </td><td>926 (41.34%)  </td><td>784 (35%)     </td><td>84 (3.75%)    </td></tr>\n",
       "\t<tr><td>2017          </td><td>9075          </td><td>2675 (29.48%) </td><td>706 (26.39%)  </td><td>1118 (41.79%) </td><td>713 (26.65%)  </td><td>138 (5.16%)   </td></tr>\n",
       "\t<tr><td>2018          </td><td>12171         </td><td>3442 (28.28%) </td><td>956 (27.77%)  </td><td>1574 (45.73%) </td><td>704 (20.45%)  </td><td>208 (6.04%)   </td></tr>\n",
       "\t<tr><td>2019          </td><td>17832         </td><td>5297 (29.71%) </td><td>1631 (30.79%) </td><td>2270 (42.85%) </td><td>1026 (19.37%) </td><td>370 (6.99%)   </td></tr>\n",
       "\t<tr><td>Total         </td><td>76356         </td><td>22724 (29.76%)</td><td>5026 (22.12%) </td><td>8628 (37.97%) </td><td>8015 (35.27%) </td><td>1055 (4.64%)  </td></tr>\n",
       "</tbody>\n",
       "</table>\n"
      ],
      "text/latex": [
       "\\begin{tabular}{r|lllllll}\n",
       " year & totalTweets & confidentTweets & positiveConfident & negativeConfident & neutralConfident & mixedConfident\\\\\n",
       "\\hline\n",
       "\t 2008             & 19               & 2 (10.53\\%)     & 0 (0\\%)         & 0 (0\\%)         & 2 (100\\%)       & 0 (0\\%)        \\\\\n",
       "\t 2009             & 392              & 123 (31.38\\%)   & 11 (8.94\\%)     & 22 (17.89\\%)    & 88 (71.54\\%)    & 2 (1.63\\%)     \\\\\n",
       "\t 2010             & 1274             & 349 (27.39\\%)   & 45 (12.89\\%)    & 60 (17.19\\%)    & 237 (67.91\\%)   & 7 (2.01\\%)     \\\\\n",
       "\t 2011             & 4409             & 1225 (27.78\\%)  & 146 (11.92\\%)   & 261 (21.31\\%)   & 788 (64.33\\%)   & 30 (2.45\\%)    \\\\\n",
       "\t 2012             & 5918             & 1653 (27.93\\%)  & 277 (16.76\\%)   & 588 (35.57\\%)   & 741 (44.83\\%)   & 47 (2.84\\%)    \\\\\n",
       "\t 2013             & 5754             & 1726 (30\\%)     & 266 (15.41\\%)   & 618 (35.81\\%)   & 786 (45.54\\%)   & 56 (3.24\\%)    \\\\\n",
       "\t 2014             & 5881             & 1927 (32.77\\%)  & 250 (12.97\\%)   & 583 (30.25\\%)   & 1039 (53.92\\%)  & 55 (2.85\\%)    \\\\\n",
       "\t 2015             & 6337             & 2065 (32.59\\%)  & 292 (14.14\\%)   & 608 (29.44\\%)   & 1107 (53.61\\%)  & 58 (2.81\\%)    \\\\\n",
       "\t 2016             & 7294             & 2240 (30.71\\%)  & 446 (19.91\\%)   & 926 (41.34\\%)   & 784 (35\\%)      & 84 (3.75\\%)    \\\\\n",
       "\t 2017             & 9075             & 2675 (29.48\\%)  & 706 (26.39\\%)   & 1118 (41.79\\%)  & 713 (26.65\\%)   & 138 (5.16\\%)   \\\\\n",
       "\t 2018             & 12171            & 3442 (28.28\\%)  & 956 (27.77\\%)   & 1574 (45.73\\%)  & 704 (20.45\\%)   & 208 (6.04\\%)   \\\\\n",
       "\t 2019             & 17832            & 5297 (29.71\\%)  & 1631 (30.79\\%)  & 2270 (42.85\\%)  & 1026 (19.37\\%)  & 370 (6.99\\%)   \\\\\n",
       "\t Total            & 76356            & 22724 (29.76\\%) & 5026 (22.12\\%)  & 8628 (37.97\\%)  & 8015 (35.27\\%)  & 1055 (4.64\\%)  \\\\\n",
       "\\end{tabular}\n"
      ],
      "text/markdown": [
       "\n",
       "| year | totalTweets | confidentTweets | positiveConfident | negativeConfident | neutralConfident | mixedConfident |\n",
       "|---|---|---|---|---|---|---|\n",
       "| 2008           | 19             | 2 (10.53%)     | 0 (0%)         | 0 (0%)         | 2 (100%)       | 0 (0%)         |\n",
       "| 2009           | 392            | 123 (31.38%)   | 11 (8.94%)     | 22 (17.89%)    | 88 (71.54%)    | 2 (1.63%)      |\n",
       "| 2010           | 1274           | 349 (27.39%)   | 45 (12.89%)    | 60 (17.19%)    | 237 (67.91%)   | 7 (2.01%)      |\n",
       "| 2011           | 4409           | 1225 (27.78%)  | 146 (11.92%)   | 261 (21.31%)   | 788 (64.33%)   | 30 (2.45%)     |\n",
       "| 2012           | 5918           | 1653 (27.93%)  | 277 (16.76%)   | 588 (35.57%)   | 741 (44.83%)   | 47 (2.84%)     |\n",
       "| 2013           | 5754           | 1726 (30%)     | 266 (15.41%)   | 618 (35.81%)   | 786 (45.54%)   | 56 (3.24%)     |\n",
       "| 2014           | 5881           | 1927 (32.77%)  | 250 (12.97%)   | 583 (30.25%)   | 1039 (53.92%)  | 55 (2.85%)     |\n",
       "| 2015           | 6337           | 2065 (32.59%)  | 292 (14.14%)   | 608 (29.44%)   | 1107 (53.61%)  | 58 (2.81%)     |\n",
       "| 2016           | 7294           | 2240 (30.71%)  | 446 (19.91%)   | 926 (41.34%)   | 784 (35%)      | 84 (3.75%)     |\n",
       "| 2017           | 9075           | 2675 (29.48%)  | 706 (26.39%)   | 1118 (41.79%)  | 713 (26.65%)   | 138 (5.16%)    |\n",
       "| 2018           | 12171          | 3442 (28.28%)  | 956 (27.77%)   | 1574 (45.73%)  | 704 (20.45%)   | 208 (6.04%)    |\n",
       "| 2019           | 17832          | 5297 (29.71%)  | 1631 (30.79%)  | 2270 (42.85%)  | 1026 (19.37%)  | 370 (6.99%)    |\n",
       "| Total          | 76356          | 22724 (29.76%) | 5026 (22.12%)  | 8628 (37.97%)  | 8015 (35.27%)  | 1055 (4.64%)   |\n",
       "\n"
      ],
      "text/plain": [
       "   year  totalTweets confidentTweets positiveConfident negativeConfident\n",
       "1  2008  19          2 (10.53%)      0 (0%)            0 (0%)           \n",
       "2  2009  392         123 (31.38%)    11 (8.94%)        22 (17.89%)      \n",
       "3  2010  1274        349 (27.39%)    45 (12.89%)       60 (17.19%)      \n",
       "4  2011  4409        1225 (27.78%)   146 (11.92%)      261 (21.31%)     \n",
       "5  2012  5918        1653 (27.93%)   277 (16.76%)      588 (35.57%)     \n",
       "6  2013  5754        1726 (30%)      266 (15.41%)      618 (35.81%)     \n",
       "7  2014  5881        1927 (32.77%)   250 (12.97%)      583 (30.25%)     \n",
       "8  2015  6337        2065 (32.59%)   292 (14.14%)      608 (29.44%)     \n",
       "9  2016  7294        2240 (30.71%)   446 (19.91%)      926 (41.34%)     \n",
       "10 2017  9075        2675 (29.48%)   706 (26.39%)      1118 (41.79%)    \n",
       "11 2018  12171       3442 (28.28%)   956 (27.77%)      1574 (45.73%)    \n",
       "12 2019  17832       5297 (29.71%)   1631 (30.79%)     2270 (42.85%)    \n",
       "13 Total 76356       22724 (29.76%)  5026 (22.12%)     8628 (37.97%)    \n",
       "   neutralConfident mixedConfident\n",
       "1  2 (100%)         0 (0%)        \n",
       "2  88 (71.54%)      2 (1.63%)     \n",
       "3  237 (67.91%)     7 (2.01%)     \n",
       "4  788 (64.33%)     30 (2.45%)    \n",
       "5  741 (44.83%)     47 (2.84%)    \n",
       "6  786 (45.54%)     56 (3.24%)    \n",
       "7  1039 (53.92%)    55 (2.85%)    \n",
       "8  1107 (53.61%)    58 (2.81%)    \n",
       "9  784 (35%)        84 (3.75%)    \n",
       "10 713 (26.65%)     138 (5.16%)   \n",
       "11 704 (20.45%)     208 (6.04%)   \n",
       "12 1026 (19.37%)    370 (6.99%)   \n",
       "13 8015 (35.27%)    1055 (4.64%)  "
      ]
     },
     "metadata": {},
     "output_type": "display_data"
    }
   ],
   "source": [
    "###########\n",
    "# Implant #\n",
    "###########\n",
    "polarityResultsByYear <- polarityAnalysis( categories = \"Implant\" )\n",
    "dim(polarityResultsByYear)\n",
    "\n",
    "summaryResults <- polarityByYear( polarityResults = polarityResultsByYear, confidence = confidenceScore, \n",
    "                                  outputPath = \"/home/ec2-user/SageMaker/polarityPerYear/\", outputName = \"Implant\")\n",
    "summaryResults"
   ]
  },
  {
   "cell_type": "code",
   "execution_count": 38,
   "metadata": {},
   "outputs": [
    {
     "data": {
      "text/html": [
       "<ol class=list-inline>\n",
       "\t<li>76356</li>\n",
       "\t<li>10</li>\n",
       "</ol>\n"
      ],
      "text/latex": [
       "\\begin{enumerate*}\n",
       "\\item 76356\n",
       "\\item 10\n",
       "\\end{enumerate*}\n"
      ],
      "text/markdown": [
       "1. 76356\n",
       "2. 10\n",
       "\n",
       "\n"
      ],
      "text/plain": [
       "[1] 76356    10"
      ]
     },
     "metadata": {},
     "output_type": "display_data"
    },
    {
     "name": "stdout",
     "output_type": "stream",
     "text": [
      "[1] \"There are a total of 76356 tweets in this category\"\n",
      "[1] \"There are a total of 76356 tweets in this category with 0confidence\"\n"
     ]
    },
    {
     "data": {
      "text/html": [
       "<table>\n",
       "<thead><tr><th scope=col>year</th><th scope=col>totalTweets</th><th scope=col>confidentTweets</th><th scope=col>positiveConfident</th><th scope=col>negativeConfident</th><th scope=col>neutralConfident</th><th scope=col>mixedConfident</th></tr></thead>\n",
       "<tbody>\n",
       "\t<tr><td>2008          </td><td>19            </td><td>19 (100%)     </td><td>3 (15.79%)    </td><td>4 (21.05%)    </td><td>12 (63.16%)   </td><td>0 (0%)        </td></tr>\n",
       "\t<tr><td>2009          </td><td>392           </td><td>392 (100%)    </td><td>55 (14.03%)   </td><td>92 (23.47%)   </td><td>234 (59.69%)  </td><td>11 (2.81%)    </td></tr>\n",
       "\t<tr><td>2010          </td><td>1274          </td><td>1274 (100%)   </td><td>185 (14.52%)  </td><td>297 (23.31%)  </td><td>762 (59.81%)  </td><td>30 (2.35%)    </td></tr>\n",
       "\t<tr><td>2011          </td><td>4409          </td><td>4409 (100%)   </td><td>594 (13.47%)  </td><td>1172 (26.58%) </td><td>2534 (57.47%) </td><td>109 (2.47%)   </td></tr>\n",
       "\t<tr><td>2012          </td><td>5918          </td><td>5918 (100%)   </td><td>1038 (17.54%) </td><td>1966 (33.22%) </td><td>2752 (46.5%)  </td><td>162 (2.74%)   </td></tr>\n",
       "\t<tr><td>2013          </td><td>5754          </td><td>5754 (100%)   </td><td>987 (17.15%)  </td><td>1927 (33.49%) </td><td>2669 (46.39%) </td><td>171 (2.97%)   </td></tr>\n",
       "\t<tr><td>2014          </td><td>5881          </td><td>5881 (100%)   </td><td>966 (16.43%)  </td><td>1929 (32.8%)  </td><td>2825 (48.04%) </td><td>161 (2.74%)   </td></tr>\n",
       "\t<tr><td>2015          </td><td>6337          </td><td>6337 (100%)   </td><td>933 (14.72%)  </td><td>2044 (32.26%) </td><td>3183 (50.23%) </td><td>177 (2.79%)   </td></tr>\n",
       "\t<tr><td>2016          </td><td>7294          </td><td>7294 (100%)   </td><td>1336 (18.32%) </td><td>2764 (37.89%) </td><td>2937 (40.27%) </td><td>257 (3.52%)   </td></tr>\n",
       "\t<tr><td>2017          </td><td>9075          </td><td>9075 (100%)   </td><td>1861 (20.51%) </td><td>3707 (40.85%) </td><td>3129 (34.48%) </td><td>378 (4.17%)   </td></tr>\n",
       "\t<tr><td>2018          </td><td>12171         </td><td>12171 (100%)  </td><td>2719 (22.34%) </td><td>5183 (42.58%) </td><td>3653 (30.01%) </td><td>616 (5.06%)   </td></tr>\n",
       "\t<tr><td>2019          </td><td>17832         </td><td>17832 (100%)  </td><td>4218 (23.65%) </td><td>7236 (40.58%) </td><td>5380 (30.17%) </td><td>998 (5.6%)    </td></tr>\n",
       "\t<tr><td>Total         </td><td>76356         </td><td>76356 (100%)  </td><td>14895 (19.51%)</td><td>28321 (37.09%)</td><td>30070 (39.38%)</td><td>3070 (4.02%)  </td></tr>\n",
       "</tbody>\n",
       "</table>\n"
      ],
      "text/latex": [
       "\\begin{tabular}{r|lllllll}\n",
       " year & totalTweets & confidentTweets & positiveConfident & negativeConfident & neutralConfident & mixedConfident\\\\\n",
       "\\hline\n",
       "\t 2008             & 19               & 19 (100\\%)      & 3 (15.79\\%)     & 4 (21.05\\%)     & 12 (63.16\\%)    & 0 (0\\%)        \\\\\n",
       "\t 2009             & 392              & 392 (100\\%)     & 55 (14.03\\%)    & 92 (23.47\\%)    & 234 (59.69\\%)   & 11 (2.81\\%)    \\\\\n",
       "\t 2010             & 1274             & 1274 (100\\%)    & 185 (14.52\\%)   & 297 (23.31\\%)   & 762 (59.81\\%)   & 30 (2.35\\%)    \\\\\n",
       "\t 2011             & 4409             & 4409 (100\\%)    & 594 (13.47\\%)   & 1172 (26.58\\%)  & 2534 (57.47\\%)  & 109 (2.47\\%)   \\\\\n",
       "\t 2012             & 5918             & 5918 (100\\%)    & 1038 (17.54\\%)  & 1966 (33.22\\%)  & 2752 (46.5\\%)   & 162 (2.74\\%)   \\\\\n",
       "\t 2013             & 5754             & 5754 (100\\%)    & 987 (17.15\\%)   & 1927 (33.49\\%)  & 2669 (46.39\\%)  & 171 (2.97\\%)   \\\\\n",
       "\t 2014             & 5881             & 5881 (100\\%)    & 966 (16.43\\%)   & 1929 (32.8\\%)   & 2825 (48.04\\%)  & 161 (2.74\\%)   \\\\\n",
       "\t 2015             & 6337             & 6337 (100\\%)    & 933 (14.72\\%)   & 2044 (32.26\\%)  & 3183 (50.23\\%)  & 177 (2.79\\%)   \\\\\n",
       "\t 2016             & 7294             & 7294 (100\\%)    & 1336 (18.32\\%)  & 2764 (37.89\\%)  & 2937 (40.27\\%)  & 257 (3.52\\%)   \\\\\n",
       "\t 2017             & 9075             & 9075 (100\\%)    & 1861 (20.51\\%)  & 3707 (40.85\\%)  & 3129 (34.48\\%)  & 378 (4.17\\%)   \\\\\n",
       "\t 2018             & 12171            & 12171 (100\\%)   & 2719 (22.34\\%)  & 5183 (42.58\\%)  & 3653 (30.01\\%)  & 616 (5.06\\%)   \\\\\n",
       "\t 2019             & 17832            & 17832 (100\\%)   & 4218 (23.65\\%)  & 7236 (40.58\\%)  & 5380 (30.17\\%)  & 998 (5.6\\%)    \\\\\n",
       "\t Total            & 76356            & 76356 (100\\%)   & 14895 (19.51\\%) & 28321 (37.09\\%) & 30070 (39.38\\%) & 3070 (4.02\\%)  \\\\\n",
       "\\end{tabular}\n"
      ],
      "text/markdown": [
       "\n",
       "| year | totalTweets | confidentTweets | positiveConfident | negativeConfident | neutralConfident | mixedConfident |\n",
       "|---|---|---|---|---|---|---|\n",
       "| 2008           | 19             | 19 (100%)      | 3 (15.79%)     | 4 (21.05%)     | 12 (63.16%)    | 0 (0%)         |\n",
       "| 2009           | 392            | 392 (100%)     | 55 (14.03%)    | 92 (23.47%)    | 234 (59.69%)   | 11 (2.81%)     |\n",
       "| 2010           | 1274           | 1274 (100%)    | 185 (14.52%)   | 297 (23.31%)   | 762 (59.81%)   | 30 (2.35%)     |\n",
       "| 2011           | 4409           | 4409 (100%)    | 594 (13.47%)   | 1172 (26.58%)  | 2534 (57.47%)  | 109 (2.47%)    |\n",
       "| 2012           | 5918           | 5918 (100%)    | 1038 (17.54%)  | 1966 (33.22%)  | 2752 (46.5%)   | 162 (2.74%)    |\n",
       "| 2013           | 5754           | 5754 (100%)    | 987 (17.15%)   | 1927 (33.49%)  | 2669 (46.39%)  | 171 (2.97%)    |\n",
       "| 2014           | 5881           | 5881 (100%)    | 966 (16.43%)   | 1929 (32.8%)   | 2825 (48.04%)  | 161 (2.74%)    |\n",
       "| 2015           | 6337           | 6337 (100%)    | 933 (14.72%)   | 2044 (32.26%)  | 3183 (50.23%)  | 177 (2.79%)    |\n",
       "| 2016           | 7294           | 7294 (100%)    | 1336 (18.32%)  | 2764 (37.89%)  | 2937 (40.27%)  | 257 (3.52%)    |\n",
       "| 2017           | 9075           | 9075 (100%)    | 1861 (20.51%)  | 3707 (40.85%)  | 3129 (34.48%)  | 378 (4.17%)    |\n",
       "| 2018           | 12171          | 12171 (100%)   | 2719 (22.34%)  | 5183 (42.58%)  | 3653 (30.01%)  | 616 (5.06%)    |\n",
       "| 2019           | 17832          | 17832 (100%)   | 4218 (23.65%)  | 7236 (40.58%)  | 5380 (30.17%)  | 998 (5.6%)     |\n",
       "| Total          | 76356          | 76356 (100%)   | 14895 (19.51%) | 28321 (37.09%) | 30070 (39.38%) | 3070 (4.02%)   |\n",
       "\n"
      ],
      "text/plain": [
       "   year  totalTweets confidentTweets positiveConfident negativeConfident\n",
       "1  2008  19          19 (100%)       3 (15.79%)        4 (21.05%)       \n",
       "2  2009  392         392 (100%)      55 (14.03%)       92 (23.47%)      \n",
       "3  2010  1274        1274 (100%)     185 (14.52%)      297 (23.31%)     \n",
       "4  2011  4409        4409 (100%)     594 (13.47%)      1172 (26.58%)    \n",
       "5  2012  5918        5918 (100%)     1038 (17.54%)     1966 (33.22%)    \n",
       "6  2013  5754        5754 (100%)     987 (17.15%)      1927 (33.49%)    \n",
       "7  2014  5881        5881 (100%)     966 (16.43%)      1929 (32.8%)     \n",
       "8  2015  6337        6337 (100%)     933 (14.72%)      2044 (32.26%)    \n",
       "9  2016  7294        7294 (100%)     1336 (18.32%)     2764 (37.89%)    \n",
       "10 2017  9075        9075 (100%)     1861 (20.51%)     3707 (40.85%)    \n",
       "11 2018  12171       12171 (100%)    2719 (22.34%)     5183 (42.58%)    \n",
       "12 2019  17832       17832 (100%)    4218 (23.65%)     7236 (40.58%)    \n",
       "13 Total 76356       76356 (100%)    14895 (19.51%)    28321 (37.09%)   \n",
       "   neutralConfident mixedConfident\n",
       "1  12 (63.16%)      0 (0%)        \n",
       "2  234 (59.69%)     11 (2.81%)    \n",
       "3  762 (59.81%)     30 (2.35%)    \n",
       "4  2534 (57.47%)    109 (2.47%)   \n",
       "5  2752 (46.5%)     162 (2.74%)   \n",
       "6  2669 (46.39%)    171 (2.97%)   \n",
       "7  2825 (48.04%)    161 (2.74%)   \n",
       "8  3183 (50.23%)    177 (2.79%)   \n",
       "9  2937 (40.27%)    257 (3.52%)   \n",
       "10 3129 (34.48%)    378 (4.17%)   \n",
       "11 3653 (30.01%)    616 (5.06%)   \n",
       "12 5380 (30.17%)    998 (5.6%)    \n",
       "13 30070 (39.38%)   3070 (4.02%)  "
      ]
     },
     "metadata": {},
     "output_type": "display_data"
    }
   ],
   "source": [
    "#################################\n",
    "# Implant all confidence scores #\n",
    "#################################\n",
    "polarityResultsByYear <- polarityAnalysis( categories = \"Implant\" )\n",
    "dim(polarityResultsByYear)\n",
    "\n",
    "summaryResults <- polarityByYear( polarityResults = polarityResultsByYear, confidence = 0, \n",
    "                                  outputPath = \"/home/ec2-user/SageMaker/polarityPerYear/\", outputName = \"Implant\")\n",
    "summaryResults"
   ]
  },
  {
   "cell_type": "code",
   "execution_count": 50,
   "metadata": {},
   "outputs": [
    {
     "data": {
      "text/html": [
       "<ol class=list-inline>\n",
       "\t<li>90836</li>\n",
       "\t<li>10</li>\n",
       "</ol>\n"
      ],
      "text/latex": [
       "\\begin{enumerate*}\n",
       "\\item 90836\n",
       "\\item 10\n",
       "\\end{enumerate*}\n"
      ],
      "text/markdown": [
       "1. 90836\n",
       "2. 10\n",
       "\n",
       "\n"
      ],
      "text/plain": [
       "[1] 90836    10"
      ]
     },
     "metadata": {},
     "output_type": "display_data"
    },
    {
     "name": "stdout",
     "output_type": "stream",
     "text": [
      "[1] \"There are a total of 90836 tweets in this category\"\n",
      "[1] \"There are a total of 20848 tweets in this category with 0.95confidence\"\n"
     ]
    },
    {
     "data": {
      "text/html": [
       "<table>\n",
       "<thead><tr><th scope=col>year</th><th scope=col>totalTweets</th><th scope=col>confidentTweets</th><th scope=col>positiveConfident</th><th scope=col>negativeConfident</th><th scope=col>neutralConfident</th><th scope=col>mixedConfident</th></tr></thead>\n",
       "<tbody>\n",
       "\t<tr><td>2007          </td><td>14            </td><td>2 (14.29%)    </td><td>0 (0%)        </td><td>0 (0%)        </td><td>2 (100%)      </td><td>0 (0%)        </td></tr>\n",
       "\t<tr><td>2008          </td><td>114           </td><td>21 (18.42%)   </td><td>0 (0%)        </td><td>6 (28.57%)    </td><td>15 (71.43%)   </td><td>0 (0%)        </td></tr>\n",
       "\t<tr><td>2009          </td><td>1423          </td><td>354 (24.88%)  </td><td>17 (4.8%)     </td><td>49 (13.84%)   </td><td>280 (79.1%)   </td><td>8 (2.26%)     </td></tr>\n",
       "\t<tr><td>2010          </td><td>5092          </td><td>1354 (26.59%) </td><td>65 (4.8%)     </td><td>129 (9.53%)   </td><td>1129 (83.38%) </td><td>31 (2.29%)    </td></tr>\n",
       "\t<tr><td>2011          </td><td>7686          </td><td>1906 (24.8%)  </td><td>103 (5.4%)    </td><td>337 (17.68%)  </td><td>1392 (73.03%) </td><td>74 (3.88%)    </td></tr>\n",
       "\t<tr><td>2012          </td><td>9770          </td><td>2228 (22.8%)  </td><td>124 (5.57%)   </td><td>545 (24.46%)  </td><td>1468 (65.89%) </td><td>91 (4.08%)    </td></tr>\n",
       "\t<tr><td>2013          </td><td>7941          </td><td>1920 (24.18%) </td><td>103 (5.36%)   </td><td>406 (21.15%)  </td><td>1353 (70.47%) </td><td>58 (3.02%)    </td></tr>\n",
       "\t<tr><td>2014          </td><td>5697          </td><td>1381 (24.24%) </td><td>89 (6.44%)    </td><td>276 (19.99%)  </td><td>972 (70.38%)  </td><td>44 (3.19%)    </td></tr>\n",
       "\t<tr><td>2015          </td><td>5591          </td><td>1444 (25.83%) </td><td>74 (5.12%)    </td><td>268 (18.56%)  </td><td>1068 (73.96%) </td><td>34 (2.35%)    </td></tr>\n",
       "\t<tr><td>2016          </td><td>6404          </td><td>1525 (23.81%) </td><td>99 (6.49%)    </td><td>319 (20.92%)  </td><td>1066 (69.9%)  </td><td>41 (2.69%)    </td></tr>\n",
       "\t<tr><td>2017          </td><td>9093          </td><td>1971 (21.68%) </td><td>187 (9.49%)   </td><td>601 (30.49%)  </td><td>1107 (56.16%) </td><td>76 (3.86%)    </td></tr>\n",
       "\t<tr><td>2018          </td><td>14197         </td><td>3124 (22%)    </td><td>371 (11.88%)  </td><td>1186 (37.96%) </td><td>1461 (46.77%) </td><td>106 (3.39%)   </td></tr>\n",
       "\t<tr><td>2019          </td><td>17814         </td><td>3618 (20.31%) </td><td>447 (12.35%)  </td><td>1548 (42.79%) </td><td>1479 (40.88%) </td><td>144 (3.98%)   </td></tr>\n",
       "\t<tr><td>Total         </td><td>90836         </td><td>20848 (22.95%)</td><td>1679 (8.05%)  </td><td>5670 (27.2%)  </td><td>12792 (61.36%)</td><td>707 (3.39%)   </td></tr>\n",
       "</tbody>\n",
       "</table>\n"
      ],
      "text/latex": [
       "\\begin{tabular}{r|lllllll}\n",
       " year & totalTweets & confidentTweets & positiveConfident & negativeConfident & neutralConfident & mixedConfident\\\\\n",
       "\\hline\n",
       "\t 2007             & 14               & 2 (14.29\\%)     & 0 (0\\%)         & 0 (0\\%)         & 2 (100\\%)       & 0 (0\\%)        \\\\\n",
       "\t 2008             & 114              & 21 (18.42\\%)    & 0 (0\\%)         & 6 (28.57\\%)     & 15 (71.43\\%)    & 0 (0\\%)        \\\\\n",
       "\t 2009             & 1423             & 354 (24.88\\%)   & 17 (4.8\\%)      & 49 (13.84\\%)    & 280 (79.1\\%)    & 8 (2.26\\%)     \\\\\n",
       "\t 2010             & 5092             & 1354 (26.59\\%)  & 65 (4.8\\%)      & 129 (9.53\\%)    & 1129 (83.38\\%)  & 31 (2.29\\%)    \\\\\n",
       "\t 2011             & 7686             & 1906 (24.8\\%)   & 103 (5.4\\%)     & 337 (17.68\\%)   & 1392 (73.03\\%)  & 74 (3.88\\%)    \\\\\n",
       "\t 2012             & 9770             & 2228 (22.8\\%)   & 124 (5.57\\%)    & 545 (24.46\\%)   & 1468 (65.89\\%)  & 91 (4.08\\%)    \\\\\n",
       "\t 2013             & 7941             & 1920 (24.18\\%)  & 103 (5.36\\%)    & 406 (21.15\\%)   & 1353 (70.47\\%)  & 58 (3.02\\%)    \\\\\n",
       "\t 2014             & 5697             & 1381 (24.24\\%)  & 89 (6.44\\%)     & 276 (19.99\\%)   & 972 (70.38\\%)   & 44 (3.19\\%)    \\\\\n",
       "\t 2015             & 5591             & 1444 (25.83\\%)  & 74 (5.12\\%)     & 268 (18.56\\%)   & 1068 (73.96\\%)  & 34 (2.35\\%)    \\\\\n",
       "\t 2016             & 6404             & 1525 (23.81\\%)  & 99 (6.49\\%)     & 319 (20.92\\%)   & 1066 (69.9\\%)   & 41 (2.69\\%)    \\\\\n",
       "\t 2017             & 9093             & 1971 (21.68\\%)  & 187 (9.49\\%)    & 601 (30.49\\%)   & 1107 (56.16\\%)  & 76 (3.86\\%)    \\\\\n",
       "\t 2018             & 14197            & 3124 (22\\%)     & 371 (11.88\\%)   & 1186 (37.96\\%)  & 1461 (46.77\\%)  & 106 (3.39\\%)   \\\\\n",
       "\t 2019             & 17814            & 3618 (20.31\\%)  & 447 (12.35\\%)   & 1548 (42.79\\%)  & 1479 (40.88\\%)  & 144 (3.98\\%)   \\\\\n",
       "\t Total            & 90836            & 20848 (22.95\\%) & 1679 (8.05\\%)   & 5670 (27.2\\%)   & 12792 (61.36\\%) & 707 (3.39\\%)   \\\\\n",
       "\\end{tabular}\n"
      ],
      "text/markdown": [
       "\n",
       "| year | totalTweets | confidentTweets | positiveConfident | negativeConfident | neutralConfident | mixedConfident |\n",
       "|---|---|---|---|---|---|---|\n",
       "| 2007           | 14             | 2 (14.29%)     | 0 (0%)         | 0 (0%)         | 2 (100%)       | 0 (0%)         |\n",
       "| 2008           | 114            | 21 (18.42%)    | 0 (0%)         | 6 (28.57%)     | 15 (71.43%)    | 0 (0%)         |\n",
       "| 2009           | 1423           | 354 (24.88%)   | 17 (4.8%)      | 49 (13.84%)    | 280 (79.1%)    | 8 (2.26%)      |\n",
       "| 2010           | 5092           | 1354 (26.59%)  | 65 (4.8%)      | 129 (9.53%)    | 1129 (83.38%)  | 31 (2.29%)     |\n",
       "| 2011           | 7686           | 1906 (24.8%)   | 103 (5.4%)     | 337 (17.68%)   | 1392 (73.03%)  | 74 (3.88%)     |\n",
       "| 2012           | 9770           | 2228 (22.8%)   | 124 (5.57%)    | 545 (24.46%)   | 1468 (65.89%)  | 91 (4.08%)     |\n",
       "| 2013           | 7941           | 1920 (24.18%)  | 103 (5.36%)    | 406 (21.15%)   | 1353 (70.47%)  | 58 (3.02%)     |\n",
       "| 2014           | 5697           | 1381 (24.24%)  | 89 (6.44%)     | 276 (19.99%)   | 972 (70.38%)   | 44 (3.19%)     |\n",
       "| 2015           | 5591           | 1444 (25.83%)  | 74 (5.12%)     | 268 (18.56%)   | 1068 (73.96%)  | 34 (2.35%)     |\n",
       "| 2016           | 6404           | 1525 (23.81%)  | 99 (6.49%)     | 319 (20.92%)   | 1066 (69.9%)   | 41 (2.69%)     |\n",
       "| 2017           | 9093           | 1971 (21.68%)  | 187 (9.49%)    | 601 (30.49%)   | 1107 (56.16%)  | 76 (3.86%)     |\n",
       "| 2018           | 14197          | 3124 (22%)     | 371 (11.88%)   | 1186 (37.96%)  | 1461 (46.77%)  | 106 (3.39%)    |\n",
       "| 2019           | 17814          | 3618 (20.31%)  | 447 (12.35%)   | 1548 (42.79%)  | 1479 (40.88%)  | 144 (3.98%)    |\n",
       "| Total          | 90836          | 20848 (22.95%) | 1679 (8.05%)   | 5670 (27.2%)   | 12792 (61.36%) | 707 (3.39%)    |\n",
       "\n"
      ],
      "text/plain": [
       "   year  totalTweets confidentTweets positiveConfident negativeConfident\n",
       "1  2007  14          2 (14.29%)      0 (0%)            0 (0%)           \n",
       "2  2008  114         21 (18.42%)     0 (0%)            6 (28.57%)       \n",
       "3  2009  1423        354 (24.88%)    17 (4.8%)         49 (13.84%)      \n",
       "4  2010  5092        1354 (26.59%)   65 (4.8%)         129 (9.53%)      \n",
       "5  2011  7686        1906 (24.8%)    103 (5.4%)        337 (17.68%)     \n",
       "6  2012  9770        2228 (22.8%)    124 (5.57%)       545 (24.46%)     \n",
       "7  2013  7941        1920 (24.18%)   103 (5.36%)       406 (21.15%)     \n",
       "8  2014  5697        1381 (24.24%)   89 (6.44%)        276 (19.99%)     \n",
       "9  2015  5591        1444 (25.83%)   74 (5.12%)        268 (18.56%)     \n",
       "10 2016  6404        1525 (23.81%)   99 (6.49%)        319 (20.92%)     \n",
       "11 2017  9093        1971 (21.68%)   187 (9.49%)       601 (30.49%)     \n",
       "12 2018  14197       3124 (22%)      371 (11.88%)      1186 (37.96%)    \n",
       "13 2019  17814       3618 (20.31%)   447 (12.35%)      1548 (42.79%)    \n",
       "14 Total 90836       20848 (22.95%)  1679 (8.05%)      5670 (27.2%)     \n",
       "   neutralConfident mixedConfident\n",
       "1  2 (100%)         0 (0%)        \n",
       "2  15 (71.43%)      0 (0%)        \n",
       "3  280 (79.1%)      8 (2.26%)     \n",
       "4  1129 (83.38%)    31 (2.29%)    \n",
       "5  1392 (73.03%)    74 (3.88%)    \n",
       "6  1468 (65.89%)    91 (4.08%)    \n",
       "7  1353 (70.47%)    58 (3.02%)    \n",
       "8  972 (70.38%)     44 (3.19%)    \n",
       "9  1068 (73.96%)    34 (2.35%)    \n",
       "10 1066 (69.9%)     41 (2.69%)    \n",
       "11 1107 (56.16%)    76 (3.86%)    \n",
       "12 1461 (46.77%)    106 (3.39%)   \n",
       "13 1479 (40.88%)    144 (3.98%)   \n",
       "14 12792 (61.36%)   707 (3.39%)   "
      ]
     },
     "metadata": {},
     "output_type": "display_data"
    }
   ],
   "source": [
    "############\n",
    "# The pill #\n",
    "############\n",
    "polarityResultsByYear <- polarityAnalysis( categories = \"Pill\" )\n",
    "dim(polarityResultsByYear)\n",
    "\n",
    "summaryResults <- polarityByYear( polarityResults = polarityResultsByYear, confidence = confidenceScore, \n",
    "                                  outputPath = \"/home/ec2-user/SageMaker/polarityPerYear/\", outputName = \"Pill\")\n",
    "summaryResults"
   ]
  },
  {
   "cell_type": "code",
   "execution_count": 39,
   "metadata": {},
   "outputs": [
    {
     "data": {
      "text/html": [
       "<ol class=list-inline>\n",
       "\t<li>90836</li>\n",
       "\t<li>10</li>\n",
       "</ol>\n"
      ],
      "text/latex": [
       "\\begin{enumerate*}\n",
       "\\item 90836\n",
       "\\item 10\n",
       "\\end{enumerate*}\n"
      ],
      "text/markdown": [
       "1. 90836\n",
       "2. 10\n",
       "\n",
       "\n"
      ],
      "text/plain": [
       "[1] 90836    10"
      ]
     },
     "metadata": {},
     "output_type": "display_data"
    },
    {
     "name": "stdout",
     "output_type": "stream",
     "text": [
      "[1] \"There are a total of 90836 tweets in this category\"\n",
      "[1] \"There are a total of 90836 tweets in this category with 0confidence\"\n"
     ]
    },
    {
     "data": {
      "text/html": [
       "<table>\n",
       "<thead><tr><th scope=col>year</th><th scope=col>totalTweets</th><th scope=col>confidentTweets</th><th scope=col>positiveConfident</th><th scope=col>negativeConfident</th><th scope=col>neutralConfident</th><th scope=col>mixedConfident</th></tr></thead>\n",
       "<tbody>\n",
       "\t<tr><td>2007          </td><td>14            </td><td>14 (100%)     </td><td>0 (0%)        </td><td>2 (14.29%)    </td><td>12 (85.71%)   </td><td>0 (0%)        </td></tr>\n",
       "\t<tr><td>2008          </td><td>114           </td><td>114 (100%)    </td><td>6 (5.26%)     </td><td>40 (35.09%)   </td><td>67 (58.77%)   </td><td>1 (0.88%)     </td></tr>\n",
       "\t<tr><td>2009          </td><td>1423          </td><td>1423 (100%)   </td><td>149 (10.47%)  </td><td>353 (24.81%)  </td><td>886 (62.26%)  </td><td>35 (2.46%)    </td></tr>\n",
       "\t<tr><td>2010          </td><td>5092          </td><td>5092 (100%)   </td><td>564 (11.08%)  </td><td>983 (19.3%)   </td><td>3435 (67.46%) </td><td>110 (2.16%)   </td></tr>\n",
       "\t<tr><td>2011          </td><td>7686          </td><td>7686 (100%)   </td><td>892 (11.61%)  </td><td>2020 (26.28%) </td><td>4525 (58.87%) </td><td>249 (3.24%)   </td></tr>\n",
       "\t<tr><td>2012          </td><td>9770          </td><td>9770 (100%)   </td><td>944 (9.66%)   </td><td>3029 (31%)    </td><td>5482 (56.11%) </td><td>315 (3.22%)   </td></tr>\n",
       "\t<tr><td>2013          </td><td>7941          </td><td>7941 (100%)   </td><td>740 (9.32%)   </td><td>2442 (30.75%) </td><td>4537 (57.13%) </td><td>222 (2.8%)    </td></tr>\n",
       "\t<tr><td>2014          </td><td>5697          </td><td>5697 (100%)   </td><td>552 (9.69%)   </td><td>1697 (29.79%) </td><td>3296 (57.86%) </td><td>152 (2.67%)   </td></tr>\n",
       "\t<tr><td>2015          </td><td>5591          </td><td>5591 (100%)   </td><td>474 (8.48%)   </td><td>1616 (28.9%)  </td><td>3394 (60.7%)  </td><td>107 (1.91%)   </td></tr>\n",
       "\t<tr><td>2016          </td><td>6404          </td><td>6404 (100%)   </td><td>525 (8.2%)    </td><td>2167 (33.84%) </td><td>3572 (55.78%) </td><td>140 (2.19%)   </td></tr>\n",
       "\t<tr><td>2017          </td><td>9093          </td><td>9093 (100%)   </td><td>990 (10.89%)  </td><td>3370 (37.06%) </td><td>4496 (49.44%) </td><td>237 (2.61%)   </td></tr>\n",
       "\t<tr><td>2018          </td><td>14197         </td><td>14197 (100%)  </td><td>1937 (13.64%) </td><td>5574 (39.26%) </td><td>6299 (44.37%) </td><td>387 (2.73%)   </td></tr>\n",
       "\t<tr><td>2019          </td><td>17814         </td><td>17814 (100%)  </td><td>2470 (13.87%) </td><td>7273 (40.83%) </td><td>7469 (41.93%) </td><td>602 (3.38%)   </td></tr>\n",
       "\t<tr><td>Total         </td><td>90836         </td><td>90836 (100%)  </td><td>10243 (11.28%)</td><td>30566 (33.65%)</td><td>47470 (52.26%)</td><td>2557 (2.81%)  </td></tr>\n",
       "</tbody>\n",
       "</table>\n"
      ],
      "text/latex": [
       "\\begin{tabular}{r|lllllll}\n",
       " year & totalTweets & confidentTweets & positiveConfident & negativeConfident & neutralConfident & mixedConfident\\\\\n",
       "\\hline\n",
       "\t 2007             & 14               & 14 (100\\%)      & 0 (0\\%)         & 2 (14.29\\%)     & 12 (85.71\\%)    & 0 (0\\%)        \\\\\n",
       "\t 2008             & 114              & 114 (100\\%)     & 6 (5.26\\%)      & 40 (35.09\\%)    & 67 (58.77\\%)    & 1 (0.88\\%)     \\\\\n",
       "\t 2009             & 1423             & 1423 (100\\%)    & 149 (10.47\\%)   & 353 (24.81\\%)   & 886 (62.26\\%)   & 35 (2.46\\%)    \\\\\n",
       "\t 2010             & 5092             & 5092 (100\\%)    & 564 (11.08\\%)   & 983 (19.3\\%)    & 3435 (67.46\\%)  & 110 (2.16\\%)   \\\\\n",
       "\t 2011             & 7686             & 7686 (100\\%)    & 892 (11.61\\%)   & 2020 (26.28\\%)  & 4525 (58.87\\%)  & 249 (3.24\\%)   \\\\\n",
       "\t 2012             & 9770             & 9770 (100\\%)    & 944 (9.66\\%)    & 3029 (31\\%)     & 5482 (56.11\\%)  & 315 (3.22\\%)   \\\\\n",
       "\t 2013             & 7941             & 7941 (100\\%)    & 740 (9.32\\%)    & 2442 (30.75\\%)  & 4537 (57.13\\%)  & 222 (2.8\\%)    \\\\\n",
       "\t 2014             & 5697             & 5697 (100\\%)    & 552 (9.69\\%)    & 1697 (29.79\\%)  & 3296 (57.86\\%)  & 152 (2.67\\%)   \\\\\n",
       "\t 2015             & 5591             & 5591 (100\\%)    & 474 (8.48\\%)    & 1616 (28.9\\%)   & 3394 (60.7\\%)   & 107 (1.91\\%)   \\\\\n",
       "\t 2016             & 6404             & 6404 (100\\%)    & 525 (8.2\\%)     & 2167 (33.84\\%)  & 3572 (55.78\\%)  & 140 (2.19\\%)   \\\\\n",
       "\t 2017             & 9093             & 9093 (100\\%)    & 990 (10.89\\%)   & 3370 (37.06\\%)  & 4496 (49.44\\%)  & 237 (2.61\\%)   \\\\\n",
       "\t 2018             & 14197            & 14197 (100\\%)   & 1937 (13.64\\%)  & 5574 (39.26\\%)  & 6299 (44.37\\%)  & 387 (2.73\\%)   \\\\\n",
       "\t 2019             & 17814            & 17814 (100\\%)   & 2470 (13.87\\%)  & 7273 (40.83\\%)  & 7469 (41.93\\%)  & 602 (3.38\\%)   \\\\\n",
       "\t Total            & 90836            & 90836 (100\\%)   & 10243 (11.28\\%) & 30566 (33.65\\%) & 47470 (52.26\\%) & 2557 (2.81\\%)  \\\\\n",
       "\\end{tabular}\n"
      ],
      "text/markdown": [
       "\n",
       "| year | totalTweets | confidentTweets | positiveConfident | negativeConfident | neutralConfident | mixedConfident |\n",
       "|---|---|---|---|---|---|---|\n",
       "| 2007           | 14             | 14 (100%)      | 0 (0%)         | 2 (14.29%)     | 12 (85.71%)    | 0 (0%)         |\n",
       "| 2008           | 114            | 114 (100%)     | 6 (5.26%)      | 40 (35.09%)    | 67 (58.77%)    | 1 (0.88%)      |\n",
       "| 2009           | 1423           | 1423 (100%)    | 149 (10.47%)   | 353 (24.81%)   | 886 (62.26%)   | 35 (2.46%)     |\n",
       "| 2010           | 5092           | 5092 (100%)    | 564 (11.08%)   | 983 (19.3%)    | 3435 (67.46%)  | 110 (2.16%)    |\n",
       "| 2011           | 7686           | 7686 (100%)    | 892 (11.61%)   | 2020 (26.28%)  | 4525 (58.87%)  | 249 (3.24%)    |\n",
       "| 2012           | 9770           | 9770 (100%)    | 944 (9.66%)    | 3029 (31%)     | 5482 (56.11%)  | 315 (3.22%)    |\n",
       "| 2013           | 7941           | 7941 (100%)    | 740 (9.32%)    | 2442 (30.75%)  | 4537 (57.13%)  | 222 (2.8%)     |\n",
       "| 2014           | 5697           | 5697 (100%)    | 552 (9.69%)    | 1697 (29.79%)  | 3296 (57.86%)  | 152 (2.67%)    |\n",
       "| 2015           | 5591           | 5591 (100%)    | 474 (8.48%)    | 1616 (28.9%)   | 3394 (60.7%)   | 107 (1.91%)    |\n",
       "| 2016           | 6404           | 6404 (100%)    | 525 (8.2%)     | 2167 (33.84%)  | 3572 (55.78%)  | 140 (2.19%)    |\n",
       "| 2017           | 9093           | 9093 (100%)    | 990 (10.89%)   | 3370 (37.06%)  | 4496 (49.44%)  | 237 (2.61%)    |\n",
       "| 2018           | 14197          | 14197 (100%)   | 1937 (13.64%)  | 5574 (39.26%)  | 6299 (44.37%)  | 387 (2.73%)    |\n",
       "| 2019           | 17814          | 17814 (100%)   | 2470 (13.87%)  | 7273 (40.83%)  | 7469 (41.93%)  | 602 (3.38%)    |\n",
       "| Total          | 90836          | 90836 (100%)   | 10243 (11.28%) | 30566 (33.65%) | 47470 (52.26%) | 2557 (2.81%)   |\n",
       "\n"
      ],
      "text/plain": [
       "   year  totalTweets confidentTweets positiveConfident negativeConfident\n",
       "1  2007  14          14 (100%)       0 (0%)            2 (14.29%)       \n",
       "2  2008  114         114 (100%)      6 (5.26%)         40 (35.09%)      \n",
       "3  2009  1423        1423 (100%)     149 (10.47%)      353 (24.81%)     \n",
       "4  2010  5092        5092 (100%)     564 (11.08%)      983 (19.3%)      \n",
       "5  2011  7686        7686 (100%)     892 (11.61%)      2020 (26.28%)    \n",
       "6  2012  9770        9770 (100%)     944 (9.66%)       3029 (31%)       \n",
       "7  2013  7941        7941 (100%)     740 (9.32%)       2442 (30.75%)    \n",
       "8  2014  5697        5697 (100%)     552 (9.69%)       1697 (29.79%)    \n",
       "9  2015  5591        5591 (100%)     474 (8.48%)       1616 (28.9%)     \n",
       "10 2016  6404        6404 (100%)     525 (8.2%)        2167 (33.84%)    \n",
       "11 2017  9093        9093 (100%)     990 (10.89%)      3370 (37.06%)    \n",
       "12 2018  14197       14197 (100%)    1937 (13.64%)     5574 (39.26%)    \n",
       "13 2019  17814       17814 (100%)    2470 (13.87%)     7273 (40.83%)    \n",
       "14 Total 90836       90836 (100%)    10243 (11.28%)    30566 (33.65%)   \n",
       "   neutralConfident mixedConfident\n",
       "1  12 (85.71%)      0 (0%)        \n",
       "2  67 (58.77%)      1 (0.88%)     \n",
       "3  886 (62.26%)     35 (2.46%)    \n",
       "4  3435 (67.46%)    110 (2.16%)   \n",
       "5  4525 (58.87%)    249 (3.24%)   \n",
       "6  5482 (56.11%)    315 (3.22%)   \n",
       "7  4537 (57.13%)    222 (2.8%)    \n",
       "8  3296 (57.86%)    152 (2.67%)   \n",
       "9  3394 (60.7%)     107 (1.91%)   \n",
       "10 3572 (55.78%)    140 (2.19%)   \n",
       "11 4496 (49.44%)    237 (2.61%)   \n",
       "12 6299 (44.37%)    387 (2.73%)   \n",
       "13 7469 (41.93%)    602 (3.38%)   \n",
       "14 47470 (52.26%)   2557 (2.81%)  "
      ]
     },
     "metadata": {},
     "output_type": "display_data"
    }
   ],
   "source": [
    "##################################\n",
    "# The pill all confidence scores #\n",
    "##################################\n",
    "polarityResultsByYear <- polarityAnalysis( categories = \"Pill\" )\n",
    "dim(polarityResultsByYear)\n",
    "\n",
    "summaryResults <- polarityByYear( polarityResults = polarityResultsByYear, confidence = 0, \n",
    "                                  outputPath = \"/home/ec2-user/SageMaker/polarityPerYear/\", outputName = \"Pill\")\n",
    "summaryResults"
   ]
  },
  {
   "cell_type": "code",
   "execution_count": 51,
   "metadata": {},
   "outputs": [
    {
     "data": {
      "text/html": [
       "<ol class=list-inline>\n",
       "\t<li>117907</li>\n",
       "\t<li>10</li>\n",
       "</ol>\n"
      ],
      "text/latex": [
       "\\begin{enumerate*}\n",
       "\\item 117907\n",
       "\\item 10\n",
       "\\end{enumerate*}\n"
      ],
      "text/markdown": [
       "1. 117907\n",
       "2. 10\n",
       "\n",
       "\n"
      ],
      "text/plain": [
       "[1] 117907     10"
      ]
     },
     "metadata": {},
     "output_type": "display_data"
    },
    {
     "name": "stdout",
     "output_type": "stream",
     "text": [
      "[1] \"There are a total of 117907 tweets in this category\"\n",
      "[1] \"There are a total of 30580 tweets in this category with 0.95confidence\"\n"
     ]
    },
    {
     "data": {
      "text/html": [
       "<table>\n",
       "<thead><tr><th scope=col>year</th><th scope=col>totalTweets</th><th scope=col>confidentTweets</th><th scope=col>positiveConfident</th><th scope=col>negativeConfident</th><th scope=col>neutralConfident</th><th scope=col>mixedConfident</th></tr></thead>\n",
       "<tbody>\n",
       "\t<tr><td>2007          </td><td>2             </td><td>1 (50%)       </td><td>0 (0%)        </td><td>0 (0%)        </td><td>1 (100%)      </td><td>0 (0%)        </td></tr>\n",
       "\t<tr><td>2008          </td><td>50            </td><td>10 (20%)      </td><td>0 (0%)        </td><td>4 (40%)       </td><td>6 (60%)       </td><td>0 (0%)        </td></tr>\n",
       "\t<tr><td>2009          </td><td>1426          </td><td>382 (26.79%)  </td><td>33 (8.64%)    </td><td>102 (26.7%)   </td><td>241 (63.09%)  </td><td>6 (1.57%)     </td></tr>\n",
       "\t<tr><td>2010          </td><td>4369          </td><td>1080 (24.72%) </td><td>97 (8.98%)    </td><td>401 (37.13%)  </td><td>551 (51.02%)  </td><td>31 (2.87%)    </td></tr>\n",
       "\t<tr><td>2011          </td><td>11755         </td><td>2775 (23.61%) </td><td>277 (9.98%)   </td><td>1510 (54.41%) </td><td>907 (32.68%)  </td><td>81 (2.92%)    </td></tr>\n",
       "\t<tr><td>2012          </td><td>19490         </td><td>4802 (24.64%) </td><td>422 (8.79%)   </td><td>3059 (63.7%)  </td><td>1186 (24.7%)  </td><td>135 (2.81%)   </td></tr>\n",
       "\t<tr><td>2013          </td><td>17055         </td><td>4322 (25.34%) </td><td>361 (8.35%)   </td><td>2849 (65.92%) </td><td>991 (22.93%)  </td><td>121 (2.8%)    </td></tr>\n",
       "\t<tr><td>2014          </td><td>13074         </td><td>3614 (27.64%) </td><td>318 (8.8%)    </td><td>2359 (65.27%) </td><td>859 (23.77%)  </td><td>78 (2.16%)    </td></tr>\n",
       "\t<tr><td>2015          </td><td>9967          </td><td>2776 (27.85%) </td><td>205 (7.38%)   </td><td>1599 (57.6%)  </td><td>925 (33.32%)  </td><td>47 (1.69%)    </td></tr>\n",
       "\t<tr><td>2016          </td><td>9476          </td><td>2529 (26.69%) </td><td>259 (10.24%)  </td><td>1572 (62.16%) </td><td>572 (22.62%)  </td><td>126 (4.98%)   </td></tr>\n",
       "\t<tr><td>2017          </td><td>8398          </td><td>2318 (27.6%)  </td><td>280 (12.08%)  </td><td>1483 (63.98%) </td><td>481 (20.75%)  </td><td>74 (3.19%)    </td></tr>\n",
       "\t<tr><td>2018          </td><td>9945          </td><td>2611 (26.25%) </td><td>358 (13.71%)  </td><td>1697 (64.99%) </td><td>469 (17.96%)  </td><td>87 (3.33%)    </td></tr>\n",
       "\t<tr><td>2019          </td><td>12900         </td><td>3360 (26.05%) </td><td>534 (15.89%)  </td><td>2170 (64.58%) </td><td>509 (15.15%)  </td><td>147 (4.38%)   </td></tr>\n",
       "\t<tr><td>Total         </td><td>117907        </td><td>30580 (25.94%)</td><td>3144 (10.28%) </td><td>18805 (61.49%)</td><td>7698 (25.17%) </td><td>933 (3.05%)   </td></tr>\n",
       "</tbody>\n",
       "</table>\n"
      ],
      "text/latex": [
       "\\begin{tabular}{r|lllllll}\n",
       " year & totalTweets & confidentTweets & positiveConfident & negativeConfident & neutralConfident & mixedConfident\\\\\n",
       "\\hline\n",
       "\t 2007             & 2                & 1 (50\\%)        & 0 (0\\%)         & 0 (0\\%)         & 1 (100\\%)       & 0 (0\\%)        \\\\\n",
       "\t 2008             & 50               & 10 (20\\%)       & 0 (0\\%)         & 4 (40\\%)        & 6 (60\\%)        & 0 (0\\%)        \\\\\n",
       "\t 2009             & 1426             & 382 (26.79\\%)   & 33 (8.64\\%)     & 102 (26.7\\%)    & 241 (63.09\\%)   & 6 (1.57\\%)     \\\\\n",
       "\t 2010             & 4369             & 1080 (24.72\\%)  & 97 (8.98\\%)     & 401 (37.13\\%)   & 551 (51.02\\%)   & 31 (2.87\\%)    \\\\\n",
       "\t 2011             & 11755            & 2775 (23.61\\%)  & 277 (9.98\\%)    & 1510 (54.41\\%)  & 907 (32.68\\%)   & 81 (2.92\\%)    \\\\\n",
       "\t 2012             & 19490            & 4802 (24.64\\%)  & 422 (8.79\\%)    & 3059 (63.7\\%)   & 1186 (24.7\\%)   & 135 (2.81\\%)   \\\\\n",
       "\t 2013             & 17055            & 4322 (25.34\\%)  & 361 (8.35\\%)    & 2849 (65.92\\%)  & 991 (22.93\\%)   & 121 (2.8\\%)    \\\\\n",
       "\t 2014             & 13074            & 3614 (27.64\\%)  & 318 (8.8\\%)     & 2359 (65.27\\%)  & 859 (23.77\\%)   & 78 (2.16\\%)    \\\\\n",
       "\t 2015             & 9967             & 2776 (27.85\\%)  & 205 (7.38\\%)    & 1599 (57.6\\%)   & 925 (33.32\\%)   & 47 (1.69\\%)    \\\\\n",
       "\t 2016             & 9476             & 2529 (26.69\\%)  & 259 (10.24\\%)   & 1572 (62.16\\%)  & 572 (22.62\\%)   & 126 (4.98\\%)   \\\\\n",
       "\t 2017             & 8398             & 2318 (27.6\\%)   & 280 (12.08\\%)   & 1483 (63.98\\%)  & 481 (20.75\\%)   & 74 (3.19\\%)    \\\\\n",
       "\t 2018             & 9945             & 2611 (26.25\\%)  & 358 (13.71\\%)   & 1697 (64.99\\%)  & 469 (17.96\\%)   & 87 (3.33\\%)    \\\\\n",
       "\t 2019             & 12900            & 3360 (26.05\\%)  & 534 (15.89\\%)   & 2170 (64.58\\%)  & 509 (15.15\\%)   & 147 (4.38\\%)   \\\\\n",
       "\t Total            & 117907           & 30580 (25.94\\%) & 3144 (10.28\\%)  & 18805 (61.49\\%) & 7698 (25.17\\%)  & 933 (3.05\\%)   \\\\\n",
       "\\end{tabular}\n"
      ],
      "text/markdown": [
       "\n",
       "| year | totalTweets | confidentTweets | positiveConfident | negativeConfident | neutralConfident | mixedConfident |\n",
       "|---|---|---|---|---|---|---|\n",
       "| 2007           | 2              | 1 (50%)        | 0 (0%)         | 0 (0%)         | 1 (100%)       | 0 (0%)         |\n",
       "| 2008           | 50             | 10 (20%)       | 0 (0%)         | 4 (40%)        | 6 (60%)        | 0 (0%)         |\n",
       "| 2009           | 1426           | 382 (26.79%)   | 33 (8.64%)     | 102 (26.7%)    | 241 (63.09%)   | 6 (1.57%)      |\n",
       "| 2010           | 4369           | 1080 (24.72%)  | 97 (8.98%)     | 401 (37.13%)   | 551 (51.02%)   | 31 (2.87%)     |\n",
       "| 2011           | 11755          | 2775 (23.61%)  | 277 (9.98%)    | 1510 (54.41%)  | 907 (32.68%)   | 81 (2.92%)     |\n",
       "| 2012           | 19490          | 4802 (24.64%)  | 422 (8.79%)    | 3059 (63.7%)   | 1186 (24.7%)   | 135 (2.81%)    |\n",
       "| 2013           | 17055          | 4322 (25.34%)  | 361 (8.35%)    | 2849 (65.92%)  | 991 (22.93%)   | 121 (2.8%)     |\n",
       "| 2014           | 13074          | 3614 (27.64%)  | 318 (8.8%)     | 2359 (65.27%)  | 859 (23.77%)   | 78 (2.16%)     |\n",
       "| 2015           | 9967           | 2776 (27.85%)  | 205 (7.38%)    | 1599 (57.6%)   | 925 (33.32%)   | 47 (1.69%)     |\n",
       "| 2016           | 9476           | 2529 (26.69%)  | 259 (10.24%)   | 1572 (62.16%)  | 572 (22.62%)   | 126 (4.98%)    |\n",
       "| 2017           | 8398           | 2318 (27.6%)   | 280 (12.08%)   | 1483 (63.98%)  | 481 (20.75%)   | 74 (3.19%)     |\n",
       "| 2018           | 9945           | 2611 (26.25%)  | 358 (13.71%)   | 1697 (64.99%)  | 469 (17.96%)   | 87 (3.33%)     |\n",
       "| 2019           | 12900          | 3360 (26.05%)  | 534 (15.89%)   | 2170 (64.58%)  | 509 (15.15%)   | 147 (4.38%)    |\n",
       "| Total          | 117907         | 30580 (25.94%) | 3144 (10.28%)  | 18805 (61.49%) | 7698 (25.17%)  | 933 (3.05%)    |\n",
       "\n"
      ],
      "text/plain": [
       "   year  totalTweets confidentTweets positiveConfident negativeConfident\n",
       "1  2007  2           1 (50%)         0 (0%)            0 (0%)           \n",
       "2  2008  50          10 (20%)        0 (0%)            4 (40%)          \n",
       "3  2009  1426        382 (26.79%)    33 (8.64%)        102 (26.7%)      \n",
       "4  2010  4369        1080 (24.72%)   97 (8.98%)        401 (37.13%)     \n",
       "5  2011  11755       2775 (23.61%)   277 (9.98%)       1510 (54.41%)    \n",
       "6  2012  19490       4802 (24.64%)   422 (8.79%)       3059 (63.7%)     \n",
       "7  2013  17055       4322 (25.34%)   361 (8.35%)       2849 (65.92%)    \n",
       "8  2014  13074       3614 (27.64%)   318 (8.8%)        2359 (65.27%)    \n",
       "9  2015  9967        2776 (27.85%)   205 (7.38%)       1599 (57.6%)     \n",
       "10 2016  9476        2529 (26.69%)   259 (10.24%)      1572 (62.16%)    \n",
       "11 2017  8398        2318 (27.6%)    280 (12.08%)      1483 (63.98%)    \n",
       "12 2018  9945        2611 (26.25%)   358 (13.71%)      1697 (64.99%)    \n",
       "13 2019  12900       3360 (26.05%)   534 (15.89%)      2170 (64.58%)    \n",
       "14 Total 117907      30580 (25.94%)  3144 (10.28%)     18805 (61.49%)   \n",
       "   neutralConfident mixedConfident\n",
       "1  1 (100%)         0 (0%)        \n",
       "2  6 (60%)          0 (0%)        \n",
       "3  241 (63.09%)     6 (1.57%)     \n",
       "4  551 (51.02%)     31 (2.87%)    \n",
       "5  907 (32.68%)     81 (2.92%)    \n",
       "6  1186 (24.7%)     135 (2.81%)   \n",
       "7  991 (22.93%)     121 (2.8%)    \n",
       "8  859 (23.77%)     78 (2.16%)    \n",
       "9  925 (33.32%)     47 (1.69%)    \n",
       "10 572 (22.62%)     126 (4.98%)   \n",
       "11 481 (20.75%)     74 (3.19%)    \n",
       "12 469 (17.96%)     87 (3.33%)    \n",
       "13 509 (15.15%)     147 (4.38%)   \n",
       "14 7698 (25.17%)    933 (3.05%)   "
      ]
     },
     "metadata": {},
     "output_type": "display_data"
    }
   ],
   "source": [
    "###########\n",
    "# TheShot #\n",
    "###########\n",
    "polarityResultsByYear <- polarityAnalysis( categories = \"Shot\" )\n",
    "dim(polarityResultsByYear)\n",
    "\n",
    "summaryResults <- polarityByYear( polarityResults = polarityResultsByYear, confidence = confidenceScore, \n",
    "                                  outputPath = \"/home/ec2-user/SageMaker/polarityPerYear/\", outputName = \"Shot\")\n",
    "summaryResults"
   ]
  },
  {
   "cell_type": "code",
   "execution_count": 40,
   "metadata": {},
   "outputs": [
    {
     "data": {
      "text/html": [
       "<ol class=list-inline>\n",
       "\t<li>117907</li>\n",
       "\t<li>10</li>\n",
       "</ol>\n"
      ],
      "text/latex": [
       "\\begin{enumerate*}\n",
       "\\item 117907\n",
       "\\item 10\n",
       "\\end{enumerate*}\n"
      ],
      "text/markdown": [
       "1. 117907\n",
       "2. 10\n",
       "\n",
       "\n"
      ],
      "text/plain": [
       "[1] 117907     10"
      ]
     },
     "metadata": {},
     "output_type": "display_data"
    },
    {
     "name": "stdout",
     "output_type": "stream",
     "text": [
      "[1] \"There are a total of 117907 tweets in this category\"\n",
      "[1] \"There are a total of 117907 tweets in this category with 0confidence\"\n"
     ]
    },
    {
     "data": {
      "text/html": [
       "<table>\n",
       "<thead><tr><th scope=col>year</th><th scope=col>totalTweets</th><th scope=col>confidentTweets</th><th scope=col>positiveConfident</th><th scope=col>negativeConfident</th><th scope=col>neutralConfident</th><th scope=col>mixedConfident</th></tr></thead>\n",
       "<tbody>\n",
       "\t<tr><td>2007          </td><td>2             </td><td>2 (100%)      </td><td>0 (0%)        </td><td>1 (50%)       </td><td>1 (50%)       </td><td>0 (0%)        </td></tr>\n",
       "\t<tr><td>2008          </td><td>50            </td><td>50 (100%)     </td><td>6 (12%)       </td><td>19 (38%)      </td><td>23 (46%)      </td><td>2 (4%)        </td></tr>\n",
       "\t<tr><td>2009          </td><td>1426          </td><td>1426 (100%)   </td><td>158 (11.08%)  </td><td>472 (33.1%)   </td><td>763 (53.51%)  </td><td>33 (2.31%)    </td></tr>\n",
       "\t<tr><td>2010          </td><td>4369          </td><td>4369 (100%)   </td><td>516 (11.81%)  </td><td>1599 (36.6%)  </td><td>2122 (48.57%) </td><td>132 (3.02%)   </td></tr>\n",
       "\t<tr><td>2011          </td><td>11755         </td><td>11755 (100%)  </td><td>1534 (13.05%) </td><td>5166 (43.95%) </td><td>4750 (40.41%) </td><td>305 (2.59%)   </td></tr>\n",
       "\t<tr><td>2012          </td><td>19490         </td><td>19490 (100%)  </td><td>2607 (13.38%) </td><td>9706 (49.8%)  </td><td>6636 (34.05%) </td><td>541 (2.78%)   </td></tr>\n",
       "\t<tr><td>2013          </td><td>17055         </td><td>17055 (100%)  </td><td>2068 (12.13%) </td><td>8915 (52.27%) </td><td>5665 (33.22%) </td><td>407 (2.39%)   </td></tr>\n",
       "\t<tr><td>2014          </td><td>13074         </td><td>13074 (100%)  </td><td>1604 (12.27%) </td><td>6867 (52.52%) </td><td>4304 (32.92%) </td><td>299 (2.29%)   </td></tr>\n",
       "\t<tr><td>2015          </td><td>9967          </td><td>9967 (100%)   </td><td>1084 (10.88%) </td><td>4972 (49.88%) </td><td>3702 (37.14%) </td><td>209 (2.1%)    </td></tr>\n",
       "\t<tr><td>2016          </td><td>9476          </td><td>9476 (100%)   </td><td>1258 (13.28%) </td><td>4871 (51.4%)  </td><td>3039 (32.07%) </td><td>308 (3.25%)   </td></tr>\n",
       "\t<tr><td>2017          </td><td>8398          </td><td>8398 (100%)   </td><td>1136 (13.53%) </td><td>4468 (53.2%)  </td><td>2557 (30.45%) </td><td>237 (2.82%)   </td></tr>\n",
       "\t<tr><td>2018          </td><td>9945          </td><td>9945 (100%)   </td><td>1531 (15.39%) </td><td>5239 (52.68%) </td><td>2839 (28.55%) </td><td>336 (3.38%)   </td></tr>\n",
       "\t<tr><td>2019          </td><td>12900         </td><td>12900 (100%)  </td><td>2060 (15.97%) </td><td>6858 (53.16%) </td><td>3468 (26.88%) </td><td>514 (3.98%)   </td></tr>\n",
       "\t<tr><td>Total         </td><td>117907        </td><td>117907 (100%) </td><td>15562 (13.2%) </td><td>59153 (50.17%)</td><td>39869 (33.81%)</td><td>3323 (2.82%)  </td></tr>\n",
       "</tbody>\n",
       "</table>\n"
      ],
      "text/latex": [
       "\\begin{tabular}{r|lllllll}\n",
       " year & totalTweets & confidentTweets & positiveConfident & negativeConfident & neutralConfident & mixedConfident\\\\\n",
       "\\hline\n",
       "\t 2007             & 2                & 2 (100\\%)       & 0 (0\\%)         & 1 (50\\%)        & 1 (50\\%)        & 0 (0\\%)        \\\\\n",
       "\t 2008             & 50               & 50 (100\\%)      & 6 (12\\%)        & 19 (38\\%)       & 23 (46\\%)       & 2 (4\\%)        \\\\\n",
       "\t 2009             & 1426             & 1426 (100\\%)    & 158 (11.08\\%)   & 472 (33.1\\%)    & 763 (53.51\\%)   & 33 (2.31\\%)    \\\\\n",
       "\t 2010             & 4369             & 4369 (100\\%)    & 516 (11.81\\%)   & 1599 (36.6\\%)   & 2122 (48.57\\%)  & 132 (3.02\\%)   \\\\\n",
       "\t 2011             & 11755            & 11755 (100\\%)   & 1534 (13.05\\%)  & 5166 (43.95\\%)  & 4750 (40.41\\%)  & 305 (2.59\\%)   \\\\\n",
       "\t 2012             & 19490            & 19490 (100\\%)   & 2607 (13.38\\%)  & 9706 (49.8\\%)   & 6636 (34.05\\%)  & 541 (2.78\\%)   \\\\\n",
       "\t 2013             & 17055            & 17055 (100\\%)   & 2068 (12.13\\%)  & 8915 (52.27\\%)  & 5665 (33.22\\%)  & 407 (2.39\\%)   \\\\\n",
       "\t 2014             & 13074            & 13074 (100\\%)   & 1604 (12.27\\%)  & 6867 (52.52\\%)  & 4304 (32.92\\%)  & 299 (2.29\\%)   \\\\\n",
       "\t 2015             & 9967             & 9967 (100\\%)    & 1084 (10.88\\%)  & 4972 (49.88\\%)  & 3702 (37.14\\%)  & 209 (2.1\\%)    \\\\\n",
       "\t 2016             & 9476             & 9476 (100\\%)    & 1258 (13.28\\%)  & 4871 (51.4\\%)   & 3039 (32.07\\%)  & 308 (3.25\\%)   \\\\\n",
       "\t 2017             & 8398             & 8398 (100\\%)    & 1136 (13.53\\%)  & 4468 (53.2\\%)   & 2557 (30.45\\%)  & 237 (2.82\\%)   \\\\\n",
       "\t 2018             & 9945             & 9945 (100\\%)    & 1531 (15.39\\%)  & 5239 (52.68\\%)  & 2839 (28.55\\%)  & 336 (3.38\\%)   \\\\\n",
       "\t 2019             & 12900            & 12900 (100\\%)   & 2060 (15.97\\%)  & 6858 (53.16\\%)  & 3468 (26.88\\%)  & 514 (3.98\\%)   \\\\\n",
       "\t Total            & 117907           & 117907 (100\\%)  & 15562 (13.2\\%)  & 59153 (50.17\\%) & 39869 (33.81\\%) & 3323 (2.82\\%)  \\\\\n",
       "\\end{tabular}\n"
      ],
      "text/markdown": [
       "\n",
       "| year | totalTweets | confidentTweets | positiveConfident | negativeConfident | neutralConfident | mixedConfident |\n",
       "|---|---|---|---|---|---|---|\n",
       "| 2007           | 2              | 2 (100%)       | 0 (0%)         | 1 (50%)        | 1 (50%)        | 0 (0%)         |\n",
       "| 2008           | 50             | 50 (100%)      | 6 (12%)        | 19 (38%)       | 23 (46%)       | 2 (4%)         |\n",
       "| 2009           | 1426           | 1426 (100%)    | 158 (11.08%)   | 472 (33.1%)    | 763 (53.51%)   | 33 (2.31%)     |\n",
       "| 2010           | 4369           | 4369 (100%)    | 516 (11.81%)   | 1599 (36.6%)   | 2122 (48.57%)  | 132 (3.02%)    |\n",
       "| 2011           | 11755          | 11755 (100%)   | 1534 (13.05%)  | 5166 (43.95%)  | 4750 (40.41%)  | 305 (2.59%)    |\n",
       "| 2012           | 19490          | 19490 (100%)   | 2607 (13.38%)  | 9706 (49.8%)   | 6636 (34.05%)  | 541 (2.78%)    |\n",
       "| 2013           | 17055          | 17055 (100%)   | 2068 (12.13%)  | 8915 (52.27%)  | 5665 (33.22%)  | 407 (2.39%)    |\n",
       "| 2014           | 13074          | 13074 (100%)   | 1604 (12.27%)  | 6867 (52.52%)  | 4304 (32.92%)  | 299 (2.29%)    |\n",
       "| 2015           | 9967           | 9967 (100%)    | 1084 (10.88%)  | 4972 (49.88%)  | 3702 (37.14%)  | 209 (2.1%)     |\n",
       "| 2016           | 9476           | 9476 (100%)    | 1258 (13.28%)  | 4871 (51.4%)   | 3039 (32.07%)  | 308 (3.25%)    |\n",
       "| 2017           | 8398           | 8398 (100%)    | 1136 (13.53%)  | 4468 (53.2%)   | 2557 (30.45%)  | 237 (2.82%)    |\n",
       "| 2018           | 9945           | 9945 (100%)    | 1531 (15.39%)  | 5239 (52.68%)  | 2839 (28.55%)  | 336 (3.38%)    |\n",
       "| 2019           | 12900          | 12900 (100%)   | 2060 (15.97%)  | 6858 (53.16%)  | 3468 (26.88%)  | 514 (3.98%)    |\n",
       "| Total          | 117907         | 117907 (100%)  | 15562 (13.2%)  | 59153 (50.17%) | 39869 (33.81%) | 3323 (2.82%)   |\n",
       "\n"
      ],
      "text/plain": [
       "   year  totalTweets confidentTweets positiveConfident negativeConfident\n",
       "1  2007  2           2 (100%)        0 (0%)            1 (50%)          \n",
       "2  2008  50          50 (100%)       6 (12%)           19 (38%)         \n",
       "3  2009  1426        1426 (100%)     158 (11.08%)      472 (33.1%)      \n",
       "4  2010  4369        4369 (100%)     516 (11.81%)      1599 (36.6%)     \n",
       "5  2011  11755       11755 (100%)    1534 (13.05%)     5166 (43.95%)    \n",
       "6  2012  19490       19490 (100%)    2607 (13.38%)     9706 (49.8%)     \n",
       "7  2013  17055       17055 (100%)    2068 (12.13%)     8915 (52.27%)    \n",
       "8  2014  13074       13074 (100%)    1604 (12.27%)     6867 (52.52%)    \n",
       "9  2015  9967        9967 (100%)     1084 (10.88%)     4972 (49.88%)    \n",
       "10 2016  9476        9476 (100%)     1258 (13.28%)     4871 (51.4%)     \n",
       "11 2017  8398        8398 (100%)     1136 (13.53%)     4468 (53.2%)     \n",
       "12 2018  9945        9945 (100%)     1531 (15.39%)     5239 (52.68%)    \n",
       "13 2019  12900       12900 (100%)    2060 (15.97%)     6858 (53.16%)    \n",
       "14 Total 117907      117907 (100%)   15562 (13.2%)     59153 (50.17%)   \n",
       "   neutralConfident mixedConfident\n",
       "1  1 (50%)          0 (0%)        \n",
       "2  23 (46%)         2 (4%)        \n",
       "3  763 (53.51%)     33 (2.31%)    \n",
       "4  2122 (48.57%)    132 (3.02%)   \n",
       "5  4750 (40.41%)    305 (2.59%)   \n",
       "6  6636 (34.05%)    541 (2.78%)   \n",
       "7  5665 (33.22%)    407 (2.39%)   \n",
       "8  4304 (32.92%)    299 (2.29%)   \n",
       "9  3702 (37.14%)    209 (2.1%)    \n",
       "10 3039 (32.07%)    308 (3.25%)   \n",
       "11 2557 (30.45%)    237 (2.82%)   \n",
       "12 2839 (28.55%)    336 (3.38%)   \n",
       "13 3468 (26.88%)    514 (3.98%)   \n",
       "14 39869 (33.81%)   3323 (2.82%)  "
      ]
     },
     "metadata": {},
     "output_type": "display_data"
    }
   ],
   "source": [
    "##################################\n",
    "# The Shot all confidence scores #\n",
    "##################################\n",
    "polarityResultsByYear <- polarityAnalysis( categories = \"Shot\" )\n",
    "dim(polarityResultsByYear)\n",
    "\n",
    "summaryResults <- polarityByYear( polarityResults = polarityResultsByYear, confidence = 0, \n",
    "                                  outputPath = \"/home/ec2-user/SageMaker/polarityPerYear/\", outputName = \"Shot\")\n",
    "summaryResults"
   ]
  },
  {
   "cell_type": "code",
   "execution_count": 52,
   "metadata": {
    "scrolled": true
   },
   "outputs": [
    {
     "data": {
      "text/html": [
       "<ol class=list-inline>\n",
       "\t<li>280037</li>\n",
       "\t<li>10</li>\n",
       "</ol>\n"
      ],
      "text/latex": [
       "\\begin{enumerate*}\n",
       "\\item 280037\n",
       "\\item 10\n",
       "\\end{enumerate*}\n"
      ],
      "text/markdown": [
       "1. 280037\n",
       "2. 10\n",
       "\n",
       "\n"
      ],
      "text/plain": [
       "[1] 280037     10"
      ]
     },
     "metadata": {},
     "output_type": "display_data"
    },
    {
     "name": "stdout",
     "output_type": "stream",
     "text": [
      "[1] \"There are a total of 280037 tweets in this category\"\n",
      "[1] \"There are a total of 60277 tweets in this category with 0.95confidence\"\n"
     ]
    },
    {
     "data": {
      "text/html": [
       "<table>\n",
       "<thead><tr><th scope=col>year</th><th scope=col>totalTweets</th><th scope=col>confidentTweets</th><th scope=col>positiveConfident</th><th scope=col>negativeConfident</th><th scope=col>neutralConfident</th><th scope=col>mixedConfident</th></tr></thead>\n",
       "<tbody>\n",
       "\t<tr><td>2007          </td><td>13            </td><td>2 (15.38%)    </td><td>1 (50%)       </td><td>0 (0%)        </td><td>1 (50%)       </td><td>0 (0%)        </td></tr>\n",
       "\t<tr><td>2008          </td><td>265           </td><td>52 (19.62%)   </td><td>7 (13.46%)    </td><td>19 (36.54%)   </td><td>23 (44.23%)   </td><td>3 (5.77%)     </td></tr>\n",
       "\t<tr><td>2009          </td><td>509           </td><td>131 (25.74%)  </td><td>16 (12.21%)   </td><td>29 (22.14%)   </td><td>81 (61.83%)   </td><td>5 (3.82%)     </td></tr>\n",
       "\t<tr><td>2010          </td><td>7021          </td><td>1692 (24.1%)  </td><td>300 (17.73%)  </td><td>466 (27.54%)  </td><td>841 (49.7%)   </td><td>85 (5.02%)    </td></tr>\n",
       "\t<tr><td>2011          </td><td>14268         </td><td>3417 (23.95%) </td><td>542 (15.86%)  </td><td>900 (26.34%)  </td><td>1820 (53.26%) </td><td>155 (4.54%)   </td></tr>\n",
       "\t<tr><td>2012          </td><td>20051         </td><td>4441 (22.15%) </td><td>762 (17.16%)  </td><td>1364 (30.71%) </td><td>2082 (46.88%) </td><td>233 (5.25%)   </td></tr>\n",
       "\t<tr><td>2013          </td><td>19026         </td><td>4548 (23.9%)  </td><td>762 (16.75%)  </td><td>1461 (32.12%) </td><td>2128 (46.79%) </td><td>197 (4.33%)   </td></tr>\n",
       "\t<tr><td>2014          </td><td>24814         </td><td>5439 (21.92%) </td><td>710 (13.05%)  </td><td>1482 (27.25%) </td><td>2998 (55.12%) </td><td>249 (4.58%)   </td></tr>\n",
       "\t<tr><td>2015          </td><td>23265         </td><td>5170 (22.22%) </td><td>729 (14.1%)   </td><td>1435 (27.76%) </td><td>2775 (53.68%) </td><td>231 (4.47%)   </td></tr>\n",
       "\t<tr><td>2016          </td><td>29167         </td><td>5611 (19.24%) </td><td>997 (17.77%)  </td><td>2035 (36.27%) </td><td>2201 (39.23%) </td><td>378 (6.74%)   </td></tr>\n",
       "\t<tr><td>2017          </td><td>21518         </td><td>4355 (20.24%) </td><td>799 (18.35%)  </td><td>2036 (46.75%) </td><td>1181 (27.12%) </td><td>339 (7.78%)   </td></tr>\n",
       "\t<tr><td>2018          </td><td>47036         </td><td>9955 (21.16%) </td><td>1988 (19.97%) </td><td>5158 (51.81%) </td><td>1883 (18.92%) </td><td>926 (9.3%)    </td></tr>\n",
       "\t<tr><td>2019          </td><td>73084         </td><td>15464 (21.16%)</td><td>2989 (19.33%) </td><td>8654 (55.96%) </td><td>2300 (14.87%) </td><td>1521 (9.84%)  </td></tr>\n",
       "\t<tr><td>Total         </td><td>280037        </td><td>60277 (21.52%)</td><td>10602 (17.59%)</td><td>25039 (41.54%)</td><td>20314 (33.7%) </td><td>4322 (7.17%)  </td></tr>\n",
       "</tbody>\n",
       "</table>\n"
      ],
      "text/latex": [
       "\\begin{tabular}{r|lllllll}\n",
       " year & totalTweets & confidentTweets & positiveConfident & negativeConfident & neutralConfident & mixedConfident\\\\\n",
       "\\hline\n",
       "\t 2007             & 13               & 2 (15.38\\%)     & 1 (50\\%)        & 0 (0\\%)         & 1 (50\\%)        & 0 (0\\%)        \\\\\n",
       "\t 2008             & 265              & 52 (19.62\\%)    & 7 (13.46\\%)     & 19 (36.54\\%)    & 23 (44.23\\%)    & 3 (5.77\\%)     \\\\\n",
       "\t 2009             & 509              & 131 (25.74\\%)   & 16 (12.21\\%)    & 29 (22.14\\%)    & 81 (61.83\\%)    & 5 (3.82\\%)     \\\\\n",
       "\t 2010             & 7021             & 1692 (24.1\\%)   & 300 (17.73\\%)   & 466 (27.54\\%)   & 841 (49.7\\%)    & 85 (5.02\\%)    \\\\\n",
       "\t 2011             & 14268            & 3417 (23.95\\%)  & 542 (15.86\\%)   & 900 (26.34\\%)   & 1820 (53.26\\%)  & 155 (4.54\\%)   \\\\\n",
       "\t 2012             & 20051            & 4441 (22.15\\%)  & 762 (17.16\\%)   & 1364 (30.71\\%)  & 2082 (46.88\\%)  & 233 (5.25\\%)   \\\\\n",
       "\t 2013             & 19026            & 4548 (23.9\\%)   & 762 (16.75\\%)   & 1461 (32.12\\%)  & 2128 (46.79\\%)  & 197 (4.33\\%)   \\\\\n",
       "\t 2014             & 24814            & 5439 (21.92\\%)  & 710 (13.05\\%)   & 1482 (27.25\\%)  & 2998 (55.12\\%)  & 249 (4.58\\%)   \\\\\n",
       "\t 2015             & 23265            & 5170 (22.22\\%)  & 729 (14.1\\%)    & 1435 (27.76\\%)  & 2775 (53.68\\%)  & 231 (4.47\\%)   \\\\\n",
       "\t 2016             & 29167            & 5611 (19.24\\%)  & 997 (17.77\\%)   & 2035 (36.27\\%)  & 2201 (39.23\\%)  & 378 (6.74\\%)   \\\\\n",
       "\t 2017             & 21518            & 4355 (20.24\\%)  & 799 (18.35\\%)   & 2036 (46.75\\%)  & 1181 (27.12\\%)  & 339 (7.78\\%)   \\\\\n",
       "\t 2018             & 47036            & 9955 (21.16\\%)  & 1988 (19.97\\%)  & 5158 (51.81\\%)  & 1883 (18.92\\%)  & 926 (9.3\\%)    \\\\\n",
       "\t 2019             & 73084            & 15464 (21.16\\%) & 2989 (19.33\\%)  & 8654 (55.96\\%)  & 2300 (14.87\\%)  & 1521 (9.84\\%)  \\\\\n",
       "\t Total            & 280037           & 60277 (21.52\\%) & 10602 (17.59\\%) & 25039 (41.54\\%) & 20314 (33.7\\%)  & 4322 (7.17\\%)  \\\\\n",
       "\\end{tabular}\n"
      ],
      "text/markdown": [
       "\n",
       "| year | totalTweets | confidentTweets | positiveConfident | negativeConfident | neutralConfident | mixedConfident |\n",
       "|---|---|---|---|---|---|---|\n",
       "| 2007           | 13             | 2 (15.38%)     | 1 (50%)        | 0 (0%)         | 1 (50%)        | 0 (0%)         |\n",
       "| 2008           | 265            | 52 (19.62%)    | 7 (13.46%)     | 19 (36.54%)    | 23 (44.23%)    | 3 (5.77%)      |\n",
       "| 2009           | 509            | 131 (25.74%)   | 16 (12.21%)    | 29 (22.14%)    | 81 (61.83%)    | 5 (3.82%)      |\n",
       "| 2010           | 7021           | 1692 (24.1%)   | 300 (17.73%)   | 466 (27.54%)   | 841 (49.7%)    | 85 (5.02%)     |\n",
       "| 2011           | 14268          | 3417 (23.95%)  | 542 (15.86%)   | 900 (26.34%)   | 1820 (53.26%)  | 155 (4.54%)    |\n",
       "| 2012           | 20051          | 4441 (22.15%)  | 762 (17.16%)   | 1364 (30.71%)  | 2082 (46.88%)  | 233 (5.25%)    |\n",
       "| 2013           | 19026          | 4548 (23.9%)   | 762 (16.75%)   | 1461 (32.12%)  | 2128 (46.79%)  | 197 (4.33%)    |\n",
       "| 2014           | 24814          | 5439 (21.92%)  | 710 (13.05%)   | 1482 (27.25%)  | 2998 (55.12%)  | 249 (4.58%)    |\n",
       "| 2015           | 23265          | 5170 (22.22%)  | 729 (14.1%)    | 1435 (27.76%)  | 2775 (53.68%)  | 231 (4.47%)    |\n",
       "| 2016           | 29167          | 5611 (19.24%)  | 997 (17.77%)   | 2035 (36.27%)  | 2201 (39.23%)  | 378 (6.74%)    |\n",
       "| 2017           | 21518          | 4355 (20.24%)  | 799 (18.35%)   | 2036 (46.75%)  | 1181 (27.12%)  | 339 (7.78%)    |\n",
       "| 2018           | 47036          | 9955 (21.16%)  | 1988 (19.97%)  | 5158 (51.81%)  | 1883 (18.92%)  | 926 (9.3%)     |\n",
       "| 2019           | 73084          | 15464 (21.16%) | 2989 (19.33%)  | 8654 (55.96%)  | 2300 (14.87%)  | 1521 (9.84%)   |\n",
       "| Total          | 280037         | 60277 (21.52%) | 10602 (17.59%) | 25039 (41.54%) | 20314 (33.7%)  | 4322 (7.17%)   |\n",
       "\n"
      ],
      "text/plain": [
       "   year  totalTweets confidentTweets positiveConfident negativeConfident\n",
       "1  2007  13          2 (15.38%)      1 (50%)           0 (0%)           \n",
       "2  2008  265         52 (19.62%)     7 (13.46%)        19 (36.54%)      \n",
       "3  2009  509         131 (25.74%)    16 (12.21%)       29 (22.14%)      \n",
       "4  2010  7021        1692 (24.1%)    300 (17.73%)      466 (27.54%)     \n",
       "5  2011  14268       3417 (23.95%)   542 (15.86%)      900 (26.34%)     \n",
       "6  2012  20051       4441 (22.15%)   762 (17.16%)      1364 (30.71%)    \n",
       "7  2013  19026       4548 (23.9%)    762 (16.75%)      1461 (32.12%)    \n",
       "8  2014  24814       5439 (21.92%)   710 (13.05%)      1482 (27.25%)    \n",
       "9  2015  23265       5170 (22.22%)   729 (14.1%)       1435 (27.76%)    \n",
       "10 2016  29167       5611 (19.24%)   997 (17.77%)      2035 (36.27%)    \n",
       "11 2017  21518       4355 (20.24%)   799 (18.35%)      2036 (46.75%)    \n",
       "12 2018  47036       9955 (21.16%)   1988 (19.97%)     5158 (51.81%)    \n",
       "13 2019  73084       15464 (21.16%)  2989 (19.33%)     8654 (55.96%)    \n",
       "14 Total 280037      60277 (21.52%)  10602 (17.59%)    25039 (41.54%)   \n",
       "   neutralConfident mixedConfident\n",
       "1  1 (50%)          0 (0%)        \n",
       "2  23 (44.23%)      3 (5.77%)     \n",
       "3  81 (61.83%)      5 (3.82%)     \n",
       "4  841 (49.7%)      85 (5.02%)    \n",
       "5  1820 (53.26%)    155 (4.54%)   \n",
       "6  2082 (46.88%)    233 (5.25%)   \n",
       "7  2128 (46.79%)    197 (4.33%)   \n",
       "8  2998 (55.12%)    249 (4.58%)   \n",
       "9  2775 (53.68%)    231 (4.47%)   \n",
       "10 2201 (39.23%)    378 (6.74%)   \n",
       "11 1181 (27.12%)    339 (7.78%)   \n",
       "12 1883 (18.92%)    926 (9.3%)    \n",
       "13 2300 (14.87%)    1521 (9.84%)  \n",
       "14 20314 (33.7%)    4322 (7.17%)  "
      ]
     },
     "metadata": {},
     "output_type": "display_data"
    }
   ],
   "source": [
    "#######\n",
    "# IUD #\n",
    "#######\n",
    "polarityResultsByYear <- polarityAnalysis( categories = \"IUD\" )\n",
    "dim(polarityResultsByYear)\n",
    "\n",
    "summaryResults <- polarityByYear( polarityResults = polarityResultsByYear, confidence = confidenceScore, \n",
    "                                  outputPath = \"/home/ec2-user/SageMaker/polarityPerYear/\", outputName = \"IUD\")\n",
    "summaryResults"
   ]
  },
  {
   "cell_type": "code",
   "execution_count": 41,
   "metadata": {},
   "outputs": [
    {
     "data": {
      "text/html": [
       "<ol class=list-inline>\n",
       "\t<li>280037</li>\n",
       "\t<li>10</li>\n",
       "</ol>\n"
      ],
      "text/latex": [
       "\\begin{enumerate*}\n",
       "\\item 280037\n",
       "\\item 10\n",
       "\\end{enumerate*}\n"
      ],
      "text/markdown": [
       "1. 280037\n",
       "2. 10\n",
       "\n",
       "\n"
      ],
      "text/plain": [
       "[1] 280037     10"
      ]
     },
     "metadata": {},
     "output_type": "display_data"
    },
    {
     "name": "stdout",
     "output_type": "stream",
     "text": [
      "[1] \"There are a total of 280037 tweets in this category\"\n",
      "[1] \"There are a total of 280037 tweets in this category with 0confidence\"\n"
     ]
    },
    {
     "data": {
      "text/html": [
       "<table>\n",
       "<thead><tr><th scope=col>year</th><th scope=col>totalTweets</th><th scope=col>confidentTweets</th><th scope=col>positiveConfident</th><th scope=col>negativeConfident</th><th scope=col>neutralConfident</th><th scope=col>mixedConfident</th></tr></thead>\n",
       "<tbody>\n",
       "\t<tr><td>2007           </td><td>13             </td><td>13 (100%)      </td><td>4 (30.77%)     </td><td>4 (30.77%)     </td><td>4 (30.77%)     </td><td>1 (7.69%)      </td></tr>\n",
       "\t<tr><td>2008           </td><td>265            </td><td>265 (100%)     </td><td>40 (15.09%)    </td><td>101 (38.11%)   </td><td>115 (43.4%)    </td><td>9 (3.4%)       </td></tr>\n",
       "\t<tr><td>2009           </td><td>509            </td><td>509 (100%)     </td><td>87 (17.09%)    </td><td>153 (30.06%)   </td><td>250 (49.12%)   </td><td>19 (3.73%)     </td></tr>\n",
       "\t<tr><td>2010           </td><td>7021           </td><td>7021 (100%)    </td><td>1102 (15.7%)   </td><td>2245 (31.98%)  </td><td>3377 (48.1%)   </td><td>297 (4.23%)    </td></tr>\n",
       "\t<tr><td>2011           </td><td>14268          </td><td>14268 (100%)   </td><td>2212 (15.5%)   </td><td>4374 (30.66%)  </td><td>7141 (50.05%)  </td><td>541 (3.79%)    </td></tr>\n",
       "\t<tr><td>2012           </td><td>20051          </td><td>20051 (100%)   </td><td>3238 (16.15%)  </td><td>6887 (34.35%)  </td><td>9093 (45.35%)  </td><td>833 (4.15%)    </td></tr>\n",
       "\t<tr><td>2013           </td><td>19026          </td><td>19026 (100%)   </td><td>2880 (15.14%)  </td><td>6495 (34.14%)  </td><td>8919 (46.88%)  </td><td>732 (3.85%)    </td></tr>\n",
       "\t<tr><td>2014           </td><td>24814          </td><td>24814 (100%)   </td><td>3023 (12.18%)  </td><td>8235 (33.19%)  </td><td>12711 (51.23%) </td><td>845 (3.41%)    </td></tr>\n",
       "\t<tr><td>2015           </td><td>23265          </td><td>23265 (100%)   </td><td>3116 (13.39%)  </td><td>7496 (32.22%)  </td><td>11841 (50.9%)  </td><td>812 (3.49%)    </td></tr>\n",
       "\t<tr><td>2016           </td><td>29167          </td><td>29167 (100%)   </td><td>4127 (14.15%)  </td><td>11055 (37.9%)  </td><td>12764 (43.76%) </td><td>1221 (4.19%)   </td></tr>\n",
       "\t<tr><td>2017           </td><td>21518          </td><td>21518 (100%)   </td><td>3336 (15.5%)   </td><td>8972 (41.7%)   </td><td>8146 (37.86%)  </td><td>1064 (4.94%)   </td></tr>\n",
       "\t<tr><td>2018           </td><td>47036          </td><td>47036 (100%)   </td><td>7745 (16.47%)  </td><td>21029 (44.71%) </td><td>15241 (32.4%)  </td><td>3021 (6.42%)   </td></tr>\n",
       "\t<tr><td>2019           </td><td>73084          </td><td>73084 (100%)   </td><td>11413 (15.62%) </td><td>34646 (47.41%) </td><td>22362 (30.6%)  </td><td>4663 (6.38%)   </td></tr>\n",
       "\t<tr><td>Total          </td><td>280037         </td><td>280037 (100%)  </td><td>42323 (15.11%) </td><td>111692 (39.88%)</td><td>111964 (39.98%)</td><td>14058 (5.02%)  </td></tr>\n",
       "</tbody>\n",
       "</table>\n"
      ],
      "text/latex": [
       "\\begin{tabular}{r|lllllll}\n",
       " year & totalTweets & confidentTweets & positiveConfident & negativeConfident & neutralConfident & mixedConfident\\\\\n",
       "\\hline\n",
       "\t 2007              & 13                & 13 (100\\%)       & 4 (30.77\\%)      & 4 (30.77\\%)      & 4 (30.77\\%)      & 1 (7.69\\%)      \\\\\n",
       "\t 2008              & 265               & 265 (100\\%)      & 40 (15.09\\%)     & 101 (38.11\\%)    & 115 (43.4\\%)     & 9 (3.4\\%)       \\\\\n",
       "\t 2009              & 509               & 509 (100\\%)      & 87 (17.09\\%)     & 153 (30.06\\%)    & 250 (49.12\\%)    & 19 (3.73\\%)     \\\\\n",
       "\t 2010              & 7021              & 7021 (100\\%)     & 1102 (15.7\\%)    & 2245 (31.98\\%)   & 3377 (48.1\\%)    & 297 (4.23\\%)    \\\\\n",
       "\t 2011              & 14268             & 14268 (100\\%)    & 2212 (15.5\\%)    & 4374 (30.66\\%)   & 7141 (50.05\\%)   & 541 (3.79\\%)    \\\\\n",
       "\t 2012              & 20051             & 20051 (100\\%)    & 3238 (16.15\\%)   & 6887 (34.35\\%)   & 9093 (45.35\\%)   & 833 (4.15\\%)    \\\\\n",
       "\t 2013              & 19026             & 19026 (100\\%)    & 2880 (15.14\\%)   & 6495 (34.14\\%)   & 8919 (46.88\\%)   & 732 (3.85\\%)    \\\\\n",
       "\t 2014              & 24814             & 24814 (100\\%)    & 3023 (12.18\\%)   & 8235 (33.19\\%)   & 12711 (51.23\\%)  & 845 (3.41\\%)    \\\\\n",
       "\t 2015              & 23265             & 23265 (100\\%)    & 3116 (13.39\\%)   & 7496 (32.22\\%)   & 11841 (50.9\\%)   & 812 (3.49\\%)    \\\\\n",
       "\t 2016              & 29167             & 29167 (100\\%)    & 4127 (14.15\\%)   & 11055 (37.9\\%)   & 12764 (43.76\\%)  & 1221 (4.19\\%)   \\\\\n",
       "\t 2017              & 21518             & 21518 (100\\%)    & 3336 (15.5\\%)    & 8972 (41.7\\%)    & 8146 (37.86\\%)   & 1064 (4.94\\%)   \\\\\n",
       "\t 2018              & 47036             & 47036 (100\\%)    & 7745 (16.47\\%)   & 21029 (44.71\\%)  & 15241 (32.4\\%)   & 3021 (6.42\\%)   \\\\\n",
       "\t 2019              & 73084             & 73084 (100\\%)    & 11413 (15.62\\%)  & 34646 (47.41\\%)  & 22362 (30.6\\%)   & 4663 (6.38\\%)   \\\\\n",
       "\t Total             & 280037            & 280037 (100\\%)   & 42323 (15.11\\%)  & 111692 (39.88\\%) & 111964 (39.98\\%) & 14058 (5.02\\%)  \\\\\n",
       "\\end{tabular}\n"
      ],
      "text/markdown": [
       "\n",
       "| year | totalTweets | confidentTweets | positiveConfident | negativeConfident | neutralConfident | mixedConfident |\n",
       "|---|---|---|---|---|---|---|\n",
       "| 2007            | 13              | 13 (100%)       | 4 (30.77%)      | 4 (30.77%)      | 4 (30.77%)      | 1 (7.69%)       |\n",
       "| 2008            | 265             | 265 (100%)      | 40 (15.09%)     | 101 (38.11%)    | 115 (43.4%)     | 9 (3.4%)        |\n",
       "| 2009            | 509             | 509 (100%)      | 87 (17.09%)     | 153 (30.06%)    | 250 (49.12%)    | 19 (3.73%)      |\n",
       "| 2010            | 7021            | 7021 (100%)     | 1102 (15.7%)    | 2245 (31.98%)   | 3377 (48.1%)    | 297 (4.23%)     |\n",
       "| 2011            | 14268           | 14268 (100%)    | 2212 (15.5%)    | 4374 (30.66%)   | 7141 (50.05%)   | 541 (3.79%)     |\n",
       "| 2012            | 20051           | 20051 (100%)    | 3238 (16.15%)   | 6887 (34.35%)   | 9093 (45.35%)   | 833 (4.15%)     |\n",
       "| 2013            | 19026           | 19026 (100%)    | 2880 (15.14%)   | 6495 (34.14%)   | 8919 (46.88%)   | 732 (3.85%)     |\n",
       "| 2014            | 24814           | 24814 (100%)    | 3023 (12.18%)   | 8235 (33.19%)   | 12711 (51.23%)  | 845 (3.41%)     |\n",
       "| 2015            | 23265           | 23265 (100%)    | 3116 (13.39%)   | 7496 (32.22%)   | 11841 (50.9%)   | 812 (3.49%)     |\n",
       "| 2016            | 29167           | 29167 (100%)    | 4127 (14.15%)   | 11055 (37.9%)   | 12764 (43.76%)  | 1221 (4.19%)    |\n",
       "| 2017            | 21518           | 21518 (100%)    | 3336 (15.5%)    | 8972 (41.7%)    | 8146 (37.86%)   | 1064 (4.94%)    |\n",
       "| 2018            | 47036           | 47036 (100%)    | 7745 (16.47%)   | 21029 (44.71%)  | 15241 (32.4%)   | 3021 (6.42%)    |\n",
       "| 2019            | 73084           | 73084 (100%)    | 11413 (15.62%)  | 34646 (47.41%)  | 22362 (30.6%)   | 4663 (6.38%)    |\n",
       "| Total           | 280037          | 280037 (100%)   | 42323 (15.11%)  | 111692 (39.88%) | 111964 (39.98%) | 14058 (5.02%)   |\n",
       "\n"
      ],
      "text/plain": [
       "   year  totalTweets confidentTweets positiveConfident negativeConfident\n",
       "1  2007  13          13 (100%)       4 (30.77%)        4 (30.77%)       \n",
       "2  2008  265         265 (100%)      40 (15.09%)       101 (38.11%)     \n",
       "3  2009  509         509 (100%)      87 (17.09%)       153 (30.06%)     \n",
       "4  2010  7021        7021 (100%)     1102 (15.7%)      2245 (31.98%)    \n",
       "5  2011  14268       14268 (100%)    2212 (15.5%)      4374 (30.66%)    \n",
       "6  2012  20051       20051 (100%)    3238 (16.15%)     6887 (34.35%)    \n",
       "7  2013  19026       19026 (100%)    2880 (15.14%)     6495 (34.14%)    \n",
       "8  2014  24814       24814 (100%)    3023 (12.18%)     8235 (33.19%)    \n",
       "9  2015  23265       23265 (100%)    3116 (13.39%)     7496 (32.22%)    \n",
       "10 2016  29167       29167 (100%)    4127 (14.15%)     11055 (37.9%)    \n",
       "11 2017  21518       21518 (100%)    3336 (15.5%)      8972 (41.7%)     \n",
       "12 2018  47036       47036 (100%)    7745 (16.47%)     21029 (44.71%)   \n",
       "13 2019  73084       73084 (100%)    11413 (15.62%)    34646 (47.41%)   \n",
       "14 Total 280037      280037 (100%)   42323 (15.11%)    111692 (39.88%)  \n",
       "   neutralConfident mixedConfident\n",
       "1  4 (30.77%)       1 (7.69%)     \n",
       "2  115 (43.4%)      9 (3.4%)      \n",
       "3  250 (49.12%)     19 (3.73%)    \n",
       "4  3377 (48.1%)     297 (4.23%)   \n",
       "5  7141 (50.05%)    541 (3.79%)   \n",
       "6  9093 (45.35%)    833 (4.15%)   \n",
       "7  8919 (46.88%)    732 (3.85%)   \n",
       "8  12711 (51.23%)   845 (3.41%)   \n",
       "9  11841 (50.9%)    812 (3.49%)   \n",
       "10 12764 (43.76%)   1221 (4.19%)  \n",
       "11 8146 (37.86%)    1064 (4.94%)  \n",
       "12 15241 (32.4%)    3021 (6.42%)  \n",
       "13 22362 (30.6%)    4663 (6.38%)  \n",
       "14 111964 (39.98%)  14058 (5.02%) "
      ]
     },
     "metadata": {},
     "output_type": "display_data"
    }
   ],
   "source": [
    "#############################\n",
    "# IUD all confidence scores #\n",
    "#############################\n",
    "polarityResultsByYear <- polarityAnalysis( categories = \"IUD\" )\n",
    "dim(polarityResultsByYear)\n",
    "\n",
    "summaryResults <- polarityByYear( polarityResults = polarityResultsByYear, confidence = 0, \n",
    "                                  outputPath = \"/home/ec2-user/SageMaker/polarityPerYear/\", outputName = \"IUD\")\n",
    "summaryResults"
   ]
  },
  {
   "cell_type": "markdown",
   "metadata": {},
   "source": [
    "## Now we create also the same table for LARC and non-LARC"
   ]
  },
  {
   "cell_type": "code",
   "execution_count": 13,
   "metadata": {},
   "outputs": [
    {
     "data": {
      "text/html": [
       "<ol class=list-inline>\n",
       "\t<li>385470</li>\n",
       "\t<li>10</li>\n",
       "</ol>\n"
      ],
      "text/latex": [
       "\\begin{enumerate*}\n",
       "\\item 385470\n",
       "\\item 10\n",
       "\\end{enumerate*}\n"
      ],
      "text/markdown": [
       "1. 385470\n",
       "2. 10\n",
       "\n",
       "\n"
      ],
      "text/plain": [
       "[1] 385470     10"
      ]
     },
     "metadata": {},
     "output_type": "display_data"
    },
    {
     "name": "stdout",
     "output_type": "stream",
     "text": [
      "[1] \"There are a total of 385470 tweets in this category\"\n",
      "[1] \"There are a total of 91310 tweets in this category with 0.95confidence\"\n"
     ]
    },
    {
     "data": {
      "text/html": [
       "<table>\n",
       "<thead><tr><th scope=col>year</th><th scope=col>totalTweets</th><th scope=col>confidentTweets</th><th scope=col>positiveConfident</th><th scope=col>negativeConfident</th><th scope=col>neutralConfident</th><th scope=col>mixedConfident</th></tr></thead>\n",
       "<tbody>\n",
       "\t<tr><td>2007          </td><td>13            </td><td>2 (15.38%)    </td><td>1 (50%)       </td><td>0 (0%)        </td><td>1 (50%)       </td><td>0 (0%)        </td></tr>\n",
       "\t<tr><td>2008          </td><td>296           </td><td>56 (18.92%)   </td><td>7 (12.5%)     </td><td>19 (33.93%)   </td><td>25 (44.64%)   </td><td>5 (8.93%)     </td></tr>\n",
       "\t<tr><td>2009          </td><td>1172          </td><td>325 (27.73%)  </td><td>39 (12%)      </td><td>61 (18.77%)   </td><td>214 (65.85%)  </td><td>11 (3.38%)    </td></tr>\n",
       "\t<tr><td>2010          </td><td>9060          </td><td>2242 (24.75%) </td><td>380 (16.95%)  </td><td>557 (24.84%)  </td><td>1205 (53.75%) </td><td>100 (4.46%)   </td></tr>\n",
       "\t<tr><td>2011          </td><td>19740         </td><td>4886 (24.75%) </td><td>728 (14.9%)   </td><td>1196 (24.48%) </td><td>2767 (56.63%) </td><td>195 (3.99%)   </td></tr>\n",
       "\t<tr><td>2012          </td><td>28332         </td><td>6742 (23.8%)  </td><td>1130 (16.76%) </td><td>2154 (31.95%) </td><td>3143 (46.62%) </td><td>315 (4.67%)   </td></tr>\n",
       "\t<tr><td>2013          </td><td>27598         </td><td>7247 (26.26%) </td><td>1132 (15.62%) </td><td>2225 (30.7%)  </td><td>3621 (49.97%) </td><td>269 (3.71%)   </td></tr>\n",
       "\t<tr><td>2014          </td><td>32467         </td><td>7967 (24.54%) </td><td>1037 (13.02%) </td><td>2143 (26.9%)  </td><td>4470 (56.11%) </td><td>317 (3.98%)   </td></tr>\n",
       "\t<tr><td>2015          </td><td>31356         </td><td>7748 (24.71%) </td><td>1126 (14.53%) </td><td>2136 (27.57%) </td><td>4174 (53.87%) </td><td>312 (4.03%)   </td></tr>\n",
       "\t<tr><td>2016          </td><td>38995         </td><td>8515 (21.84%) </td><td>1615 (18.97%) </td><td>3094 (36.34%) </td><td>3306 (38.83%) </td><td>500 (5.87%)   </td></tr>\n",
       "\t<tr><td>2017          </td><td>34144         </td><td>8030 (23.52%) </td><td>1766 (21.99%) </td><td>3384 (42.14%) </td><td>2335 (29.08%) </td><td>545 (6.79%)   </td></tr>\n",
       "\t<tr><td>2018          </td><td>63754         </td><td>14643 (22.97%)</td><td>3447 (23.54%) </td><td>7100 (48.49%) </td><td>2861 (19.54%) </td><td>1235 (8.43%)  </td></tr>\n",
       "\t<tr><td>2019          </td><td>98543         </td><td>22907 (23.25%)</td><td>5531 (24.15%) </td><td>11680 (50.99%)</td><td>3649 (15.93%) </td><td>2047 (8.94%)  </td></tr>\n",
       "\t<tr><td>Total         </td><td>385470        </td><td>91310 (23.69%)</td><td>17939 (19.65%)</td><td>35749 (39.15%)</td><td>31771 (34.79%)</td><td>5851 (6.41%)  </td></tr>\n",
       "</tbody>\n",
       "</table>\n"
      ],
      "text/latex": [
       "\\begin{tabular}{r|lllllll}\n",
       " year & totalTweets & confidentTweets & positiveConfident & negativeConfident & neutralConfident & mixedConfident\\\\\n",
       "\\hline\n",
       "\t 2007             & 13               & 2 (15.38\\%)     & 1 (50\\%)        & 0 (0\\%)         & 1 (50\\%)        & 0 (0\\%)        \\\\\n",
       "\t 2008             & 296              & 56 (18.92\\%)    & 7 (12.5\\%)      & 19 (33.93\\%)    & 25 (44.64\\%)    & 5 (8.93\\%)     \\\\\n",
       "\t 2009             & 1172             & 325 (27.73\\%)   & 39 (12\\%)       & 61 (18.77\\%)    & 214 (65.85\\%)   & 11 (3.38\\%)    \\\\\n",
       "\t 2010             & 9060             & 2242 (24.75\\%)  & 380 (16.95\\%)   & 557 (24.84\\%)   & 1205 (53.75\\%)  & 100 (4.46\\%)   \\\\\n",
       "\t 2011             & 19740            & 4886 (24.75\\%)  & 728 (14.9\\%)    & 1196 (24.48\\%)  & 2767 (56.63\\%)  & 195 (3.99\\%)   \\\\\n",
       "\t 2012             & 28332            & 6742 (23.8\\%)   & 1130 (16.76\\%)  & 2154 (31.95\\%)  & 3143 (46.62\\%)  & 315 (4.67\\%)   \\\\\n",
       "\t 2013             & 27598            & 7247 (26.26\\%)  & 1132 (15.62\\%)  & 2225 (30.7\\%)   & 3621 (49.97\\%)  & 269 (3.71\\%)   \\\\\n",
       "\t 2014             & 32467            & 7967 (24.54\\%)  & 1037 (13.02\\%)  & 2143 (26.9\\%)   & 4470 (56.11\\%)  & 317 (3.98\\%)   \\\\\n",
       "\t 2015             & 31356            & 7748 (24.71\\%)  & 1126 (14.53\\%)  & 2136 (27.57\\%)  & 4174 (53.87\\%)  & 312 (4.03\\%)   \\\\\n",
       "\t 2016             & 38995            & 8515 (21.84\\%)  & 1615 (18.97\\%)  & 3094 (36.34\\%)  & 3306 (38.83\\%)  & 500 (5.87\\%)   \\\\\n",
       "\t 2017             & 34144            & 8030 (23.52\\%)  & 1766 (21.99\\%)  & 3384 (42.14\\%)  & 2335 (29.08\\%)  & 545 (6.79\\%)   \\\\\n",
       "\t 2018             & 63754            & 14643 (22.97\\%) & 3447 (23.54\\%)  & 7100 (48.49\\%)  & 2861 (19.54\\%)  & 1235 (8.43\\%)  \\\\\n",
       "\t 2019             & 98543            & 22907 (23.25\\%) & 5531 (24.15\\%)  & 11680 (50.99\\%) & 3649 (15.93\\%)  & 2047 (8.94\\%)  \\\\\n",
       "\t Total            & 385470           & 91310 (23.69\\%) & 17939 (19.65\\%) & 35749 (39.15\\%) & 31771 (34.79\\%) & 5851 (6.41\\%)  \\\\\n",
       "\\end{tabular}\n"
      ],
      "text/markdown": [
       "\n",
       "| year | totalTweets | confidentTweets | positiveConfident | negativeConfident | neutralConfident | mixedConfident |\n",
       "|---|---|---|---|---|---|---|\n",
       "| 2007           | 13             | 2 (15.38%)     | 1 (50%)        | 0 (0%)         | 1 (50%)        | 0 (0%)         |\n",
       "| 2008           | 296            | 56 (18.92%)    | 7 (12.5%)      | 19 (33.93%)    | 25 (44.64%)    | 5 (8.93%)      |\n",
       "| 2009           | 1172           | 325 (27.73%)   | 39 (12%)       | 61 (18.77%)    | 214 (65.85%)   | 11 (3.38%)     |\n",
       "| 2010           | 9060           | 2242 (24.75%)  | 380 (16.95%)   | 557 (24.84%)   | 1205 (53.75%)  | 100 (4.46%)    |\n",
       "| 2011           | 19740          | 4886 (24.75%)  | 728 (14.9%)    | 1196 (24.48%)  | 2767 (56.63%)  | 195 (3.99%)    |\n",
       "| 2012           | 28332          | 6742 (23.8%)   | 1130 (16.76%)  | 2154 (31.95%)  | 3143 (46.62%)  | 315 (4.67%)    |\n",
       "| 2013           | 27598          | 7247 (26.26%)  | 1132 (15.62%)  | 2225 (30.7%)   | 3621 (49.97%)  | 269 (3.71%)    |\n",
       "| 2014           | 32467          | 7967 (24.54%)  | 1037 (13.02%)  | 2143 (26.9%)   | 4470 (56.11%)  | 317 (3.98%)    |\n",
       "| 2015           | 31356          | 7748 (24.71%)  | 1126 (14.53%)  | 2136 (27.57%)  | 4174 (53.87%)  | 312 (4.03%)    |\n",
       "| 2016           | 38995          | 8515 (21.84%)  | 1615 (18.97%)  | 3094 (36.34%)  | 3306 (38.83%)  | 500 (5.87%)    |\n",
       "| 2017           | 34144          | 8030 (23.52%)  | 1766 (21.99%)  | 3384 (42.14%)  | 2335 (29.08%)  | 545 (6.79%)    |\n",
       "| 2018           | 63754          | 14643 (22.97%) | 3447 (23.54%)  | 7100 (48.49%)  | 2861 (19.54%)  | 1235 (8.43%)   |\n",
       "| 2019           | 98543          | 22907 (23.25%) | 5531 (24.15%)  | 11680 (50.99%) | 3649 (15.93%)  | 2047 (8.94%)   |\n",
       "| Total          | 385470         | 91310 (23.69%) | 17939 (19.65%) | 35749 (39.15%) | 31771 (34.79%) | 5851 (6.41%)   |\n",
       "\n"
      ],
      "text/plain": [
       "   year  totalTweets confidentTweets positiveConfident negativeConfident\n",
       "1  2007  13          2 (15.38%)      1 (50%)           0 (0%)           \n",
       "2  2008  296         56 (18.92%)     7 (12.5%)         19 (33.93%)      \n",
       "3  2009  1172        325 (27.73%)    39 (12%)          61 (18.77%)      \n",
       "4  2010  9060        2242 (24.75%)   380 (16.95%)      557 (24.84%)     \n",
       "5  2011  19740       4886 (24.75%)   728 (14.9%)       1196 (24.48%)    \n",
       "6  2012  28332       6742 (23.8%)    1130 (16.76%)     2154 (31.95%)    \n",
       "7  2013  27598       7247 (26.26%)   1132 (15.62%)     2225 (30.7%)     \n",
       "8  2014  32467       7967 (24.54%)   1037 (13.02%)     2143 (26.9%)     \n",
       "9  2015  31356       7748 (24.71%)   1126 (14.53%)     2136 (27.57%)    \n",
       "10 2016  38995       8515 (21.84%)   1615 (18.97%)     3094 (36.34%)    \n",
       "11 2017  34144       8030 (23.52%)   1766 (21.99%)     3384 (42.14%)    \n",
       "12 2018  63754       14643 (22.97%)  3447 (23.54%)     7100 (48.49%)    \n",
       "13 2019  98543       22907 (23.25%)  5531 (24.15%)     11680 (50.99%)   \n",
       "14 Total 385470      91310 (23.69%)  17939 (19.65%)    35749 (39.15%)   \n",
       "   neutralConfident mixedConfident\n",
       "1  1 (50%)          0 (0%)        \n",
       "2  25 (44.64%)      5 (8.93%)     \n",
       "3  214 (65.85%)     11 (3.38%)    \n",
       "4  1205 (53.75%)    100 (4.46%)   \n",
       "5  2767 (56.63%)    195 (3.99%)   \n",
       "6  3143 (46.62%)    315 (4.67%)   \n",
       "7  3621 (49.97%)    269 (3.71%)   \n",
       "8  4470 (56.11%)    317 (3.98%)   \n",
       "9  4174 (53.87%)    312 (4.03%)   \n",
       "10 3306 (38.83%)    500 (5.87%)   \n",
       "11 2335 (29.08%)    545 (6.79%)   \n",
       "12 2861 (19.54%)    1235 (8.43%)  \n",
       "13 3649 (15.93%)    2047 (8.94%)  \n",
       "14 31771 (34.79%)   5851 (6.41%)  "
      ]
     },
     "metadata": {},
     "output_type": "display_data"
    }
   ],
   "source": [
    "########\n",
    "# LARC #\n",
    "#######\n",
    "polarityResultsByYear <- polarityAnalysis( categories = c( \"IUD\", \"copperIUD\", \"LNG-IUD\", \"Implant\") )\n",
    "dim(polarityResultsByYear)\n",
    "\n",
    "summaryResults <- polarityByYear( polarityResults = polarityResultsByYear, confidence = confidenceScore, \n",
    "                                  outputPath = \"/home/ec2-user/SageMaker/polarityPerYear/\", outputName = \"LARC\")\n",
    "summaryResults"
   ]
  },
  {
   "cell_type": "code",
   "execution_count": 14,
   "metadata": {
    "scrolled": true
   },
   "outputs": [
    {
     "data": {
      "text/html": [
       "<ol class=list-inline>\n",
       "\t<li>279594</li>\n",
       "\t<li>10</li>\n",
       "</ol>\n"
      ],
      "text/latex": [
       "\\begin{enumerate*}\n",
       "\\item 279594\n",
       "\\item 10\n",
       "\\end{enumerate*}\n"
      ],
      "text/markdown": [
       "1. 279594\n",
       "2. 10\n",
       "\n",
       "\n"
      ],
      "text/plain": [
       "[1] 279594     10"
      ]
     },
     "metadata": {},
     "output_type": "display_data"
    },
    {
     "name": "stdout",
     "output_type": "stream",
     "text": [
      "[1] \"There are a total of 279594 tweets in this category\"\n",
      "[1] \"There are a total of 69403 tweets in this category with 0.95confidence\"\n"
     ]
    },
    {
     "data": {
      "text/html": [
       "<table>\n",
       "<thead><tr><th scope=col>year</th><th scope=col>totalTweets</th><th scope=col>confidentTweets</th><th scope=col>positiveConfident</th><th scope=col>negativeConfident</th><th scope=col>neutralConfident</th><th scope=col>mixedConfident</th></tr></thead>\n",
       "<tbody>\n",
       "\t<tr><td>2007          </td><td>18            </td><td>3 (16.67%)    </td><td>0 (0%)        </td><td>0 (0%)        </td><td>3 (100%)      </td><td>0 (0%)        </td></tr>\n",
       "\t<tr><td>2008          </td><td>256           </td><td>64 (25%)      </td><td>4 (6.25%)     </td><td>20 (31.25%)   </td><td>38 (59.38%)   </td><td>2 (3.12%)     </td></tr>\n",
       "\t<tr><td>2009          </td><td>4718          </td><td>1229 (26.05%) </td><td>106 (8.62%)   </td><td>316 (25.71%)  </td><td>748 (60.86%)  </td><td>59 (4.8%)     </td></tr>\n",
       "\t<tr><td>2010          </td><td>15039         </td><td>3764 (25.03%) </td><td>266 (7.07%)   </td><td>853 (22.66%)  </td><td>2451 (65.12%) </td><td>194 (5.15%)   </td></tr>\n",
       "\t<tr><td>2011          </td><td>28701         </td><td>6955 (24.23%) </td><td>522 (7.51%)   </td><td>2490 (35.8%)  </td><td>3584 (51.53%) </td><td>359 (5.16%)   </td></tr>\n",
       "\t<tr><td>2012          </td><td>41175         </td><td>10161 (24.68%)</td><td>722 (7.11%)   </td><td>4598 (45.25%) </td><td>4316 (42.48%) </td><td>525 (5.17%)   </td></tr>\n",
       "\t<tr><td>2013          </td><td>31577         </td><td>7773 (24.62%) </td><td>594 (7.64%)   </td><td>3740 (48.12%) </td><td>3092 (39.78%) </td><td>347 (4.46%)   </td></tr>\n",
       "\t<tr><td>2014          </td><td>26872         </td><td>7046 (26.22%) </td><td>584 (8.29%)   </td><td>3223 (45.74%) </td><td>2984 (42.35%) </td><td>255 (3.62%)   </td></tr>\n",
       "\t<tr><td>2015          </td><td>20606         </td><td>5377 (26.09%) </td><td>400 (7.44%)   </td><td>2257 (41.98%) </td><td>2546 (47.35%) </td><td>174 (3.24%)   </td></tr>\n",
       "\t<tr><td>2016          </td><td>22695         </td><td>5818 (25.64%) </td><td>522 (8.97%)   </td><td>2226 (38.26%) </td><td>2806 (48.23%) </td><td>264 (4.54%)   </td></tr>\n",
       "\t<tr><td>2017          </td><td>21859         </td><td>5473 (25.04%) </td><td>678 (12.39%)  </td><td>2427 (44.34%) </td><td>2119 (38.72%) </td><td>249 (4.55%)   </td></tr>\n",
       "\t<tr><td>2018          </td><td>28876         </td><td>6934 (24.01%) </td><td>1062 (15.32%) </td><td>3246 (46.81%) </td><td>2324 (33.52%) </td><td>302 (4.36%)   </td></tr>\n",
       "\t<tr><td>2019          </td><td>37202         </td><td>8806 (23.67%) </td><td>1626 (18.46%) </td><td>4194 (47.63%) </td><td>2495 (28.33%) </td><td>491 (5.58%)   </td></tr>\n",
       "\t<tr><td>Total         </td><td>279594        </td><td>69403 (24.82%)</td><td>7086 (10.21%) </td><td>29590 (42.64%)</td><td>29506 (42.51%)</td><td>3221 (4.64%)  </td></tr>\n",
       "</tbody>\n",
       "</table>\n"
      ],
      "text/latex": [
       "\\begin{tabular}{r|lllllll}\n",
       " year & totalTweets & confidentTweets & positiveConfident & negativeConfident & neutralConfident & mixedConfident\\\\\n",
       "\\hline\n",
       "\t 2007             & 18               & 3 (16.67\\%)     & 0 (0\\%)         & 0 (0\\%)         & 3 (100\\%)       & 0 (0\\%)        \\\\\n",
       "\t 2008             & 256              & 64 (25\\%)       & 4 (6.25\\%)      & 20 (31.25\\%)    & 38 (59.38\\%)    & 2 (3.12\\%)     \\\\\n",
       "\t 2009             & 4718             & 1229 (26.05\\%)  & 106 (8.62\\%)    & 316 (25.71\\%)   & 748 (60.86\\%)   & 59 (4.8\\%)     \\\\\n",
       "\t 2010             & 15039            & 3764 (25.03\\%)  & 266 (7.07\\%)    & 853 (22.66\\%)   & 2451 (65.12\\%)  & 194 (5.15\\%)   \\\\\n",
       "\t 2011             & 28701            & 6955 (24.23\\%)  & 522 (7.51\\%)    & 2490 (35.8\\%)   & 3584 (51.53\\%)  & 359 (5.16\\%)   \\\\\n",
       "\t 2012             & 41175            & 10161 (24.68\\%) & 722 (7.11\\%)    & 4598 (45.25\\%)  & 4316 (42.48\\%)  & 525 (5.17\\%)   \\\\\n",
       "\t 2013             & 31577            & 7773 (24.62\\%)  & 594 (7.64\\%)    & 3740 (48.12\\%)  & 3092 (39.78\\%)  & 347 (4.46\\%)   \\\\\n",
       "\t 2014             & 26872            & 7046 (26.22\\%)  & 584 (8.29\\%)    & 3223 (45.74\\%)  & 2984 (42.35\\%)  & 255 (3.62\\%)   \\\\\n",
       "\t 2015             & 20606            & 5377 (26.09\\%)  & 400 (7.44\\%)    & 2257 (41.98\\%)  & 2546 (47.35\\%)  & 174 (3.24\\%)   \\\\\n",
       "\t 2016             & 22695            & 5818 (25.64\\%)  & 522 (8.97\\%)    & 2226 (38.26\\%)  & 2806 (48.23\\%)  & 264 (4.54\\%)   \\\\\n",
       "\t 2017             & 21859            & 5473 (25.04\\%)  & 678 (12.39\\%)   & 2427 (44.34\\%)  & 2119 (38.72\\%)  & 249 (4.55\\%)   \\\\\n",
       "\t 2018             & 28876            & 6934 (24.01\\%)  & 1062 (15.32\\%)  & 3246 (46.81\\%)  & 2324 (33.52\\%)  & 302 (4.36\\%)   \\\\\n",
       "\t 2019             & 37202            & 8806 (23.67\\%)  & 1626 (18.46\\%)  & 4194 (47.63\\%)  & 2495 (28.33\\%)  & 491 (5.58\\%)   \\\\\n",
       "\t Total            & 279594           & 69403 (24.82\\%) & 7086 (10.21\\%)  & 29590 (42.64\\%) & 29506 (42.51\\%) & 3221 (4.64\\%)  \\\\\n",
       "\\end{tabular}\n"
      ],
      "text/markdown": [
       "\n",
       "| year | totalTweets | confidentTweets | positiveConfident | negativeConfident | neutralConfident | mixedConfident |\n",
       "|---|---|---|---|---|---|---|\n",
       "| 2007           | 18             | 3 (16.67%)     | 0 (0%)         | 0 (0%)         | 3 (100%)       | 0 (0%)         |\n",
       "| 2008           | 256            | 64 (25%)       | 4 (6.25%)      | 20 (31.25%)    | 38 (59.38%)    | 2 (3.12%)      |\n",
       "| 2009           | 4718           | 1229 (26.05%)  | 106 (8.62%)    | 316 (25.71%)   | 748 (60.86%)   | 59 (4.8%)      |\n",
       "| 2010           | 15039          | 3764 (25.03%)  | 266 (7.07%)    | 853 (22.66%)   | 2451 (65.12%)  | 194 (5.15%)    |\n",
       "| 2011           | 28701          | 6955 (24.23%)  | 522 (7.51%)    | 2490 (35.8%)   | 3584 (51.53%)  | 359 (5.16%)    |\n",
       "| 2012           | 41175          | 10161 (24.68%) | 722 (7.11%)    | 4598 (45.25%)  | 4316 (42.48%)  | 525 (5.17%)    |\n",
       "| 2013           | 31577          | 7773 (24.62%)  | 594 (7.64%)    | 3740 (48.12%)  | 3092 (39.78%)  | 347 (4.46%)    |\n",
       "| 2014           | 26872          | 7046 (26.22%)  | 584 (8.29%)    | 3223 (45.74%)  | 2984 (42.35%)  | 255 (3.62%)    |\n",
       "| 2015           | 20606          | 5377 (26.09%)  | 400 (7.44%)    | 2257 (41.98%)  | 2546 (47.35%)  | 174 (3.24%)    |\n",
       "| 2016           | 22695          | 5818 (25.64%)  | 522 (8.97%)    | 2226 (38.26%)  | 2806 (48.23%)  | 264 (4.54%)    |\n",
       "| 2017           | 21859          | 5473 (25.04%)  | 678 (12.39%)   | 2427 (44.34%)  | 2119 (38.72%)  | 249 (4.55%)    |\n",
       "| 2018           | 28876          | 6934 (24.01%)  | 1062 (15.32%)  | 3246 (46.81%)  | 2324 (33.52%)  | 302 (4.36%)    |\n",
       "| 2019           | 37202          | 8806 (23.67%)  | 1626 (18.46%)  | 4194 (47.63%)  | 2495 (28.33%)  | 491 (5.58%)    |\n",
       "| Total          | 279594         | 69403 (24.82%) | 7086 (10.21%)  | 29590 (42.64%) | 29506 (42.51%) | 3221 (4.64%)   |\n",
       "\n"
      ],
      "text/plain": [
       "   year  totalTweets confidentTweets positiveConfident negativeConfident\n",
       "1  2007  18          3 (16.67%)      0 (0%)            0 (0%)           \n",
       "2  2008  256         64 (25%)        4 (6.25%)         20 (31.25%)      \n",
       "3  2009  4718        1229 (26.05%)   106 (8.62%)       316 (25.71%)     \n",
       "4  2010  15039       3764 (25.03%)   266 (7.07%)       853 (22.66%)     \n",
       "5  2011  28701       6955 (24.23%)   522 (7.51%)       2490 (35.8%)     \n",
       "6  2012  41175       10161 (24.68%)  722 (7.11%)       4598 (45.25%)    \n",
       "7  2013  31577       7773 (24.62%)   594 (7.64%)       3740 (48.12%)    \n",
       "8  2014  26872       7046 (26.22%)   584 (8.29%)       3223 (45.74%)    \n",
       "9  2015  20606       5377 (26.09%)   400 (7.44%)       2257 (41.98%)    \n",
       "10 2016  22695       5818 (25.64%)   522 (8.97%)       2226 (38.26%)    \n",
       "11 2017  21859       5473 (25.04%)   678 (12.39%)      2427 (44.34%)    \n",
       "12 2018  28876       6934 (24.01%)   1062 (15.32%)     3246 (46.81%)    \n",
       "13 2019  37202       8806 (23.67%)   1626 (18.46%)     4194 (47.63%)    \n",
       "14 Total 279594      69403 (24.82%)  7086 (10.21%)     29590 (42.64%)   \n",
       "   neutralConfident mixedConfident\n",
       "1  3 (100%)         0 (0%)        \n",
       "2  38 (59.38%)      2 (3.12%)     \n",
       "3  748 (60.86%)     59 (4.8%)     \n",
       "4  2451 (65.12%)    194 (5.15%)   \n",
       "5  3584 (51.53%)    359 (5.16%)   \n",
       "6  4316 (42.48%)    525 (5.17%)   \n",
       "7  3092 (39.78%)    347 (4.46%)   \n",
       "8  2984 (42.35%)    255 (3.62%)   \n",
       "9  2546 (47.35%)    174 (3.24%)   \n",
       "10 2806 (48.23%)    264 (4.54%)   \n",
       "11 2119 (38.72%)    249 (4.55%)   \n",
       "12 2324 (33.52%)    302 (4.36%)   \n",
       "13 2495 (28.33%)    491 (5.58%)   \n",
       "14 29506 (42.51%)   3221 (4.64%)  "
      ]
     },
     "metadata": {},
     "output_type": "display_data"
    }
   ],
   "source": [
    "############\n",
    "# Non-LARC #\n",
    "############\n",
    "polarityResultsByYear <- polarityAnalysis( categories = c( \"Shot\", \"Pill\", \"Ring\", \"Patch\") )\n",
    "dim(polarityResultsByYear)\n",
    "\n",
    "summaryResults <- polarityByYear( polarityResults = polarityResultsByYear, confidence = confidenceScore, \n",
    "                                  outputPath = \"/home/ec2-user/SageMaker/polarityPerYear/\", outputName = \"NonLARC\")\n",
    "summaryResults"
   ]
  },
  {
   "cell_type": "code",
   "execution_count": 33,
   "metadata": {},
   "outputs": [
    {
     "data": {
      "text/html": [
       "<table>\n",
       "<thead><tr><th scope=col>positiveTweets</th><th scope=col>negativeTweets</th><th scope=col>neutralTweets</th></tr></thead>\n",
       "<tbody>\n",
       "\t<tr><td>17939</td><td>35749</td><td>31771</td></tr>\n",
       "\t<tr><td> 7086</td><td>29590</td><td>29506</td></tr>\n",
       "</tbody>\n",
       "</table>\n"
      ],
      "text/latex": [
       "\\begin{tabular}{r|lll}\n",
       " positiveTweets & negativeTweets & neutralTweets\\\\\n",
       "\\hline\n",
       "\t 17939 & 35749 & 31771\\\\\n",
       "\t  7086 & 29590 & 29506\\\\\n",
       "\\end{tabular}\n"
      ],
      "text/markdown": [
       "\n",
       "| positiveTweets | negativeTweets | neutralTweets |\n",
       "|---|---|---|\n",
       "| 17939 | 35749 | 31771 |\n",
       "|  7086 | 29590 | 29506 |\n",
       "\n"
      ],
      "text/plain": [
       "  positiveTweets negativeTweets neutralTweets\n",
       "1 17939          35749          31771        \n",
       "2  7086          29590          29506        "
      ]
     },
     "metadata": {},
     "output_type": "display_data"
    },
    {
     "data": {
      "text/plain": [
       "\n",
       "\tPearson's Chi-squared test\n",
       "\n",
       "data:  df1\n",
       "X-squared = 2968.5, df = 2, p-value < 2.2e-16\n"
      ]
     },
     "metadata": {},
     "output_type": "display_data"
    },
    {
     "data": {
      "text/html": [
       "<table>\n",
       "<thead><tr><th scope=col>negativeTweets</th><th scope=col>neutralTweets</th></tr></thead>\n",
       "<tbody>\n",
       "\t<tr><td>35749</td><td>31771</td></tr>\n",
       "\t<tr><td>29590</td><td>29506</td></tr>\n",
       "</tbody>\n",
       "</table>\n"
      ],
      "text/latex": [
       "\\begin{tabular}{r|ll}\n",
       " negativeTweets & neutralTweets\\\\\n",
       "\\hline\n",
       "\t 35749 & 31771\\\\\n",
       "\t 29590 & 29506\\\\\n",
       "\\end{tabular}\n"
      ],
      "text/markdown": [
       "\n",
       "| negativeTweets | neutralTweets |\n",
       "|---|---|\n",
       "| 35749 | 31771 |\n",
       "| 29590 | 29506 |\n",
       "\n"
      ],
      "text/plain": [
       "  negativeTweets neutralTweets\n",
       "1 35749          31771        \n",
       "2 29590          29506        "
      ]
     },
     "metadata": {},
     "output_type": "display_data"
    },
    {
     "data": {
      "text/plain": [
       "\n",
       "\tPearson's Chi-squared test with Yates' continuity correction\n",
       "\n",
       "data:  df2\n",
       "X-squared = 104.16, df = 1, p-value < 2.2e-16\n"
      ]
     },
     "metadata": {},
     "output_type": "display_data"
    },
    {
     "data": {
      "text/html": [
       "<table>\n",
       "<thead><tr><th scope=col>positiveTweets</th><th scope=col>negativeTweets</th></tr></thead>\n",
       "<tbody>\n",
       "\t<tr><td>17939</td><td>35749</td></tr>\n",
       "\t<tr><td> 7086</td><td>29590</td></tr>\n",
       "</tbody>\n",
       "</table>\n"
      ],
      "text/latex": [
       "\\begin{tabular}{r|ll}\n",
       " positiveTweets & negativeTweets\\\\\n",
       "\\hline\n",
       "\t 17939 & 35749\\\\\n",
       "\t  7086 & 29590\\\\\n",
       "\\end{tabular}\n"
      ],
      "text/markdown": [
       "\n",
       "| positiveTweets | negativeTweets |\n",
       "|---|---|\n",
       "| 17939 | 35749 |\n",
       "|  7086 | 29590 |\n",
       "\n"
      ],
      "text/plain": [
       "  positiveTweets negativeTweets\n",
       "1 17939          35749         \n",
       "2  7086          29590         "
      ]
     },
     "metadata": {},
     "output_type": "display_data"
    },
    {
     "data": {
      "text/plain": [
       "\n",
       "\tPearson's Chi-squared test with Yates' continuity correction\n",
       "\n",
       "data:  df3\n",
       "X-squared = 2160.6, df = 1, p-value < 2.2e-16\n"
      ]
     },
     "metadata": {},
     "output_type": "display_data"
    },
    {
     "data": {
      "text/html": [
       "<table>\n",
       "<thead><tr><th scope=col>positiveTweets</th><th scope=col>neutralTweets</th></tr></thead>\n",
       "<tbody>\n",
       "\t<tr><td>17939</td><td>31771</td></tr>\n",
       "\t<tr><td> 7086</td><td>29506</td></tr>\n",
       "</tbody>\n",
       "</table>\n"
      ],
      "text/latex": [
       "\\begin{tabular}{r|ll}\n",
       " positiveTweets & neutralTweets\\\\\n",
       "\\hline\n",
       "\t 17939 & 31771\\\\\n",
       "\t  7086 & 29506\\\\\n",
       "\\end{tabular}\n"
      ],
      "text/markdown": [
       "\n",
       "| positiveTweets | neutralTweets |\n",
       "|---|---|\n",
       "| 17939 | 31771 |\n",
       "|  7086 | 29506 |\n",
       "\n"
      ],
      "text/plain": [
       "  positiveTweets neutralTweets\n",
       "1 17939          31771        \n",
       "2  7086          29506        "
      ]
     },
     "metadata": {},
     "output_type": "display_data"
    },
    {
     "data": {
      "text/plain": [
       "\n",
       "\tPearson's Chi-squared test with Yates' continuity correction\n",
       "\n",
       "data:  df4\n",
       "X-squared = 2861.9, df = 1, p-value < 2.2e-16\n"
      ]
     },
     "metadata": {},
     "output_type": "display_data"
    }
   ],
   "source": [
    "#########################################################################\n",
    "# Chi square test of proportions for sentiments about LARC vs. non-LARC #\n",
    "#########################################################################\n",
    "positiveTweets <- c(17939, 7086)\n",
    "negativeTweets <- c(35749, 29590)\n",
    "neutralTweets <- c(31771, 29506)\n",
    "\n",
    "df1 = data.frame(positiveTweets, negativeTweets, neutralTweets)\n",
    "df1\n",
    "\n",
    "chisq.test(df1)\n",
    "\n",
    "###\n",
    "\n",
    "df2 = data.frame(negativeTweets, neutralTweets)\n",
    "df2\n",
    "\n",
    "chisq.test(df2)\n",
    "\n",
    "###\n",
    "\n",
    "df3 = data.frame(positiveTweets, negativeTweets)\n",
    "df3\n",
    "\n",
    "chisq.test(df3)\n",
    "\n",
    "###\n",
    "\n",
    "df4 = data.frame(positiveTweets, neutralTweets)\n",
    "df4\n",
    "\n",
    "chisq.test(df4)"
   ]
  },
  {
   "cell_type": "code",
   "execution_count": null,
   "metadata": {},
   "outputs": [],
   "source": [
    "#IUD Chi Square#\n",
    "#positive-negative\n",
    "chisq.test(c(10602, 25039))\n",
    "#positive-neutral\n",
    "chisq.test(c(10602, 20314))\n",
    "#negative-neutral\n",
    "chisq.test(c(25039,20314))"
   ]
  },
  {
   "cell_type": "code",
   "execution_count": null,
   "metadata": {},
   "outputs": [],
   "source": [
    "#LNG-IUD Chi Square#\n",
    "#positive-negative\n",
    "chisq.test(c(920, 590))\n",
    "#positive-neutral\n",
    "chisq.test(c(920, 2071))\n",
    "#negative-neutral\n",
    "chisq.test(c(590, 2071))"
   ]
  },
  {
   "cell_type": "code",
   "execution_count": null,
   "metadata": {},
   "outputs": [],
   "source": [
    "#Copper IUD Chi Square#\n",
    "#positive-negative\n",
    "chisq.test(c( 1391, 1492))\n",
    "#positive-neutral\n",
    "chisq.test(c( 1391, 1371))\n",
    "#negative-neutral\n",
    "chisq.test(c( 1492, 1371))"
   ]
  },
  {
   "cell_type": "code",
   "execution_count": null,
   "metadata": {},
   "outputs": [],
   "source": [
    "#Implant Chi Square#\n",
    "#positive-negative\n",
    "chisq.test(c(5026, 8628))\n",
    "#positive-neutral\n",
    "chisq.test(c(5026, 8015))\n",
    "#negative-neutral\n",
    "chisq.test(c(8628, 8015))"
   ]
  },
  {
   "cell_type": "code",
   "execution_count": null,
   "metadata": {},
   "outputs": [],
   "source": [
    "#LARC Chi Square#\n",
    "#positive-negative\n",
    "chisq.test(c(17939, 35749))\n",
    "#positive-neutral\n",
    "chisq.test(c(17939, 31771 ))\n",
    "#negative-neutral\n",
    "chisq.test(c(35749, 31771))"
   ]
  },
  {
   "cell_type": "code",
   "execution_count": null,
   "metadata": {},
   "outputs": [],
   "source": [
    "#Pill Chi Square#\n",
    "#positive-negative\n",
    "chisq.test(c(1679, 5670))\n",
    "#positive-neutral\n",
    "chisq.test(c(1679, 12792 ))\n",
    "#negative-neutral\n",
    "chisq.test(c(5670, 12792))"
   ]
  },
  {
   "cell_type": "code",
   "execution_count": null,
   "metadata": {},
   "outputs": [],
   "source": [
    "#Patch Chi Square#\n",
    "#positive-negative\n",
    "chisq.test(c( 335, 1455))\n",
    "#positive-neutral\n",
    "chisq.test(c( 335, 2663))\n",
    "#negative-neutral\n",
    "chisq.test(c( 1455, 2663))"
   ]
  },
  {
   "cell_type": "code",
   "execution_count": null,
   "metadata": {},
   "outputs": [],
   "source": [
    "#Ring Chi Square#\n",
    "#positive-negative\n",
    "chisq.test(c( 1928, 3660))\n",
    "#positive-neutral\n",
    "chisq.test(c( 1928, 6353))\n",
    "#negative-neutral\n",
    "chisq.test(c( 3660, 6353))"
   ]
  },
  {
   "cell_type": "code",
   "execution_count": null,
   "metadata": {},
   "outputs": [],
   "source": [
    "#Shot Chi Square#\n",
    "#positive-negative\n",
    "chisq.test(c( 3144, 18805))\n",
    "#positive-neutral\n",
    "chisq.test(c( 3144, 7698))\n",
    "#negative-neutral\n",
    "chisq.test(c(18805, 7698))"
   ]
  },
  {
   "cell_type": "code",
   "execution_count": null,
   "metadata": {},
   "outputs": [],
   "source": [
    "#SARC Chi Square#\n",
    "#positive-negative\n",
    "chisq.test(c( 3144, 29590))\n",
    "#positive-neutral\n",
    "chisq.test(c( 3144, 29506 ))\n",
    "#negative-neutral\n",
    "chisq.test(c(29590, 29506 ))"
   ]
  },
  {
   "cell_type": "code",
   "execution_count": null,
   "metadata": {},
   "outputs": [],
   "source": [
    "#All Methods Chi Square#\n",
    "#positive-negative\n",
    "chisq.test(c( 25025, 65339))\n",
    "#positive-neutral\n",
    "chisq.test(c( 25025, 61277  ))\n",
    "#negative-neutral\n",
    "chisq.test(c(65339, 61277 ))"
   ]
  },
  {
   "cell_type": "code",
   "execution_count": 16,
   "metadata": {},
   "outputs": [
    {
     "data": {
      "text/html": [
       "<ol class=list-inline>\n",
       "\t<li>665064</li>\n",
       "\t<li>10</li>\n",
       "</ol>\n"
      ],
      "text/latex": [
       "\\begin{enumerate*}\n",
       "\\item 665064\n",
       "\\item 10\n",
       "\\end{enumerate*}\n"
      ],
      "text/markdown": [
       "1. 665064\n",
       "2. 10\n",
       "\n",
       "\n"
      ],
      "text/plain": [
       "[1] 665064     10"
      ]
     },
     "metadata": {},
     "output_type": "display_data"
    },
    {
     "name": "stdout",
     "output_type": "stream",
     "text": [
      "[1] \"There are a total of 665064 tweets in this category\"\n",
      "[1] \"There are a total of 160713 tweets in this category with 0.95confidence\"\n"
     ]
    },
    {
     "data": {
      "text/html": [
       "<table>\n",
       "<thead><tr><th scope=col>year</th><th scope=col>totalTweets</th><th scope=col>confidentTweets</th><th scope=col>positiveConfident</th><th scope=col>negativeConfident</th><th scope=col>neutralConfident</th><th scope=col>mixedConfident</th></tr></thead>\n",
       "<tbody>\n",
       "\t<tr><td>2007           </td><td>31             </td><td>5 (16.13%)     </td><td>1 (20%)        </td><td>0 (0%)         </td><td>4 (80%)        </td><td>0 (0%)         </td></tr>\n",
       "\t<tr><td>2008           </td><td>552            </td><td>120 (21.74%)   </td><td>11 (9.17%)     </td><td>39 (32.5%)     </td><td>63 (52.5%)     </td><td>7 (5.83%)      </td></tr>\n",
       "\t<tr><td>2009           </td><td>5890           </td><td>1554 (26.38%)  </td><td>145 (9.33%)    </td><td>377 (24.26%)   </td><td>962 (61.9%)    </td><td>70 (4.5%)      </td></tr>\n",
       "\t<tr><td>2010           </td><td>24099          </td><td>6006 (24.92%)  </td><td>646 (10.76%)   </td><td>1410 (23.48%)  </td><td>3656 (60.87%)  </td><td>294 (4.9%)     </td></tr>\n",
       "\t<tr><td>2011           </td><td>48441          </td><td>11841 (24.44%) </td><td>1250 (10.56%)  </td><td>3686 (31.13%)  </td><td>6351 (53.64%)  </td><td>554 (4.68%)    </td></tr>\n",
       "\t<tr><td>2012           </td><td>69507          </td><td>16903 (24.32%) </td><td>1852 (10.96%)  </td><td>6752 (39.95%)  </td><td>7459 (44.13%)  </td><td>840 (4.97%)    </td></tr>\n",
       "\t<tr><td>2013           </td><td>59175          </td><td>15020 (25.38%) </td><td>1726 (11.49%)  </td><td>5965 (39.71%)  </td><td>6713 (44.69%)  </td><td>616 (4.1%)     </td></tr>\n",
       "\t<tr><td>2014           </td><td>59339          </td><td>15013 (25.3%)  </td><td>1621 (10.8%)   </td><td>5366 (35.74%)  </td><td>7454 (49.65%)  </td><td>572 (3.81%)    </td></tr>\n",
       "\t<tr><td>2015           </td><td>51962          </td><td>13125 (25.26%) </td><td>1526 (11.63%)  </td><td>4393 (33.47%)  </td><td>6720 (51.2%)   </td><td>486 (3.7%)     </td></tr>\n",
       "\t<tr><td>2016           </td><td>61690          </td><td>14333 (23.23%) </td><td>2137 (14.91%)  </td><td>5320 (37.12%)  </td><td>6112 (42.64%)  </td><td>764 (5.33%)    </td></tr>\n",
       "\t<tr><td>2017           </td><td>56003          </td><td>13503 (24.11%) </td><td>2444 (18.1%)   </td><td>5811 (43.03%)  </td><td>4454 (32.99%)  </td><td>794 (5.88%)    </td></tr>\n",
       "\t<tr><td>2018           </td><td>92630          </td><td>21577 (23.29%) </td><td>4509 (20.9%)   </td><td>10346 (47.95%) </td><td>5185 (24.03%)  </td><td>1537 (7.12%)   </td></tr>\n",
       "\t<tr><td>2019           </td><td>135745         </td><td>31713 (23.36%) </td><td>7157 (22.57%)  </td><td>15874 (50.06%) </td><td>6144 (19.37%)  </td><td>2538 (8%)      </td></tr>\n",
       "\t<tr><td>Total          </td><td>665064         </td><td>160713 (24.17%)</td><td>25025 (15.57%) </td><td>65339 (40.66%) </td><td>61277 (38.13%) </td><td>9072 (5.64%)   </td></tr>\n",
       "</tbody>\n",
       "</table>\n"
      ],
      "text/latex": [
       "\\begin{tabular}{r|lllllll}\n",
       " year & totalTweets & confidentTweets & positiveConfident & negativeConfident & neutralConfident & mixedConfident\\\\\n",
       "\\hline\n",
       "\t 2007              & 31                & 5 (16.13\\%)      & 1 (20\\%)         & 0 (0\\%)          & 4 (80\\%)         & 0 (0\\%)         \\\\\n",
       "\t 2008              & 552               & 120 (21.74\\%)    & 11 (9.17\\%)      & 39 (32.5\\%)      & 63 (52.5\\%)      & 7 (5.83\\%)      \\\\\n",
       "\t 2009              & 5890              & 1554 (26.38\\%)   & 145 (9.33\\%)     & 377 (24.26\\%)    & 962 (61.9\\%)     & 70 (4.5\\%)      \\\\\n",
       "\t 2010              & 24099             & 6006 (24.92\\%)   & 646 (10.76\\%)    & 1410 (23.48\\%)   & 3656 (60.87\\%)   & 294 (4.9\\%)     \\\\\n",
       "\t 2011              & 48441             & 11841 (24.44\\%)  & 1250 (10.56\\%)   & 3686 (31.13\\%)   & 6351 (53.64\\%)   & 554 (4.68\\%)    \\\\\n",
       "\t 2012              & 69507             & 16903 (24.32\\%)  & 1852 (10.96\\%)   & 6752 (39.95\\%)   & 7459 (44.13\\%)   & 840 (4.97\\%)    \\\\\n",
       "\t 2013              & 59175             & 15020 (25.38\\%)  & 1726 (11.49\\%)   & 5965 (39.71\\%)   & 6713 (44.69\\%)   & 616 (4.1\\%)     \\\\\n",
       "\t 2014              & 59339             & 15013 (25.3\\%)   & 1621 (10.8\\%)    & 5366 (35.74\\%)   & 7454 (49.65\\%)   & 572 (3.81\\%)    \\\\\n",
       "\t 2015              & 51962             & 13125 (25.26\\%)  & 1526 (11.63\\%)   & 4393 (33.47\\%)   & 6720 (51.2\\%)    & 486 (3.7\\%)     \\\\\n",
       "\t 2016              & 61690             & 14333 (23.23\\%)  & 2137 (14.91\\%)   & 5320 (37.12\\%)   & 6112 (42.64\\%)   & 764 (5.33\\%)    \\\\\n",
       "\t 2017              & 56003             & 13503 (24.11\\%)  & 2444 (18.1\\%)    & 5811 (43.03\\%)   & 4454 (32.99\\%)   & 794 (5.88\\%)    \\\\\n",
       "\t 2018              & 92630             & 21577 (23.29\\%)  & 4509 (20.9\\%)    & 10346 (47.95\\%)  & 5185 (24.03\\%)   & 1537 (7.12\\%)   \\\\\n",
       "\t 2019              & 135745            & 31713 (23.36\\%)  & 7157 (22.57\\%)   & 15874 (50.06\\%)  & 6144 (19.37\\%)   & 2538 (8\\%)      \\\\\n",
       "\t Total             & 665064            & 160713 (24.17\\%) & 25025 (15.57\\%)  & 65339 (40.66\\%)  & 61277 (38.13\\%)  & 9072 (5.64\\%)   \\\\\n",
       "\\end{tabular}\n"
      ],
      "text/markdown": [
       "\n",
       "| year | totalTweets | confidentTweets | positiveConfident | negativeConfident | neutralConfident | mixedConfident |\n",
       "|---|---|---|---|---|---|---|\n",
       "| 2007            | 31              | 5 (16.13%)      | 1 (20%)         | 0 (0%)          | 4 (80%)         | 0 (0%)          |\n",
       "| 2008            | 552             | 120 (21.74%)    | 11 (9.17%)      | 39 (32.5%)      | 63 (52.5%)      | 7 (5.83%)       |\n",
       "| 2009            | 5890            | 1554 (26.38%)   | 145 (9.33%)     | 377 (24.26%)    | 962 (61.9%)     | 70 (4.5%)       |\n",
       "| 2010            | 24099           | 6006 (24.92%)   | 646 (10.76%)    | 1410 (23.48%)   | 3656 (60.87%)   | 294 (4.9%)      |\n",
       "| 2011            | 48441           | 11841 (24.44%)  | 1250 (10.56%)   | 3686 (31.13%)   | 6351 (53.64%)   | 554 (4.68%)     |\n",
       "| 2012            | 69507           | 16903 (24.32%)  | 1852 (10.96%)   | 6752 (39.95%)   | 7459 (44.13%)   | 840 (4.97%)     |\n",
       "| 2013            | 59175           | 15020 (25.38%)  | 1726 (11.49%)   | 5965 (39.71%)   | 6713 (44.69%)   | 616 (4.1%)      |\n",
       "| 2014            | 59339           | 15013 (25.3%)   | 1621 (10.8%)    | 5366 (35.74%)   | 7454 (49.65%)   | 572 (3.81%)     |\n",
       "| 2015            | 51962           | 13125 (25.26%)  | 1526 (11.63%)   | 4393 (33.47%)   | 6720 (51.2%)    | 486 (3.7%)      |\n",
       "| 2016            | 61690           | 14333 (23.23%)  | 2137 (14.91%)   | 5320 (37.12%)   | 6112 (42.64%)   | 764 (5.33%)     |\n",
       "| 2017            | 56003           | 13503 (24.11%)  | 2444 (18.1%)    | 5811 (43.03%)   | 4454 (32.99%)   | 794 (5.88%)     |\n",
       "| 2018            | 92630           | 21577 (23.29%)  | 4509 (20.9%)    | 10346 (47.95%)  | 5185 (24.03%)   | 1537 (7.12%)    |\n",
       "| 2019            | 135745          | 31713 (23.36%)  | 7157 (22.57%)   | 15874 (50.06%)  | 6144 (19.37%)   | 2538 (8%)       |\n",
       "| Total           | 665064          | 160713 (24.17%) | 25025 (15.57%)  | 65339 (40.66%)  | 61277 (38.13%)  | 9072 (5.64%)    |\n",
       "\n"
      ],
      "text/plain": [
       "   year  totalTweets confidentTweets positiveConfident negativeConfident\n",
       "1  2007  31          5 (16.13%)      1 (20%)           0 (0%)           \n",
       "2  2008  552         120 (21.74%)    11 (9.17%)        39 (32.5%)       \n",
       "3  2009  5890        1554 (26.38%)   145 (9.33%)       377 (24.26%)     \n",
       "4  2010  24099       6006 (24.92%)   646 (10.76%)      1410 (23.48%)    \n",
       "5  2011  48441       11841 (24.44%)  1250 (10.56%)     3686 (31.13%)    \n",
       "6  2012  69507       16903 (24.32%)  1852 (10.96%)     6752 (39.95%)    \n",
       "7  2013  59175       15020 (25.38%)  1726 (11.49%)     5965 (39.71%)    \n",
       "8  2014  59339       15013 (25.3%)   1621 (10.8%)      5366 (35.74%)    \n",
       "9  2015  51962       13125 (25.26%)  1526 (11.63%)     4393 (33.47%)    \n",
       "10 2016  61690       14333 (23.23%)  2137 (14.91%)     5320 (37.12%)    \n",
       "11 2017  56003       13503 (24.11%)  2444 (18.1%)      5811 (43.03%)    \n",
       "12 2018  92630       21577 (23.29%)  4509 (20.9%)      10346 (47.95%)   \n",
       "13 2019  135745      31713 (23.36%)  7157 (22.57%)     15874 (50.06%)   \n",
       "14 Total 665064      160713 (24.17%) 25025 (15.57%)    65339 (40.66%)   \n",
       "   neutralConfident mixedConfident\n",
       "1  4 (80%)          0 (0%)        \n",
       "2  63 (52.5%)       7 (5.83%)     \n",
       "3  962 (61.9%)      70 (4.5%)     \n",
       "4  3656 (60.87%)    294 (4.9%)    \n",
       "5  6351 (53.64%)    554 (4.68%)   \n",
       "6  7459 (44.13%)    840 (4.97%)   \n",
       "7  6713 (44.69%)    616 (4.1%)    \n",
       "8  7454 (49.65%)    572 (3.81%)   \n",
       "9  6720 (51.2%)     486 (3.7%)    \n",
       "10 6112 (42.64%)    764 (5.33%)   \n",
       "11 4454 (32.99%)    794 (5.88%)   \n",
       "12 5185 (24.03%)    1537 (7.12%)  \n",
       "13 6144 (19.37%)    2538 (8%)     \n",
       "14 61277 (38.13%)   9072 (5.64%)  "
      ]
     },
     "metadata": {},
     "output_type": "display_data"
    }
   ],
   "source": [
    "###############\n",
    "# All Methods #\n",
    "###############\n",
    "polarityResultsByYear <- polarityAnalysis( categories = c( \"IUD\", \"copperIUD\", \"LNG-IUD\", \"Implant\", \"Shot\", \"Pill\", \"Ring\", \"Patch\") )\n",
    "dim(polarityResultsByYear)\n",
    "\n",
    "summaryResults <- polarityByYear( polarityResults = polarityResultsByYear, confidence = confidenceScore, \n",
    "                                  outputPath = \"/home/ec2-user/SageMaker/polarityPerYear/\", outputName = \"AllTweets\")\n",
    "summaryResults"
   ]
  },
  {
   "cell_type": "code",
   "execution_count": 42,
   "metadata": {},
   "outputs": [
    {
     "data": {
      "text/html": [
       "<ol class=list-inline>\n",
       "\t<li>665064</li>\n",
       "\t<li>10</li>\n",
       "</ol>\n"
      ],
      "text/latex": [
       "\\begin{enumerate*}\n",
       "\\item 665064\n",
       "\\item 10\n",
       "\\end{enumerate*}\n"
      ],
      "text/markdown": [
       "1. 665064\n",
       "2. 10\n",
       "\n",
       "\n"
      ],
      "text/plain": [
       "[1] 665064     10"
      ]
     },
     "metadata": {},
     "output_type": "display_data"
    },
    {
     "name": "stdout",
     "output_type": "stream",
     "text": [
      "[1] \"There are a total of 665064 tweets in this category\"\n",
      "[1] \"There are a total of 665064 tweets in this category with 0confidence\"\n"
     ]
    },
    {
     "data": {
      "text/html": [
       "<table>\n",
       "<thead><tr><th scope=col>year</th><th scope=col>totalTweets</th><th scope=col>confidentTweets</th><th scope=col>positiveConfident</th><th scope=col>negativeConfident</th><th scope=col>neutralConfident</th><th scope=col>mixedConfident</th></tr></thead>\n",
       "<tbody>\n",
       "\t<tr><td>2007           </td><td>31             </td><td>31 (100%)      </td><td>5 (16.13%)     </td><td>7 (22.58%)     </td><td>18 (58.06%)    </td><td>1 (3.23%)      </td></tr>\n",
       "\t<tr><td>2008           </td><td>552            </td><td>552 (100%)     </td><td>67 (12.14%)    </td><td>195 (35.33%)   </td><td>271 (49.09%)   </td><td>19 (3.44%)     </td></tr>\n",
       "\t<tr><td>2009           </td><td>5890           </td><td>5890 (100%)    </td><td>775 (13.16%)   </td><td>1754 (29.78%)  </td><td>3117 (52.92%)  </td><td>244 (4.14%)    </td></tr>\n",
       "\t<tr><td>2010           </td><td>24099          </td><td>24099 (100%)   </td><td>3194 (13.25%)  </td><td>6943 (28.81%)  </td><td>12974 (53.84%) </td><td>988 (4.1%)     </td></tr>\n",
       "\t<tr><td>2011           </td><td>48441          </td><td>48441 (100%)   </td><td>6395 (13.2%)   </td><td>15966 (32.96%) </td><td>24229 (50.02%) </td><td>1851 (3.82%)   </td></tr>\n",
       "\t<tr><td>2012           </td><td>69507          </td><td>69507 (100%)   </td><td>9360 (13.47%)  </td><td>26507 (38.14%) </td><td>30874 (44.42%) </td><td>2766 (3.98%)   </td></tr>\n",
       "\t<tr><td>2013           </td><td>59175          </td><td>59175 (100%)   </td><td>7813 (13.2%)   </td><td>22612 (38.21%) </td><td>26719 (45.15%) </td><td>2031 (3.43%)   </td></tr>\n",
       "\t<tr><td>2014           </td><td>59339          </td><td>59339 (100%)   </td><td>7246 (12.21%)  </td><td>21894 (36.9%)  </td><td>28213 (47.55%) </td><td>1986 (3.35%)   </td></tr>\n",
       "\t<tr><td>2015           </td><td>51962          </td><td>51962 (100%)   </td><td>6474 (12.46%)  </td><td>18445 (35.5%)  </td><td>25400 (48.88%) </td><td>1643 (3.16%)   </td></tr>\n",
       "\t<tr><td>2016           </td><td>61690          </td><td>61690 (100%)   </td><td>8524 (13.82%)  </td><td>23179 (37.57%) </td><td>27672 (44.86%) </td><td>2315 (3.75%)   </td></tr>\n",
       "\t<tr><td>2017           </td><td>56003          </td><td>56003 (100%)   </td><td>8752 (15.63%)  </td><td>22999 (41.07%) </td><td>21863 (39.04%) </td><td>2389 (4.27%)   </td></tr>\n",
       "\t<tr><td>2018           </td><td>92630          </td><td>92630 (100%)   </td><td>16148 (17.43%) </td><td>40096 (43.29%) </td><td>31400 (33.9%)  </td><td>4986 (5.38%)   </td></tr>\n",
       "\t<tr><td>2019           </td><td>135745         </td><td>135745 (100%)  </td><td>23835 (17.56%) </td><td>60860 (44.83%) </td><td>43242 (31.86%) </td><td>7808 (5.75%)   </td></tr>\n",
       "\t<tr><td>Total          </td><td>665064         </td><td>665064 (100%)  </td><td>98588 (14.82%) </td><td>261457 (39.31%)</td><td>275992 (41.5%) </td><td>29027 (4.36%)  </td></tr>\n",
       "</tbody>\n",
       "</table>\n"
      ],
      "text/latex": [
       "\\begin{tabular}{r|lllllll}\n",
       " year & totalTweets & confidentTweets & positiveConfident & negativeConfident & neutralConfident & mixedConfident\\\\\n",
       "\\hline\n",
       "\t 2007              & 31                & 31 (100\\%)       & 5 (16.13\\%)      & 7 (22.58\\%)      & 18 (58.06\\%)     & 1 (3.23\\%)      \\\\\n",
       "\t 2008              & 552               & 552 (100\\%)      & 67 (12.14\\%)     & 195 (35.33\\%)    & 271 (49.09\\%)    & 19 (3.44\\%)     \\\\\n",
       "\t 2009              & 5890              & 5890 (100\\%)     & 775 (13.16\\%)    & 1754 (29.78\\%)   & 3117 (52.92\\%)   & 244 (4.14\\%)    \\\\\n",
       "\t 2010              & 24099             & 24099 (100\\%)    & 3194 (13.25\\%)   & 6943 (28.81\\%)   & 12974 (53.84\\%)  & 988 (4.1\\%)     \\\\\n",
       "\t 2011              & 48441             & 48441 (100\\%)    & 6395 (13.2\\%)    & 15966 (32.96\\%)  & 24229 (50.02\\%)  & 1851 (3.82\\%)   \\\\\n",
       "\t 2012              & 69507             & 69507 (100\\%)    & 9360 (13.47\\%)   & 26507 (38.14\\%)  & 30874 (44.42\\%)  & 2766 (3.98\\%)   \\\\\n",
       "\t 2013              & 59175             & 59175 (100\\%)    & 7813 (13.2\\%)    & 22612 (38.21\\%)  & 26719 (45.15\\%)  & 2031 (3.43\\%)   \\\\\n",
       "\t 2014              & 59339             & 59339 (100\\%)    & 7246 (12.21\\%)   & 21894 (36.9\\%)   & 28213 (47.55\\%)  & 1986 (3.35\\%)   \\\\\n",
       "\t 2015              & 51962             & 51962 (100\\%)    & 6474 (12.46\\%)   & 18445 (35.5\\%)   & 25400 (48.88\\%)  & 1643 (3.16\\%)   \\\\\n",
       "\t 2016              & 61690             & 61690 (100\\%)    & 8524 (13.82\\%)   & 23179 (37.57\\%)  & 27672 (44.86\\%)  & 2315 (3.75\\%)   \\\\\n",
       "\t 2017              & 56003             & 56003 (100\\%)    & 8752 (15.63\\%)   & 22999 (41.07\\%)  & 21863 (39.04\\%)  & 2389 (4.27\\%)   \\\\\n",
       "\t 2018              & 92630             & 92630 (100\\%)    & 16148 (17.43\\%)  & 40096 (43.29\\%)  & 31400 (33.9\\%)   & 4986 (5.38\\%)   \\\\\n",
       "\t 2019              & 135745            & 135745 (100\\%)   & 23835 (17.56\\%)  & 60860 (44.83\\%)  & 43242 (31.86\\%)  & 7808 (5.75\\%)   \\\\\n",
       "\t Total             & 665064            & 665064 (100\\%)   & 98588 (14.82\\%)  & 261457 (39.31\\%) & 275992 (41.5\\%)  & 29027 (4.36\\%)  \\\\\n",
       "\\end{tabular}\n"
      ],
      "text/markdown": [
       "\n",
       "| year | totalTweets | confidentTweets | positiveConfident | negativeConfident | neutralConfident | mixedConfident |\n",
       "|---|---|---|---|---|---|---|\n",
       "| 2007            | 31              | 31 (100%)       | 5 (16.13%)      | 7 (22.58%)      | 18 (58.06%)     | 1 (3.23%)       |\n",
       "| 2008            | 552             | 552 (100%)      | 67 (12.14%)     | 195 (35.33%)    | 271 (49.09%)    | 19 (3.44%)      |\n",
       "| 2009            | 5890            | 5890 (100%)     | 775 (13.16%)    | 1754 (29.78%)   | 3117 (52.92%)   | 244 (4.14%)     |\n",
       "| 2010            | 24099           | 24099 (100%)    | 3194 (13.25%)   | 6943 (28.81%)   | 12974 (53.84%)  | 988 (4.1%)      |\n",
       "| 2011            | 48441           | 48441 (100%)    | 6395 (13.2%)    | 15966 (32.96%)  | 24229 (50.02%)  | 1851 (3.82%)    |\n",
       "| 2012            | 69507           | 69507 (100%)    | 9360 (13.47%)   | 26507 (38.14%)  | 30874 (44.42%)  | 2766 (3.98%)    |\n",
       "| 2013            | 59175           | 59175 (100%)    | 7813 (13.2%)    | 22612 (38.21%)  | 26719 (45.15%)  | 2031 (3.43%)    |\n",
       "| 2014            | 59339           | 59339 (100%)    | 7246 (12.21%)   | 21894 (36.9%)   | 28213 (47.55%)  | 1986 (3.35%)    |\n",
       "| 2015            | 51962           | 51962 (100%)    | 6474 (12.46%)   | 18445 (35.5%)   | 25400 (48.88%)  | 1643 (3.16%)    |\n",
       "| 2016            | 61690           | 61690 (100%)    | 8524 (13.82%)   | 23179 (37.57%)  | 27672 (44.86%)  | 2315 (3.75%)    |\n",
       "| 2017            | 56003           | 56003 (100%)    | 8752 (15.63%)   | 22999 (41.07%)  | 21863 (39.04%)  | 2389 (4.27%)    |\n",
       "| 2018            | 92630           | 92630 (100%)    | 16148 (17.43%)  | 40096 (43.29%)  | 31400 (33.9%)   | 4986 (5.38%)    |\n",
       "| 2019            | 135745          | 135745 (100%)   | 23835 (17.56%)  | 60860 (44.83%)  | 43242 (31.86%)  | 7808 (5.75%)    |\n",
       "| Total           | 665064          | 665064 (100%)   | 98588 (14.82%)  | 261457 (39.31%) | 275992 (41.5%)  | 29027 (4.36%)   |\n",
       "\n"
      ],
      "text/plain": [
       "   year  totalTweets confidentTweets positiveConfident negativeConfident\n",
       "1  2007  31          31 (100%)       5 (16.13%)        7 (22.58%)       \n",
       "2  2008  552         552 (100%)      67 (12.14%)       195 (35.33%)     \n",
       "3  2009  5890        5890 (100%)     775 (13.16%)      1754 (29.78%)    \n",
       "4  2010  24099       24099 (100%)    3194 (13.25%)     6943 (28.81%)    \n",
       "5  2011  48441       48441 (100%)    6395 (13.2%)      15966 (32.96%)   \n",
       "6  2012  69507       69507 (100%)    9360 (13.47%)     26507 (38.14%)   \n",
       "7  2013  59175       59175 (100%)    7813 (13.2%)      22612 (38.21%)   \n",
       "8  2014  59339       59339 (100%)    7246 (12.21%)     21894 (36.9%)    \n",
       "9  2015  51962       51962 (100%)    6474 (12.46%)     18445 (35.5%)    \n",
       "10 2016  61690       61690 (100%)    8524 (13.82%)     23179 (37.57%)   \n",
       "11 2017  56003       56003 (100%)    8752 (15.63%)     22999 (41.07%)   \n",
       "12 2018  92630       92630 (100%)    16148 (17.43%)    40096 (43.29%)   \n",
       "13 2019  135745      135745 (100%)   23835 (17.56%)    60860 (44.83%)   \n",
       "14 Total 665064      665064 (100%)   98588 (14.82%)    261457 (39.31%)  \n",
       "   neutralConfident mixedConfident\n",
       "1  18 (58.06%)      1 (3.23%)     \n",
       "2  271 (49.09%)     19 (3.44%)    \n",
       "3  3117 (52.92%)    244 (4.14%)   \n",
       "4  12974 (53.84%)   988 (4.1%)    \n",
       "5  24229 (50.02%)   1851 (3.82%)  \n",
       "6  30874 (44.42%)   2766 (3.98%)  \n",
       "7  26719 (45.15%)   2031 (3.43%)  \n",
       "8  28213 (47.55%)   1986 (3.35%)  \n",
       "9  25400 (48.88%)   1643 (3.16%)  \n",
       "10 27672 (44.86%)   2315 (3.75%)  \n",
       "11 21863 (39.04%)   2389 (4.27%)  \n",
       "12 31400 (33.9%)    4986 (5.38%)  \n",
       "13 43242 (31.86%)   7808 (5.75%)  \n",
       "14 275992 (41.5%)   29027 (4.36%) "
      ]
     },
     "metadata": {},
     "output_type": "display_data"
    }
   ],
   "source": [
    "###############\n",
    "# All Methods #\n",
    "###############\n",
    "polarityResultsByYear <- polarityAnalysis( categories = c( \"IUD\", \"copperIUD\", \"LNG-IUD\", \"Implant\", \"Shot\", \"Pill\", \"Ring\", \"Patch\") )\n",
    "dim(polarityResultsByYear)\n",
    "\n",
    "summaryResults <- polarityByYear( polarityResults = polarityResultsByYear, confidence = 0, \n",
    "                                  outputPath = \"/home/ec2-user/SageMaker/polarityPerYear/\", outputName = \"AllTweets\")\n",
    "summaryResults"
   ]
  },
  {
   "cell_type": "code",
   "execution_count": 15,
   "metadata": {},
   "outputs": [
    {
     "data": {
      "text/plain": [
       "R version 3.6.1 (2019-07-05)\n",
       "Platform: x86_64-conda_cos6-linux-gnu (64-bit)\n",
       "Running under: Amazon Linux AMI 2018.03\n",
       "\n",
       "Matrix products: default\n",
       "BLAS/LAPACK: /home/ec2-user/anaconda3/envs/R/lib/R/lib/libRblas.so\n",
       "\n",
       "locale:\n",
       " [1] LC_CTYPE=en_US.UTF-8       LC_NUMERIC=C              \n",
       " [3] LC_TIME=en_US.UTF-8        LC_COLLATE=en_US.UTF-8    \n",
       " [5] LC_MONETARY=en_US.UTF-8    LC_MESSAGES=en_US.UTF-8   \n",
       " [7] LC_PAPER=en_US.UTF-8       LC_NAME=C                 \n",
       " [9] LC_ADDRESS=C               LC_TELEPHONE=C            \n",
       "[11] LC_MEASUREMENT=en_US.UTF-8 LC_IDENTIFICATION=C       \n",
       "\n",
       "attached base packages:\n",
       "[1] stats     graphics  grDevices utils     datasets  methods   base     \n",
       "\n",
       "other attached packages:\n",
       "[1] dplyr_0.8.3   ggplot2_3.1.1\n",
       "\n",
       "loaded via a namespace (and not attached):\n",
       " [1] Rcpp_1.0.1       magrittr_1.5     tidyselect_0.2.5 munsell_0.5.0   \n",
       " [5] uuid_0.1-2       colorspace_1.4-1 R6_2.4.0         rlang_0.4.2     \n",
       " [9] plyr_1.8.4       tools_3.6.1      grid_3.6.1       gtable_0.3.0    \n",
       "[13] withr_2.1.2      htmltools_0.3.6  lazyeval_0.2.2   digest_0.6.18   \n",
       "[17] assertthat_0.2.1 tibble_2.1.1     crayon_1.3.4     IRdisplay_0.7.0 \n",
       "[21] purrr_0.3.2      repr_0.19.2      base64enc_0.1-3  IRkernel_0.8.15 \n",
       "[25] glue_1.3.1       evaluate_0.13    pbdZMQ_0.3-3     compiler_3.6.1  \n",
       "[29] pillar_1.3.1     scales_1.0.0     jsonlite_1.6     pkgconfig_2.0.2 "
      ]
     },
     "metadata": {},
     "output_type": "display_data"
    }
   ],
   "source": [
    "sessionInfo()"
   ]
  }
 ],
 "metadata": {
  "kernelspec": {
   "display_name": "R",
   "language": "R",
   "name": "ir"
  },
  "language_info": {
   "codemirror_mode": "r",
   "file_extension": ".r",
   "mimetype": "text/x-r-source",
   "name": "R",
   "pygments_lexer": "r",
   "version": "3.6.1"
  }
 },
 "nbformat": 4,
 "nbformat_minor": 2
}
