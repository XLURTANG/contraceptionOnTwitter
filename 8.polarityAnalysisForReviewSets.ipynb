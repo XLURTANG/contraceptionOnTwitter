{
 "cells": [
  {
   "cell_type": "markdown",
   "metadata": {},
   "source": [
    "# Sentiment analysis using Amazon Comprehend for the Tweets manually reviewed\n",
    "\n",
    "This notebook contains the script to perform a sentiment analysis using Amazon Comprehend but only for the specific tweets that are manually reviewed. "
   ]
  },
  {
   "cell_type": "code",
   "execution_count": 8,
   "metadata": {},
   "outputs": [],
   "source": [
    "import pandas as pd\n",
    "from collections import OrderedDict\n",
    "import requests\n",
    "import boto3 \n",
    "comprehend = boto3.client('comprehend', region_name='us-east-1')\n",
    "import os\n",
    "path=os.getcwd()\n",
    "import timeit"
   ]
  },
  {
   "cell_type": "markdown",
   "metadata": {},
   "source": [
    "### Set 1"
   ]
  },
  {
   "cell_type": "code",
   "execution_count": 13,
   "metadata": {},
   "outputs": [
    {
     "name": "stdout",
     "output_type": "stream",
     "text": [
      "Time:  30.876050509978086\n"
     ]
    }
   ],
   "source": [
    "df = pd.read_csv('/home/ec2-user/SageMaker/tweetsToReviewPolarity/polarity_set1WithResults.csv' )\n",
    "len(df.text)\n",
    "\n",
    "start = timeit.default_timer()\n",
    "dfTweet = pd.DataFrame(columns=[\"tweets\" ,\"sentiments\" ,\"positive\" ,\"negative\" ,\"neutral\", \"mixed\" ])\n",
    "\n",
    "\n",
    "for i in range(len(df.text)):  \n",
    "    #print(i) \n",
    "    if pd.notna(df.text[i]):\n",
    "        res = comprehend.detect_sentiment(Text=df.text[i] , LanguageCode='en')\n",
    "        s = res.get('Sentiment')\n",
    "        p = res.get('SentimentScore')['Positive']\n",
    "        neg = res.get('SentimentScore')['Negative']\n",
    "        neu = res.get('SentimentScore')['Neutral']\n",
    "        mix = res.get('SentimentScore')['Mixed']\n",
    "\n",
    "        dfTweet = dfTweet.append({\"tweets\": df.text[i],\"sentiments\": s, 'positive': p, 'negative': neg, \n",
    "                                 'neutral': neu, 'mixed': mix},ignore_index=True)\n",
    "\n",
    "stop = timeit.default_timer()\n",
    "\n",
    "print('Time: ', stop - start)  \n",
    "\n",
    "dfTweet.to_csv(path_or_buf=path+'/'+\"tweetsToReviewPolarity/set1_AWScomprehend_corrected.csv\")"
   ]
  },
  {
   "cell_type": "markdown",
   "metadata": {},
   "source": [
    "### Set 2"
   ]
  },
  {
   "cell_type": "code",
   "execution_count": 14,
   "metadata": {},
   "outputs": [
    {
     "name": "stdout",
     "output_type": "stream",
     "text": [
      "Time:  29.07250589085743\n"
     ]
    }
   ],
   "source": [
    "df = pd.read_csv('/home/ec2-user/SageMaker/tweetsToReviewPolarity/polarity_set2WithResults.csv' )\n",
    "len(df.text)\n",
    "\n",
    "start = timeit.default_timer()\n",
    "dfTweet = pd.DataFrame(columns=[\"tweets\" ,\"sentiments\" ,\"positive\" ,\"negative\" ,\"neutral\", \"mixed\"  ])\n",
    "\n",
    "\n",
    "for i in range(len(df.text)):  \n",
    "    #print(i) \n",
    "    if pd.notna(df.text[i]):\n",
    "        res = comprehend.detect_sentiment(Text=df.text[i] , LanguageCode='en')\n",
    "        s = res.get('Sentiment')\n",
    "        p = res.get('SentimentScore')['Positive']\n",
    "        neg = res.get('SentimentScore')['Negative']\n",
    "        neu = res.get('SentimentScore')['Neutral']\n",
    "        mix = res.get('SentimentScore')['Mixed']\n",
    "\n",
    "        dfTweet = dfTweet.append({\"tweets\": df.text[i],\"sentiments\": s, 'positive': p, 'negative': neg, \n",
    "                                 'neutral': neu, 'mixed': mix},ignore_index=True)\n",
    "\n",
    "stop = timeit.default_timer()\n",
    "\n",
    "print('Time: ', stop - start)  \n",
    "\n",
    "dfTweet.to_csv(path_or_buf=path+'/'+\"tweetsToReviewPolarity/set2_AWScomprehend_corrected.csv\")"
   ]
  }
 ],
 "metadata": {
  "kernelspec": {
   "display_name": "conda_python3",
   "language": "python",
   "name": "conda_python3"
  },
  "language_info": {
   "codemirror_mode": {
    "name": "ipython",
    "version": 3
   },
   "file_extension": ".py",
   "mimetype": "text/x-python",
   "name": "python",
   "nbconvert_exporter": "python",
   "pygments_lexer": "ipython3",
   "version": "3.6.5"
  }
 },
 "nbformat": 4,
 "nbformat_minor": 2
}
