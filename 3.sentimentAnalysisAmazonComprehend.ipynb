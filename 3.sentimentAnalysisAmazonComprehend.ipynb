{
 "cells": [
  {
   "cell_type": "markdown",
   "metadata": {},
   "source": [
    "# Sentiment analysis using Amazon Comprehend\n",
    "\n",
    "This notebook contains the script to perform a sentiment analysis using Amazon Comprehend. \n",
    "We will run the sentiment analysis for all the clean tweets (tweets with only keywords of one category) to extract the sentiment towards that BC category. \n",
    "\n",
    "When running this notebook, we saved the output in \"AWScomprenhend_output\""
   ]
  },
  {
   "cell_type": "code",
   "execution_count": 1,
   "metadata": {},
   "outputs": [],
   "source": [
    "import pandas as pd\n",
    "from collections import OrderedDict\n",
    "import requests\n",
    "import boto3 \n",
    "comprehend = boto3.client('comprehend', region_name='us-east-1')\n",
    "import os\n",
    "path=os.getcwd()\n",
    "import timeit"
   ]
  },
  {
   "cell_type": "markdown",
   "metadata": {},
   "source": [
    "**Note that the average time to process one tweet is 0.0591 seconds**"
   ]
  },
  {
   "cell_type": "code",
   "execution_count": 17,
   "metadata": {},
   "outputs": [
    {
     "name": "stdout",
     "output_type": "stream",
     "text": [
      "Time:  699.2440515314229\n"
     ]
    }
   ],
   "source": [
    "###########\n",
    "# LNG IUD #\n",
    "###########\n",
    "\n",
    "df = pd.read_csv('/home/ec2-user/SageMaker/CleanAndAggregateTweets/LNG-IUD_CleanTweets.txt',\n",
    "                 sep = '\\t' )\n",
    "len(df.text)\n",
    "\n",
    "start = timeit.default_timer()\n",
    "dfTweet = pd.DataFrame(columns=[\"tweets\" ,\"sentiments\" ,\"positive\" ,\"negative\" ,\"neutral\", \"mixed\" ])\n",
    "\n",
    "\n",
    "for i in range(len(df.text)):  \n",
    "    #print(i) \n",
    "    if pd.notna(df.text[i]):\n",
    "        res = comprehend.detect_sentiment(Text=df.text[i] , LanguageCode='en')\n",
    "        s = res.get('Sentiment')\n",
    "        p = res.get('SentimentScore')['Positive']\n",
    "        neg = res.get('SentimentScore')['Negative']\n",
    "        neu = res.get('SentimentScore')['Neutral']\n",
    "        mix = res.get('SentimentScore')['Mixed']\n",
    "\n",
    "        \n",
    "        dfTweet = dfTweet.append({\"tweets\": df.text[i],\"sentiments\": s, 'positive': p, 'negative': neg, \n",
    "                                 'neutral': neu, 'mixed': mix},ignore_index=True)\n",
    "\n",
    "stop = timeit.default_timer()\n",
    "\n",
    "print('Time: ', stop - start)  \n",
    "\n",
    "dfTweet.to_csv(path_or_buf=path+'/'+\"AWScomprenhend_output/LNG-IUD_AWScomprehend_complete.csv\")"
   ]
  },
  {
   "cell_type": "code",
   "execution_count": 19,
   "metadata": {},
   "outputs": [
    {
     "name": "stdout",
     "output_type": "stream",
     "text": [
      "Time:  1074.938692579046\n"
     ]
    }
   ],
   "source": [
    "##############\n",
    "# Copper IUD #\n",
    "##############\n",
    "\n",
    "df = pd.read_csv('/home/ec2-user/SageMaker/CleanAndAggregateTweets/copperIUD_CleanTweets.txt',\n",
    "                 sep = '\\t' )\n",
    "len(df.text)\n",
    "\n",
    "start = timeit.default_timer()\n",
    "dfTweet = pd.DataFrame(columns=[\"tweets\" ,\"sentiments\" ,\"positive\" ,\"negative\" ,\"neutral\", \"mixed\" ])\n",
    "\n",
    "\n",
    "for i in range(len(df.text)):  \n",
    "    #print(i) \n",
    "    if pd.notna(df.text[i]):\n",
    "        res = comprehend.detect_sentiment(Text=df.text[i] , LanguageCode='en')\n",
    "        s = res.get('Sentiment')\n",
    "        p = res.get('SentimentScore')['Positive']\n",
    "        neg = res.get('SentimentScore')['Negative']\n",
    "        neu = res.get('SentimentScore')['Neutral']\n",
    "        mix = res.get('SentimentScore')['Mixed']\n",
    "\n",
    "        \n",
    "        dfTweet = dfTweet.append({\"tweets\": df.text[i],\"sentiments\": s, 'positive': p, 'negative': neg, \n",
    "                                 'neutral': neu, 'mixed': mix},ignore_index=True)\n",
    "\n",
    "stop = timeit.default_timer()\n",
    "\n",
    "\n",
    "print('Time: ', stop - start)  \n",
    "\n",
    "dfTweet.to_csv(path_or_buf=path+'/'+\"AWScomprenhend_output/copperIUD_AWScomprehend_complete.csv\")"
   ]
  },
  {
   "cell_type": "code",
   "execution_count": 20,
   "metadata": {},
   "outputs": [
    {
     "name": "stdout",
     "output_type": "stream",
     "text": [
      "Time:  846.8812921629287\n"
     ]
    }
   ],
   "source": [
    "#############\n",
    "# The Patch #\n",
    "############\n",
    "df = pd.read_csv('/home/ec2-user/SageMaker/CleanAndAggregateTweets/Patch_CleanTweets.txt',\n",
    "                 sep = '\\t' )\n",
    "len(df.text)\n",
    "\n",
    "start = timeit.default_timer()\n",
    "dfTweet = pd.DataFrame(columns=[\"tweets\" ,\"sentiments\" ,\"positive\" ,\"negative\" ,\"neutral\", \"mixed\" ])\n",
    "\n",
    "\n",
    "for i in range(len(df.text)):  \n",
    "    #print(i) \n",
    "    if pd.notna(df.text[i]):\n",
    "        res = comprehend.detect_sentiment(Text=df.text[i] , LanguageCode='en')\n",
    "        s = res.get('Sentiment')\n",
    "        p = res.get('SentimentScore')['Positive']\n",
    "        neg = res.get('SentimentScore')['Negative']\n",
    "        neu = res.get('SentimentScore')['Neutral']\n",
    "        mix = res.get('SentimentScore')['Mixed']\n",
    "\n",
    "        \n",
    "        dfTweet = dfTweet.append({\"tweets\": df.text[i],\"sentiments\": s, 'positive': p, 'negative': neg, \n",
    "                                 'neutral': neu, 'mixed': mix},ignore_index=True)\n",
    "\n",
    "stop = timeit.default_timer()\n",
    "\n",
    "\n",
    "print('Time: ', stop - start)  \n",
    "\n",
    "dfTweet.to_csv(path_or_buf=path+'/'+\"AWScomprenhend_output/Patch_AWScomprehend_complete.csv\")"
   ]
  },
  {
   "cell_type": "code",
   "execution_count": 21,
   "metadata": {},
   "outputs": [
    {
     "name": "stdout",
     "output_type": "stream",
     "text": [
      "Time:  3390.8262455840595\n"
     ]
    }
   ],
   "source": [
    "############\n",
    "# The Ring #\n",
    "############\n",
    "df = pd.read_csv('/home/ec2-user/SageMaker/CleanAndAggregateTweets/Ring_CleanTweets.txt',\n",
    "                 sep = '\\t' )\n",
    "len(df.text)\n",
    "\n",
    "start = timeit.default_timer()\n",
    "dfTweet = pd.DataFrame(columns=[\"tweets\" ,\"sentiments\" ,\"positive\" ,\"negative\" ,\"neutral\", \"mixed\" ])\n",
    "\n",
    "\n",
    "for i in range(len(df.text)):  \n",
    "    #print(i) \n",
    "    if pd.notna(df.text[i]):\n",
    "        res = comprehend.detect_sentiment(Text=df.text[i] , LanguageCode='en')\n",
    "        s = res.get('Sentiment')\n",
    "        p = res.get('SentimentScore')['Positive']\n",
    "        neg = res.get('SentimentScore')['Negative']\n",
    "        neu = res.get('SentimentScore')['Neutral']\n",
    "        mix = res.get('SentimentScore')['Mixed']\n",
    "\n",
    "        \n",
    "        dfTweet = dfTweet.append({\"tweets\": df.text[i],\"sentiments\": s, 'positive': p, 'negative': neg, \n",
    "                                 'neutral': neu, 'mixed': mix},ignore_index=True)\n",
    "\n",
    "stop = timeit.default_timer()\n",
    "\n",
    "print('Time: ', stop - start)  \n",
    "\n",
    "dfTweet.to_csv(path_or_buf=path+'/'+\"AWScomprenhend_output/Ring_AWScomprehend_complete.csv\")"
   ]
  },
  {
   "cell_type": "code",
   "execution_count": 22,
   "metadata": {},
   "outputs": [
    {
     "name": "stdout",
     "output_type": "stream",
     "text": [
      "Time:  4820.4766345359385\n"
     ]
    }
   ],
   "source": [
    "###########\n",
    "# Implant #\n",
    "###########\n",
    "df = pd.read_csv('/home/ec2-user/SageMaker/CleanAndAggregateTweets/Implant_CleanTweets.txt',\n",
    "                 sep = '\\t' )\n",
    "len(df.text)\n",
    "\n",
    "start = timeit.default_timer()\n",
    "dfTweet = pd.DataFrame(columns=[\"tweets\" ,\"sentiments\" ,\"positive\" ,\"negative\" ,\"neutral\", \"mixed\" ])\n",
    "\n",
    "\n",
    "for i in range(len(df.text)):  \n",
    "    #print(i) \n",
    "    if pd.notna(df.text[i]):\n",
    "        res = comprehend.detect_sentiment(Text=df.text[i] , LanguageCode='en')\n",
    "        s = res.get('Sentiment')\n",
    "        p = res.get('SentimentScore')['Positive']\n",
    "        neg = res.get('SentimentScore')['Negative']\n",
    "        neu = res.get('SentimentScore')['Neutral']\n",
    "        mix = res.get('SentimentScore')['Mixed']\n",
    "\n",
    "        \n",
    "        dfTweet = dfTweet.append({\"tweets\": df.text[i],\"sentiments\": s, 'positive': p, 'negative': neg, \n",
    "                                 'neutral': neu, 'mixed': mix},ignore_index=True)\n",
    "\n",
    "stop = timeit.default_timer()\n",
    "\n",
    "\n",
    "print('Time: ', stop - start)  \n",
    "\n",
    "dfTweet.to_csv(path_or_buf=path+'/'+\"AWScomprenhend_output/Implant_AWScomprehend_complete.csv\")"
   ]
  },
  {
   "cell_type": "code",
   "execution_count": 23,
   "metadata": {},
   "outputs": [
    {
     "name": "stdout",
     "output_type": "stream",
     "text": [
      "Time:  5920.48179143481\n"
     ]
    }
   ],
   "source": [
    "############\n",
    "# The pill #\n",
    "############\n",
    "\n",
    "df = pd.read_csv('/home/ec2-user/SageMaker/CleanAndAggregateTweets/Pill_CleanTweets.txt',\n",
    "                 sep = '\\t' )\n",
    "len(df.text)\n",
    "\n",
    "start = timeit.default_timer()\n",
    "dfTweet = pd.DataFrame(columns=[\"tweets\" ,\"sentiments\" ,\"positive\" ,\"negative\" ,\"neutral\", \"mixed\" ])\n",
    "\n",
    "\n",
    "for i in range(len(df.text)):  \n",
    "    #print(i) \n",
    "    if pd.notna(df.text[i]):\n",
    "        res = comprehend.detect_sentiment(Text=df.text[i] , LanguageCode='en')\n",
    "        s = res.get('Sentiment')\n",
    "        p = res.get('SentimentScore')['Positive']\n",
    "        neg = res.get('SentimentScore')['Negative']\n",
    "        neu = res.get('SentimentScore')['Neutral']\n",
    "        mix = res.get('SentimentScore')['Mixed']\n",
    "\n",
    "        \n",
    "        dfTweet = dfTweet.append({\"tweets\": df.text[i],\"sentiments\": s, 'positive': p, 'negative': neg, \n",
    "                                 'neutral': neu, 'mixed': mix},ignore_index=True)\n",
    "\n",
    "stop = timeit.default_timer()\n",
    "\n",
    "\n",
    "print('Time: ', stop - start)  \n",
    "\n",
    "dfTweet.to_csv(path_or_buf=path+'/'+\"AWScomprenhend_output/Pill_AWScomprehend_complete.csv\")"
   ]
  },
  {
   "cell_type": "code",
   "execution_count": null,
   "metadata": {},
   "outputs": [
    {
     "name": "stdout",
     "output_type": "stream",
     "text": [
      "Time:  7641.2541323899995\n"
     ]
    }
   ],
   "source": [
    "###########\n",
    "# TheShot #\n",
    "###########\n",
    "df = pd.read_csv('/home/ec2-user/SageMaker/CleanAndAggregateTweets/Shot_CleanTweets.txt',\n",
    "                 sep = '\\t' )\n",
    "len(df.text)\n",
    "\n",
    "start = timeit.default_timer()\n",
    "dfTweet = pd.DataFrame(columns=[\"tweets\" ,\"sentiments\" ,\"positive\" ,\"negative\" ,\"neutral\", \"mixed\" ])\n",
    "\n",
    "\n",
    "for i in range(len(df.text)):  \n",
    "    #print(i) \n",
    "    if pd.notna(df.text[i]):\n",
    "        res = comprehend.detect_sentiment(Text=df.text[i] , LanguageCode='en')\n",
    "        s = res.get('Sentiment')\n",
    "        p = res.get('SentimentScore')['Positive']\n",
    "        neg = res.get('SentimentScore')['Negative']\n",
    "        neu = res.get('SentimentScore')['Neutral']\n",
    "        mix = res.get('SentimentScore')['Mixed']\n",
    "\n",
    "        \n",
    "        dfTweet = dfTweet.append({\"tweets\": df.text[i],\"sentiments\": s, 'positive': p, 'negative': neg, \n",
    "                                 'neutral': neu, 'mixed': mix},ignore_index=True)\n",
    "\n",
    "stop = timeit.default_timer()\n",
    "\n",
    "print('Time: ', stop - start)  \n",
    "\n",
    "dfTweet.to_csv(path_or_buf=path+'/'+\"AWScomprenhend_output/Shot_AWScomprehend_complete.csv\")\n"
   ]
  },
  {
   "cell_type": "code",
   "execution_count": null,
   "metadata": {},
   "outputs": [
    {
     "name": "stdout",
     "output_type": "stream",
     "text": [
      "Time:  20650.387392189\n"
     ]
    }
   ],
   "source": [
    "#######\n",
    "# IUD #\n",
    "#######\n",
    "\n",
    "df = pd.read_csv('/home/ec2-user/SageMaker/CleanAndAggregateTweets/IUD_CleanTweets.txt',\n",
    "                 sep = '\\t' )\n",
    "len(df.text)\n",
    "\n",
    "start = timeit.default_timer()\n",
    "dfTweet = pd.DataFrame(columns=[\"tweets\" ,\"sentiments\" ,\"positive\" ,\"negative\" ,\"neutral\", \"mixed\" ])\n",
    "\n",
    "\n",
    "for i in range(len(df.text)):  \n",
    "    #print(i) \n",
    "    if pd.notna(df.text[i]):\n",
    "        res = comprehend.detect_sentiment(Text=df.text[i] , LanguageCode='en')\n",
    "        s = res.get('Sentiment')\n",
    "        p = res.get('SentimentScore')['Positive']\n",
    "        neg = res.get('SentimentScore')['Negative']\n",
    "        neu = res.get('SentimentScore')['Neutral']\n",
    "        mix = res.get('SentimentScore')['Mixed']\n",
    "\n",
    "        \n",
    "        dfTweet = dfTweet.append({\"tweets\": df.text[i],\"sentiments\": s, 'positive': p, 'negative': neg, \n",
    "                                 'neutral': neu, 'mixed': mix},ignore_index=True)\n",
    "\n",
    "stop = timeit.default_timer()\n",
    "\n",
    "\n",
    "print('Time: ', stop - start)  \n",
    "\n",
    "dfTweet.to_csv(path_or_buf=path+'/'+\"AWScomprenhend_output/IUD_AWScomprehend_complete.csv\")"
   ]
  }
 ],
 "metadata": {
  "kernelspec": {
   "display_name": "conda_python3",
   "language": "python",
   "name": "conda_python3"
  },
  "language_info": {
   "codemirror_mode": {
    "name": "ipython",
    "version": 3
   },
   "file_extension": ".py",
   "mimetype": "text/x-python",
   "name": "python",
   "nbconvert_exporter": "python",
   "pygments_lexer": "ipython3",
   "version": "3.6.5"
  }
 },
 "nbformat": 4,
 "nbformat_minor": 2
}
