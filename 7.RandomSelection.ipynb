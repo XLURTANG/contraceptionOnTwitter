{
 "cells": [
  {
   "cell_type": "markdown",
   "metadata": {},
   "source": [
    "# Random selection of tweets\n",
    "\n",
    "This notebook contains the script and functions to generate random tweets selection according to the number of reviewers for each set and generate the output files in the most convinient format, in this case:\n",
    "- 5000 tweets per set\n",
    "- 5 reviewers per group"
   ]
  },
  {
   "cell_type": "code",
   "execution_count": 63,
   "metadata": {},
   "outputs": [],
   "source": [
    "#####################\n",
    "# Load Libraries    #\n",
    "#####################\n",
    "#install.packages(\"dplyr\")\n",
    "library(\"dplyr\")"
   ]
  },
  {
   "cell_type": "code",
   "execution_count": 1,
   "metadata": {},
   "outputs": [],
   "source": [
    "###################################\n",
    "# Random tweets polarity selection #\n",
    "###################################\n",
    "#1st. Look for all the files that are in the folder \n",
    "#those tweets are clean tweets that we are using as input for the AWS comprehend polarity analysis\n",
    "rm(list=ls())\n",
    "fileList <- list.files(\"/home/ec2-user/SageMaker/CleanAndAggregateTweets/\")"
   ]
  },
  {
   "cell_type": "code",
   "execution_count": 76,
   "metadata": {},
   "outputs": [
    {
     "name": "stdout",
     "output_type": "stream",
     "text": [
      "[1] \"In total we have 679443 tweets for the polarity analysis.\"\n"
     ]
    }
   ],
   "source": [
    "#2nd.we read all the files and we create a unique file with all of them together\n",
    "for( i in 1:length( fileList ) ){\n",
    "    if(i == 1){\n",
    "        mytweetlist <- read.delim(paste0(\"/home/ec2-user/SageMaker/CleanAndAggregateTweets/\", \n",
    "                                        fileList[i]), header = TRUE)\n",
    "    }else{\n",
    "        newtweetfile <- read.delim(paste0(\"/home/ec2-user/SageMaker/CleanAndAggregateTweets/\", \n",
    "                                        fileList[i]), header = TRUE)\n",
    "        mytweetlist <- rbind( mytweetlist, newtweetfile )\n",
    "        rm( newtweetfile)\n",
    "    }\n",
    "}\n",
    "print(paste0(\"In total we have \", nrow(mytweetlist), \" tweets for the polarity analysis.\"))"
   ]
  },
  {
   "cell_type": "code",
   "execution_count": 77,
   "metadata": {},
   "outputs": [],
   "source": [
    "########################################\n",
    "# Function to extract tweets randomly #\n",
    "#######################################\n",
    "randomTweetsPolarityExtraction <- function( tweets.df, tweetNumber, reviewersName, tweetSet, outputPath ){\n",
    "    \n",
    "    randomSelection <- sample_n( tweets.df, tweetNumber+1)\n",
    "    \n",
    "    write.table(randomSelection, file= paste0(outputPath, \"polarity_set\", tweetSet, \"WithResults.csv\"), col.names = TRUE, row.names = FALSE, sep=\",\" )\n",
    "    \n",
    "    randomSelectionForReviewers <- as.data.frame(as.character(randomSelection$text))\n",
    "    randomSelectionForReviewers$positive <- \"-\"\n",
    "    randomSelectionForReviewers$negative <- \"-\"\n",
    "    randomSelectionForReviewers$neutral <- \"-\"\n",
    "    randomSelectionForReviewers$mixed <- \"-\"\n",
    "    randomSelectionForReviewers$falsePositive <- \"-\"\n",
    "    \n",
    "    colnames(randomSelectionForReviewers)[1] <- \"text\"\n",
    "    \n",
    "    for( i in 1:length(reviewersName)){\n",
    "          write.table(randomSelectionForReviewers, file= paste0(outputPath, reviewersName[i], \"_polarity_set\", tweetSet,\".csv\"), col.names = TRUE, row.names = FALSE, sep=\",\" )\n",
    "    }\n",
    "}"
   ]
  },
  {
   "cell_type": "markdown",
   "metadata": {},
   "source": [
    "We have 10 reviewers, so we will create two sets of 500 tweets each. "
   ]
  },
  {
   "cell_type": "code",
   "execution_count": 78,
   "metadata": {},
   "outputs": [],
   "source": [
    "randomTweetsPolarityExtraction( tweets.df   = mytweetlist,\n",
    "                        tweetNumber = 500,\n",
    "                        reviewersName = c(\"tomi\", \"annie\", \"sonya\", \"kim\", \"sofia\"),\n",
    "                        tweetSet = 1,\n",
    "                        outputPath  = \"/home/ec2-user/SageMaker/tweetsToReviewPolarity/\" )\n",
    "\n",
    "randomTweetsPolarityExtraction( tweets.df   = mytweetlist,\n",
    "                        tweetNumber = 500,\n",
    "                        reviewersName = c(\"melody\", \"anabel\", \"natalie\", \"sun\", \"kathleen\", \"chloe\"),\n",
    "                        tweetSet = 2,\n",
    "                        outputPath  = \"/home/ec2-user/SageMaker/tweetsToReviewPolarity/\" )"
   ]
  },
  {
   "cell_type": "code",
   "execution_count": 11,
   "metadata": {},
   "outputs": [
    {
     "data": {
      "text/plain": [
       "R version 3.6.1 (2019-07-05)\n",
       "Platform: x86_64-conda_cos6-linux-gnu (64-bit)\n",
       "Running under: Amazon Linux AMI 2018.03\n",
       "\n",
       "Matrix products: default\n",
       "BLAS/LAPACK: /home/ec2-user/anaconda3/envs/R/lib/R/lib/libRblas.so\n",
       "\n",
       "locale:\n",
       " [1] LC_CTYPE=en_US.UTF-8       LC_NUMERIC=C              \n",
       " [3] LC_TIME=en_US.UTF-8        LC_COLLATE=en_US.UTF-8    \n",
       " [5] LC_MONETARY=en_US.UTF-8    LC_MESSAGES=en_US.UTF-8   \n",
       " [7] LC_PAPER=en_US.UTF-8       LC_NAME=C                 \n",
       " [9] LC_ADDRESS=C               LC_TELEPHONE=C            \n",
       "[11] LC_MEASUREMENT=en_US.UTF-8 LC_IDENTIFICATION=C       \n",
       "\n",
       "attached base packages:\n",
       "[1] stats     graphics  grDevices utils     datasets  methods   base     \n",
       "\n",
       "other attached packages:\n",
       "[1] dplyr_0.8.0.1\n",
       "\n",
       "loaded via a namespace (and not attached):\n",
       " [1] Rcpp_1.0.1       digest_0.6.18    crayon_1.3.4     assertthat_0.2.1\n",
       " [5] IRdisplay_0.7.0  repr_0.19.2      R6_2.4.0         jsonlite_1.6    \n",
       " [9] magrittr_1.5     evaluate_0.13    pillar_1.3.1     rlang_0.3.4     \n",
       "[13] uuid_0.1-2       IRkernel_0.8.15  tools_3.6.1      glue_1.3.1      \n",
       "[17] purrr_0.3.2      compiler_3.6.1   pkgconfig_2.0.2  base64enc_0.1-3 \n",
       "[21] htmltools_0.3.6  pbdZMQ_0.3-3     tidyselect_0.2.5 tibble_2.1.1    "
      ]
     },
     "metadata": {},
     "output_type": "display_data"
    }
   ],
   "source": [
    "sessionInfo()"
   ]
  }
 ],
 "metadata": {
  "kernelspec": {
   "display_name": "R",
   "language": "R",
   "name": "ir"
  },
  "language_info": {
   "codemirror_mode": "r",
   "file_extension": ".r",
   "mimetype": "text/x-r-source",
   "name": "R",
   "pygments_lexer": "r",
   "version": "3.6.1"
  }
 },
 "nbformat": 4,
 "nbformat_minor": 2
}
