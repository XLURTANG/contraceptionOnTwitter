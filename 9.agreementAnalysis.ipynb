{
 "cells": [
  {
   "cell_type": "markdown",
   "metadata": {},
   "source": [
    "# Agreement analysis for polarity\n",
    "\n",
    "This notebook contains the functions to:\n",
    "- analyze the manual review results. \n",
    "- create the gold standard based on the agreement\n",
    "- obtain the observed and Kappa agreement"
   ]
  },
  {
   "cell_type": "code",
   "execution_count": 140,
   "metadata": {},
   "outputs": [
    {
     "ename": "ERROR",
     "evalue": "Error in library(\"ROCit\"): there is no package called ‘ROCit’\n",
     "output_type": "error",
     "traceback": [
      "Error in library(\"ROCit\"): there is no package called ‘ROCit’\nTraceback:\n",
      "1. library(\"ROCit\")"
     ]
    }
   ],
   "source": [
    "#####################\n",
    "# Load Libraries    #\n",
    "#####################\n",
    "#install.packages(\"dplyr\")\n",
    "#install.packages(\"irr\")\n",
    "library(\"dplyr\")\n",
    "library(\"irr\")\n",
    "rm(list=ls())"
   ]
  },
  {
   "cell_type": "code",
   "execution_count": 43,
   "metadata": {},
   "outputs": [],
   "source": [
    "###################################\n",
    "# Function to transform the data  #\n",
    "###################################\n",
    "transformDataForAgreement <- function( input, startingColumn, finishingColum, output ){\n",
    "    \n",
    "    #remove the first row because is an example\n",
    "    input <-  input[-1,]\n",
    "    \n",
    "    # Transform the dash into a 0 \n",
    "    input[,c(startingColumn:finishingColum)] <- lapply(input[,c(startingColumn:finishingColum)], function(x) gsub(\"-\", 0, x))\n",
    "                                                       \n",
    "    #Transform columns in numeric\n",
    "    input[, c(startingColumn:finishingColum)] <- sapply(input[, c(startingColumn:finishingColum)], as.numeric)\n",
    "    \n",
    "    if( output == \"dataframe\"){\n",
    "            return( input )\n",
    "    }\n",
    "    if( output == \"vector\" ){\n",
    "        return( as.numeric( as.vector( t( input[,c(startingColumn:finishingColum)]))))\n",
    "    }\n",
    "\n",
    "\n",
    "}"
   ]
  },
  {
   "cell_type": "code",
   "execution_count": 44,
   "metadata": {},
   "outputs": [],
   "source": [
    "#################################################\n",
    "# Function to obtain the polarity gold standard #\n",
    "#################################################\n",
    "goldStandard <- function( dfSum, reviewers, startingColumn, finishingColumn ){\n",
    "    \n",
    "    dfSum$score <- NA\n",
    "    dfSum$goldStandard <- NA\n",
    "    \n",
    "    for( i in 1:nrow( dfSum ) ){\n",
    "        \n",
    "        rowValues <- dfSum[i,startingColumn:finishingColumn]\n",
    "        differentAnswers <- length( rowValues[ rowValues != 0])\n",
    "        \n",
    "        if( differentAnswers == 1){\n",
    "            dfSum$score[i] <- 1\n",
    "            dfSum$goldStandard[i] <- names(which.max(rowValues)) \n",
    "        }else if( differentAnswers == reviewers){\n",
    "            dfSum$score[i] <- 0\n",
    "            dfSum$goldStandard[i] <- \"NO AGREEMENT\"\n",
    "        }else{\n",
    "            dfSum$score[i] <- round( max(rowValues)/reviewers, 2)\n",
    "            dfSum$goldStandard[i] <- names(which.max(rowValues))\n",
    "        }\n",
    "    }\n",
    "    return( dfSum )\n",
    "}"
   ]
  },
  {
   "cell_type": "markdown",
   "metadata": {},
   "source": [
    "## Agreement analysis for polarity set 1"
   ]
  },
  {
   "cell_type": "code",
   "execution_count": 95,
   "metadata": {},
   "outputs": [
    {
     "data": {
      "text/plain": [
       " Fleiss' Kappa for m Raters\n",
       "\n",
       " Subjects = 2435 \n",
       "   Raters = 5 \n",
       "    Kappa = 0.632 \n",
       "\n",
       "        z = 98.7 \n",
       "  p-value = 0 "
      ]
     },
     "metadata": {},
     "output_type": "display_data"
    },
    {
     "data": {
      "text/html": [
       "<ol class=list-inline>\n",
       "\t<li>488</li>\n",
       "\t<li>6</li>\n",
       "</ol>\n"
      ],
      "text/latex": [
       "\\begin{enumerate*}\n",
       "\\item 488\n",
       "\\item 6\n",
       "\\end{enumerate*}\n"
      ],
      "text/markdown": [
       "1. 488\n",
       "2. 6\n",
       "\n",
       "\n"
      ],
      "text/plain": [
       "[1] 488   6"
      ]
     },
     "metadata": {},
     "output_type": "display_data"
    }
   ],
   "source": [
    "fileList <- list.files(\"/home/ec2-user/SageMaker/tweetsToReviewPolarity/\", pattern = \"set1_Results.csv\")\n",
    "fileList <- fileList[ fileList != \"polarity_set1WithResults.csv\" ]\n",
    "\n",
    "rm(df1, df2, df3, df4, df5, a1, b1, c1, d1, e1)\n",
    "\n",
    "for(i in 1:length(fileList)){\n",
    "    newName <- paste0(\"df\", i)\n",
    "    filepath <- file.path(\"/home/ec2-user/SageMaker/tweetsToReviewPolarity/\",paste0(fileList[i]))\n",
    "    assign(newName, read.csv(filepath, header=TRUE))\n",
    "}\n",
    "\n",
    "df1 <- transformDataForAgreement( input = df1, startingColumn = 2, finishingColum = 6, output = \"dataframe\")\n",
    "df1 <- df1[, c(1:6)]\n",
    "df2 <- transformDataForAgreement( input = df2, startingColumn = 2, finishingColum = 6, output = \"dataframe\")\n",
    "df2 <- df2[, c(1:6)]\n",
    "df3 <- transformDataForAgreement( input = df3, startingColumn = 2, finishingColum = 6, output = \"dataframe\")\n",
    "df3 <- df3[, c(1:6)]\n",
    "df4 <- transformDataForAgreement( input = df4, startingColumn = 2, finishingColum = 6, output = \"dataframe\")\n",
    "df4 <- df4[, c(1:6)]\n",
    "df5 <- transformDataForAgreement( input = df5, startingColumn = 2, finishingColum = 6, output = \"dataframe\")\n",
    "df5 <- df5[, c(1:6)]\n",
    "\n",
    "\n",
    "a1 <- transformDataForAgreement( input = df1, startingColumn = 2, finishingColum = 6, output = \"vector\")\n",
    "b1 <- transformDataForAgreement( input = df2, startingColumn = 2, finishingColum = 6, output = \"vector\")\n",
    "c1 <- transformDataForAgreement( input = df3, startingColumn = 2, finishingColum = 6, output = \"vector\")\n",
    "d1 <- transformDataForAgreement( input = df4, startingColumn = 2, finishingColum = 6, output = \"vector\")\n",
    "e1 <- transformDataForAgreement( input = df5, startingColumn = 2, finishingColum = 6, output = \"vector\")\n",
    "\n",
    "#############################################\n",
    "# General Agreement between all the raters #\n",
    "############################################\n",
    "irr::kappam.fleiss(cbind(a1, b1, c1, d1, e1) )\n",
    "\n",
    "dfSum <- cbind(df1[1], df1[-1] + df2[-1] + df3[-1] + df4[-1] + df5[-1])\n",
    "dim(dfSum)\n"
   ]
  },
  {
   "cell_type": "markdown",
   "metadata": {},
   "source": [
    "### Agreement for each tweet between all the raters"
   ]
  },
  {
   "cell_type": "code",
   "execution_count": 96,
   "metadata": {},
   "outputs": [
    {
     "data": {
      "text/html": [
       "<table>\n",
       "<thead><tr><th scope=col>text</th><th scope=col>kappa</th><th scope=col>pvalue</th><th scope=col>zscore</th></tr></thead>\n",
       "<tbody>\n",
       "\t<tr><td>serious question my boyfriend has and now i’m curious; does my iud protect against god babies? like if there’s a market for immaculate conception, am i protected?                                                                               </td><td>1.0                                                                                                                                                                                                                                              </td><td>0.000000                                                                                                                                                                                                                                         </td><td>7.071                                                                                                                                                                                                                                            </td></tr>\n",
       "\t<tr><td>has been proven not to work. for some it's psychological. they also use injection depo (contraception) on them too                                                                                                                               </td><td>0.5                                                                                                                                                                                                                                              </td><td>0.000407                                                                                                                                                                                                                                         </td><td>3.536                                                                                                                                                                                                                                            </td></tr>\n",
       "\t<tr><td>just because you have the blessing of being able to carry a child doesn’t mean you have the right to murder it. get a contraception implant if you don’t want to have a child. i’d much prefer you be barren instead of taking a life. idiot.....</td><td>1.0                                                                                                                                                                                                                                              </td><td>0.000000                                                                                                                                                                                                                                         </td><td>7.071                                                                                                                                                                                                                                            </td></tr>\n",
       "\t<tr><td>need response jennifer williams ward anyone taken depo provera? did you or do you like it? what to expect?                                                                                                                                       </td><td>1.0                                                                                                                                                                                                                                              </td><td>0.000000                                                                                                                                                                                                                                         </td><td>7.071                                                                                                                                                                                                                                            </td></tr>\n",
       "\t<tr><td>lmfaooooo : let me see yo birth control patch bitch                                                                                                                                                                                              </td><td>0.5                                                                                                                                                                                                                                              </td><td>0.000407                                                                                                                                                                                                                                         </td><td>3.536                                                                                                                                                                                                                                            </td></tr>\n",
       "\t<tr><td>« gotta birth control shot, ish hurt like hell» hell yeah                                                                                                                                                                                        </td><td>1.0                                                                                                                                                                                                                                              </td><td>0.000000                                                                                                                                                                                                                                         </td><td>7.071                                                                                                                                                                                                                                            </td></tr>\n",
       "</tbody>\n",
       "</table>\n"
      ],
      "text/latex": [
       "\\begin{tabular}{r|llll}\n",
       " text & kappa & pvalue & zscore\\\\\n",
       "\\hline\n",
       "\t serious question my boyfriend has and now i’m curious; does my iud protect against god babies? like if there’s a market for immaculate conception, am i protected?                                                                                & 1.0                                                                                                                                                                                                                                               & 0.000000                                                                                                                                                                                                                                          & 7.071                                                                                                                                                                                                                                            \\\\\n",
       "\t has been proven not to work. for some it's psychological. they also use injection depo (contraception) on them too                                                                                                                                & 0.5                                                                                                                                                                                                                                               & 0.000407                                                                                                                                                                                                                                          & 3.536                                                                                                                                                                                                                                            \\\\\n",
       "\t just because you have the blessing of being able to carry a child doesn’t mean you have the right to murder it. get a contraception implant if you don’t want to have a child. i’d much prefer you be barren instead of taking a life. idiot..... & 1.0                                                                                                                                                                                                                                               & 0.000000                                                                                                                                                                                                                                          & 7.071                                                                                                                                                                                                                                            \\\\\n",
       "\t need response jennifer williams ward anyone taken depo provera? did you or do you like it? what to expect?                                                                                                                                        & 1.0                                                                                                                                                                                                                                               & 0.000000                                                                                                                                                                                                                                          & 7.071                                                                                                                                                                                                                                            \\\\\n",
       "\t lmfaooooo : let me see yo birth control patch bitch                                                                                                                                                                                               & 0.5                                                                                                                                                                                                                                               & 0.000407                                                                                                                                                                                                                                          & 3.536                                                                                                                                                                                                                                            \\\\\n",
       "\t « gotta birth control shot, ish hurt like hell» hell yeah                                                                                                                                                                                         & 1.0                                                                                                                                                                                                                                               & 0.000000                                                                                                                                                                                                                                          & 7.071                                                                                                                                                                                                                                            \\\\\n",
       "\\end{tabular}\n"
      ],
      "text/markdown": [
       "\n",
       "| text | kappa | pvalue | zscore |\n",
       "|---|---|---|---|\n",
       "| serious question my boyfriend has and now i’m curious; does my iud protect against god babies? like if there’s a market for immaculate conception, am i protected?                                                                                | 1.0                                                                                                                                                                                                                                               | 0.000000                                                                                                                                                                                                                                          | 7.071                                                                                                                                                                                                                                             |\n",
       "| has been proven not to work. for some it's psychological. they also use injection depo (contraception) on them too                                                                                                                                | 0.5                                                                                                                                                                                                                                               | 0.000407                                                                                                                                                                                                                                          | 3.536                                                                                                                                                                                                                                             |\n",
       "| just because you have the blessing of being able to carry a child doesn’t mean you have the right to murder it. get a contraception implant if you don’t want to have a child. i’d much prefer you be barren instead of taking a life. idiot..... | 1.0                                                                                                                                                                                                                                               | 0.000000                                                                                                                                                                                                                                          | 7.071                                                                                                                                                                                                                                             |\n",
       "| need response jennifer williams ward anyone taken depo provera? did you or do you like it? what to expect?                                                                                                                                        | 1.0                                                                                                                                                                                                                                               | 0.000000                                                                                                                                                                                                                                          | 7.071                                                                                                                                                                                                                                             |\n",
       "| lmfaooooo : let me see yo birth control patch bitch                                                                                                                                                                                               | 0.5                                                                                                                                                                                                                                               | 0.000407                                                                                                                                                                                                                                          | 3.536                                                                                                                                                                                                                                             |\n",
       "| « gotta birth control shot, ish hurt like hell» hell yeah                                                                                                                                                                                         | 1.0                                                                                                                                                                                                                                               | 0.000000                                                                                                                                                                                                                                          | 7.071                                                                                                                                                                                                                                             |\n",
       "\n"
      ],
      "text/plain": [
       "  text                                                                                                                                                                                                                                             \n",
       "1 serious question my boyfriend has and now i’m curious; does my iud protect against god babies? like if there’s a market for immaculate conception, am i protected?                                                                               \n",
       "2 has been proven not to work. for some it's psychological. they also use injection depo (contraception) on them too                                                                                                                               \n",
       "3 just because you have the blessing of being able to carry a child doesn’t mean you have the right to murder it. get a contraception implant if you don’t want to have a child. i’d much prefer you be barren instead of taking a life. idiot.....\n",
       "4 need response jennifer williams ward anyone taken depo provera? did you or do you like it? what to expect?                                                                                                                                       \n",
       "5 lmfaooooo : let me see yo birth control patch bitch                                                                                                                                                                                              \n",
       "6 « gotta birth control shot, ish hurt like hell» hell yeah                                                                                                                                                                                        \n",
       "  kappa pvalue   zscore\n",
       "1 1.0   0.000000 7.071 \n",
       "2 0.5   0.000407 3.536 \n",
       "3 1.0   0.000000 7.071 \n",
       "4 1.0   0.000000 7.071 \n",
       "5 0.5   0.000407 3.536 \n",
       "6 1.0   0.000000 7.071 "
      ]
     },
     "metadata": {},
     "output_type": "display_data"
    },
    {
     "name": "stdout",
     "output_type": "stream",
     "text": [
      "[1] \"Total agreement in 229 out of the total 488 tweets.\"\n"
     ]
    }
   ],
   "source": [
    "kappaDf <- as.data.frame( df1[,1] )\n",
    "kappaDf$kappa <- NA\n",
    "kappaDf$pvalue <- NA\n",
    "kappaDf$zscore <- NA\n",
    "\n",
    "colnames( kappaDf )[1] <- \"text\"\n",
    "\n",
    "for( i in 1:nrow( kappaDf ) ){\n",
    "    kappaScore <- irr::kappam.fleiss(cbind(as.numeric(df1[i,2:6]), as.numeric(df2[i,2:6]), as.numeric(df3[i,2:6]),\n",
    "                                     as.numeric(df4[i,2:6]), as.numeric(df5[i,2:6])))\n",
    "    kappaDf$kappa[i]  <- kappaScore$value \n",
    "    kappaDf$pvalue[i] <- round(kappaScore$p.value,6)\n",
    "    kappaDf$zscore[i] <- round(kappaScore$statistic, 3)\n",
    "}\n",
    "\n",
    "head(kappaDf)\n",
    "print( paste0(\"Total agreement in \", nrow(kappaDf[ kappaDf$kappa ==1, ]), \" out of the total \", nrow(kappaDf), \" tweets.\"))"
   ]
  },
  {
   "cell_type": "markdown",
   "metadata": {},
   "source": [
    "### Create the gold standard based on all the raters answers\n",
    "- Each tweet has been reviewed independently by 5 different reviewers. We will include in the gold standard those tweets for which at least 3 reviewers agreed. \n",
    "- The goldStandard function will generate a data.frame where each row represent a tweet and it estimates how many raters classified the tweet as positive, negative, neutral, mixed or false positive. It will also show the Kappa score for the agreement (0 completely disagreement, 1 all agree) and the gold standard (the classification with the greates agreement)"
   ]
  },
  {
   "cell_type": "code",
   "execution_count": 97,
   "metadata": {},
   "outputs": [
    {
     "data": {
      "text/html": [
       "<table>\n",
       "<thead><tr><th></th><th scope=col>text</th><th scope=col>positive</th><th scope=col>negative</th><th scope=col>neutral</th><th scope=col>mixed</th><th scope=col>falsePositive</th><th scope=col>score</th><th scope=col>goldStandard</th></tr></thead>\n",
       "<tbody>\n",
       "\t<tr><th scope=row>2</th><td>serious question my boyfriend has and now i’m curious; does my iud protect against god babies? like if there’s a market for immaculate conception, am i protected?                                                                               </td><td>0                                                                                                                                                                                                                                                </td><td>0                                                                                                                                                                                                                                                </td><td>5                                                                                                                                                                                                                                                </td><td>0                                                                                                                                                                                                                                                </td><td>0                                                                                                                                                                                                                                                </td><td>1.0                                                                                                                                                                                                                                              </td><td>neutral                                                                                                                                                                                                                                          </td></tr>\n",
       "\t<tr><th scope=row>3</th><td>has been proven not to work. for some it's psychological. they also use injection depo (contraception) on them too                                                                                                                               </td><td>0                                                                                                                                                                                                                                                </td><td>1                                                                                                                                                                                                                                                </td><td>4                                                                                                                                                                                                                                                </td><td>0                                                                                                                                                                                                                                                </td><td>0                                                                                                                                                                                                                                                </td><td>0.8                                                                                                                                                                                                                                              </td><td>neutral                                                                                                                                                                                                                                          </td></tr>\n",
       "\t<tr><th scope=row>4</th><td>just because you have the blessing of being able to carry a child doesn’t mean you have the right to murder it. get a contraception implant if you don’t want to have a child. i’d much prefer you be barren instead of taking a life. idiot.....</td><td>5                                                                                                                                                                                                                                                </td><td>0                                                                                                                                                                                                                                                </td><td>0                                                                                                                                                                                                                                                </td><td>0                                                                                                                                                                                                                                                </td><td>0                                                                                                                                                                                                                                                </td><td>1.0                                                                                                                                                                                                                                              </td><td>positive                                                                                                                                                                                                                                         </td></tr>\n",
       "\t<tr><th scope=row>5</th><td>need response jennifer williams ward anyone taken depo provera? did you or do you like it? what to expect?                                                                                                                                       </td><td>0                                                                                                                                                                                                                                                </td><td>0                                                                                                                                                                                                                                                </td><td>5                                                                                                                                                                                                                                                </td><td>0                                                                                                                                                                                                                                                </td><td>0                                                                                                                                                                                                                                                </td><td>1.0                                                                                                                                                                                                                                              </td><td>neutral                                                                                                                                                                                                                                          </td></tr>\n",
       "\t<tr><th scope=row>6</th><td>lmfaooooo : let me see yo birth control patch bitch                                                                                                                                                                                              </td><td>0                                                                                                                                                                                                                                                </td><td>0                                                                                                                                                                                                                                                </td><td>4                                                                                                                                                                                                                                                </td><td>1                                                                                                                                                                                                                                                </td><td>0                                                                                                                                                                                                                                                </td><td>0.8                                                                                                                                                                                                                                              </td><td>neutral                                                                                                                                                                                                                                          </td></tr>\n",
       "\t<tr><th scope=row>7</th><td>« gotta birth control shot, ish hurt like hell» hell yeah                                                                                                                                                                                        </td><td>0                                                                                                                                                                                                                                                </td><td>5                                                                                                                                                                                                                                                </td><td>0                                                                                                                                                                                                                                                </td><td>0                                                                                                                                                                                                                                                </td><td>0                                                                                                                                                                                                                                                </td><td>1.0                                                                                                                                                                                                                                              </td><td>negative                                                                                                                                                                                                                                         </td></tr>\n",
       "</tbody>\n",
       "</table>\n"
      ],
      "text/latex": [
       "\\begin{tabular}{r|llllllll}\n",
       "  & text & positive & negative & neutral & mixed & falsePositive & score & goldStandard\\\\\n",
       "\\hline\n",
       "\t2 & serious question my boyfriend has and now i’m curious; does my iud protect against god babies? like if there’s a market for immaculate conception, am i protected?                                                                                & 0                                                                                                                                                                                                                                                 & 0                                                                                                                                                                                                                                                 & 5                                                                                                                                                                                                                                                 & 0                                                                                                                                                                                                                                                 & 0                                                                                                                                                                                                                                                 & 1.0                                                                                                                                                                                                                                               & neutral                                                                                                                                                                                                                                          \\\\\n",
       "\t3 & has been proven not to work. for some it's psychological. they also use injection depo (contraception) on them too                                                                                                                                & 0                                                                                                                                                                                                                                                 & 1                                                                                                                                                                                                                                                 & 4                                                                                                                                                                                                                                                 & 0                                                                                                                                                                                                                                                 & 0                                                                                                                                                                                                                                                 & 0.8                                                                                                                                                                                                                                               & neutral                                                                                                                                                                                                                                          \\\\\n",
       "\t4 & just because you have the blessing of being able to carry a child doesn’t mean you have the right to murder it. get a contraception implant if you don’t want to have a child. i’d much prefer you be barren instead of taking a life. idiot..... & 5                                                                                                                                                                                                                                                 & 0                                                                                                                                                                                                                                                 & 0                                                                                                                                                                                                                                                 & 0                                                                                                                                                                                                                                                 & 0                                                                                                                                                                                                                                                 & 1.0                                                                                                                                                                                                                                               & positive                                                                                                                                                                                                                                         \\\\\n",
       "\t5 & need response jennifer williams ward anyone taken depo provera? did you or do you like it? what to expect?                                                                                                                                        & 0                                                                                                                                                                                                                                                 & 0                                                                                                                                                                                                                                                 & 5                                                                                                                                                                                                                                                 & 0                                                                                                                                                                                                                                                 & 0                                                                                                                                                                                                                                                 & 1.0                                                                                                                                                                                                                                               & neutral                                                                                                                                                                                                                                          \\\\\n",
       "\t6 & lmfaooooo : let me see yo birth control patch bitch                                                                                                                                                                                               & 0                                                                                                                                                                                                                                                 & 0                                                                                                                                                                                                                                                 & 4                                                                                                                                                                                                                                                 & 1                                                                                                                                                                                                                                                 & 0                                                                                                                                                                                                                                                 & 0.8                                                                                                                                                                                                                                               & neutral                                                                                                                                                                                                                                          \\\\\n",
       "\t7 & « gotta birth control shot, ish hurt like hell» hell yeah                                                                                                                                                                                         & 0                                                                                                                                                                                                                                                 & 5                                                                                                                                                                                                                                                 & 0                                                                                                                                                                                                                                                 & 0                                                                                                                                                                                                                                                 & 0                                                                                                                                                                                                                                                 & 1.0                                                                                                                                                                                                                                               & negative                                                                                                                                                                                                                                         \\\\\n",
       "\\end{tabular}\n"
      ],
      "text/markdown": [
       "\n",
       "| <!--/--> | text | positive | negative | neutral | mixed | falsePositive | score | goldStandard |\n",
       "|---|---|---|---|---|---|---|---|---|\n",
       "| 2 | serious question my boyfriend has and now i’m curious; does my iud protect against god babies? like if there’s a market for immaculate conception, am i protected?                                                                                | 0                                                                                                                                                                                                                                                 | 0                                                                                                                                                                                                                                                 | 5                                                                                                                                                                                                                                                 | 0                                                                                                                                                                                                                                                 | 0                                                                                                                                                                                                                                                 | 1.0                                                                                                                                                                                                                                               | neutral                                                                                                                                                                                                                                           |\n",
       "| 3 | has been proven not to work. for some it's psychological. they also use injection depo (contraception) on them too                                                                                                                                | 0                                                                                                                                                                                                                                                 | 1                                                                                                                                                                                                                                                 | 4                                                                                                                                                                                                                                                 | 0                                                                                                                                                                                                                                                 | 0                                                                                                                                                                                                                                                 | 0.8                                                                                                                                                                                                                                               | neutral                                                                                                                                                                                                                                           |\n",
       "| 4 | just because you have the blessing of being able to carry a child doesn’t mean you have the right to murder it. get a contraception implant if you don’t want to have a child. i’d much prefer you be barren instead of taking a life. idiot..... | 5                                                                                                                                                                                                                                                 | 0                                                                                                                                                                                                                                                 | 0                                                                                                                                                                                                                                                 | 0                                                                                                                                                                                                                                                 | 0                                                                                                                                                                                                                                                 | 1.0                                                                                                                                                                                                                                               | positive                                                                                                                                                                                                                                          |\n",
       "| 5 | need response jennifer williams ward anyone taken depo provera? did you or do you like it? what to expect?                                                                                                                                        | 0                                                                                                                                                                                                                                                 | 0                                                                                                                                                                                                                                                 | 5                                                                                                                                                                                                                                                 | 0                                                                                                                                                                                                                                                 | 0                                                                                                                                                                                                                                                 | 1.0                                                                                                                                                                                                                                               | neutral                                                                                                                                                                                                                                           |\n",
       "| 6 | lmfaooooo : let me see yo birth control patch bitch                                                                                                                                                                                               | 0                                                                                                                                                                                                                                                 | 0                                                                                                                                                                                                                                                 | 4                                                                                                                                                                                                                                                 | 1                                                                                                                                                                                                                                                 | 0                                                                                                                                                                                                                                                 | 0.8                                                                                                                                                                                                                                               | neutral                                                                                                                                                                                                                                           |\n",
       "| 7 | « gotta birth control shot, ish hurt like hell» hell yeah                                                                                                                                                                                         | 0                                                                                                                                                                                                                                                 | 5                                                                                                                                                                                                                                                 | 0                                                                                                                                                                                                                                                 | 0                                                                                                                                                                                                                                                 | 0                                                                                                                                                                                                                                                 | 1.0                                                                                                                                                                                                                                               | negative                                                                                                                                                                                                                                          |\n",
       "\n"
      ],
      "text/plain": [
       "  text                                                                                                                                                                                                                                             \n",
       "2 serious question my boyfriend has and now i’m curious; does my iud protect against god babies? like if there’s a market for immaculate conception, am i protected?                                                                               \n",
       "3 has been proven not to work. for some it's psychological. they also use injection depo (contraception) on them too                                                                                                                               \n",
       "4 just because you have the blessing of being able to carry a child doesn’t mean you have the right to murder it. get a contraception implant if you don’t want to have a child. i’d much prefer you be barren instead of taking a life. idiot.....\n",
       "5 need response jennifer williams ward anyone taken depo provera? did you or do you like it? what to expect?                                                                                                                                       \n",
       "6 lmfaooooo : let me see yo birth control patch bitch                                                                                                                                                                                              \n",
       "7 « gotta birth control shot, ish hurt like hell» hell yeah                                                                                                                                                                                        \n",
       "  positive negative neutral mixed falsePositive score goldStandard\n",
       "2 0        0        5       0     0             1.0   neutral     \n",
       "3 0        1        4       0     0             0.8   neutral     \n",
       "4 5        0        0       0     0             1.0   positive    \n",
       "5 0        0        5       0     0             1.0   neutral     \n",
       "6 0        0        4       1     0             0.8   neutral     \n",
       "7 0        5        0       0     0             1.0   negative    "
      ]
     },
     "metadata": {},
     "output_type": "display_data"
    },
    {
     "data": {
      "text/html": [
       "<dl class=dl-horizontal>\n",
       "\t<dt>0.4</dt>\n",
       "\t\t<dd>34</dd>\n",
       "\t<dt>0.6</dt>\n",
       "\t\t<dd>111</dd>\n",
       "\t<dt>0.8</dt>\n",
       "\t\t<dd>112</dd>\n",
       "\t<dt>1</dt>\n",
       "\t\t<dd>231</dd>\n",
       "</dl>\n"
      ],
      "text/latex": [
       "\\begin{description*}\n",
       "\\item[0.4] 34\n",
       "\\item[0.6] 111\n",
       "\\item[0.8] 112\n",
       "\\item[1] 231\n",
       "\\end{description*}\n"
      ],
      "text/markdown": [
       "0.4\n",
       ":   340.6\n",
       ":   1110.8\n",
       ":   1121\n",
       ":   231\n",
       "\n"
      ],
      "text/plain": [
       "0.4 0.6 0.8   1 \n",
       " 34 111 112 231 "
      ]
     },
     "metadata": {},
     "output_type": "display_data"
    }
   ],
   "source": [
    "dfSum <- cbind(df1[1], df1[-1] + df2[-1] + df3[-1] + df4[-1] + df5[-1])\n",
    "\n",
    "goldStandardPolarity1 <- goldStandard( dfSum = dfSum, \n",
    "                                      reviewers = 5, \n",
    "                                      startingColumn = 2, \n",
    "                                      finishingColumn = 6 )\n",
    "head( goldStandardPolarity1 )\n",
    "summary(as.factor( goldStandardPolarity1$score))\n"
   ]
  },
  {
   "cell_type": "markdown",
   "metadata": {},
   "source": [
    "## Agreement analysis for polarity set 2"
   ]
  },
  {
   "cell_type": "code",
   "execution_count": 98,
   "metadata": {},
   "outputs": [
    {
     "data": {
      "text/plain": [
       " Fleiss' Kappa for m Raters\n",
       "\n",
       " Subjects = 2420 \n",
       "   Raters = 5 \n",
       "    Kappa = 0.534 \n",
       "\n",
       "        z = 83 \n",
       "  p-value = 0 "
      ]
     },
     "metadata": {},
     "output_type": "display_data"
    },
    {
     "data": {
      "text/html": [
       "<ol class=list-inline>\n",
       "\t<li>485</li>\n",
       "\t<li>6</li>\n",
       "</ol>\n"
      ],
      "text/latex": [
       "\\begin{enumerate*}\n",
       "\\item 485\n",
       "\\item 6\n",
       "\\end{enumerate*}\n"
      ],
      "text/markdown": [
       "1. 485\n",
       "2. 6\n",
       "\n",
       "\n"
      ],
      "text/plain": [
       "[1] 485   6"
      ]
     },
     "metadata": {},
     "output_type": "display_data"
    }
   ],
   "source": [
    "fileList <- list.files(\"/home/ec2-user/SageMaker/tweetsToReviewPolarity/\", pattern = \"set2_Results.csv\")\n",
    "fileList <- fileList[ fileList != \"polarity_set2WithResults.csv\" ]\n",
    "\n",
    "rm(df1, df2, df3, df4, df5, a1, b1, c1, d1, e1)\n",
    "\n",
    "for(i in 1:length(fileList)){\n",
    "    newName <- paste0(\"df\", i)\n",
    "    filepath <- file.path(\"/home/ec2-user/SageMaker/tweetsToReviewPolarity/\",paste0(fileList[i]))\n",
    "    assign(newName, read.csv(filepath, header=TRUE))\n",
    "}\n",
    "\n",
    "df1 <- transformDataForAgreement( input = df1, startingColumn = 2, finishingColum = 6, output = \"dataframe\")\n",
    "df2 <- transformDataForAgreement( input = df2, startingColumn = 2, finishingColum = 6, output = \"dataframe\")\n",
    "df3 <- transformDataForAgreement( input = df3, startingColumn = 2, finishingColum = 6, output = \"dataframe\")\n",
    "df4 <- transformDataForAgreement( input = df4, startingColumn = 2, finishingColum = 6, output = \"dataframe\")\n",
    "df5 <- transformDataForAgreement( input = df5, startingColumn = 2, finishingColum = 6, output = \"dataframe\")\n",
    "\n",
    "a1 <- transformDataForAgreement( input = df1, startingColumn = 2, finishingColum = 6, output = \"vector\")\n",
    "b1 <- transformDataForAgreement( input = df2, startingColumn = 2, finishingColum = 6, output = \"vector\")\n",
    "c1 <- transformDataForAgreement( input = df3, startingColumn = 2, finishingColum = 6, output = \"vector\")\n",
    "d1 <- transformDataForAgreement( input = df4, startingColumn = 2, finishingColum = 6, output = \"vector\")\n",
    "e1 <- transformDataForAgreement( input = df5, startingColumn = 2, finishingColum = 6, output = \"vector\")\n",
    "\n",
    "#############################################\n",
    "# General Agreement between all the raters #\n",
    "############################################\n",
    "irr::kappam.fleiss(cbind(a1, b1, c1, d1, e1) )\n",
    "#irr::kappa2(cbind(a1, b1)) #agreement between pair of raters                   \n",
    "\n",
    "dfSum <- cbind(df1[1], df1[-1] + df2[-1] + df3[-1] + df4[-1] + df5[-1])\n",
    "dim(dfSum)\n",
    "\n"
   ]
  },
  {
   "cell_type": "markdown",
   "metadata": {},
   "source": [
    "### Agreement for each tweet between all the raters"
   ]
  },
  {
   "cell_type": "code",
   "execution_count": 99,
   "metadata": {},
   "outputs": [
    {
     "data": {
      "text/html": [
       "<table>\n",
       "<thead><tr><th scope=col>text</th><th scope=col>kappa</th><th scope=col>pvalue</th><th scope=col>zscore</th></tr></thead>\n",
       "<tbody>\n",
       "\t<tr><td>i'm thinking about switching to the iud that they insert in your arm. it stays there for five years. so easy.                                                                                            </td><td>1.00                                                                                                                                                                                                     </td><td>0.000000                                                                                                                                                                                                 </td><td>7.071                                                                                                                                                                                                    </td></tr>\n",
       "\t<tr><td>imma blame it on the birth control shot                                                                                                                                                                  </td><td>1.00                                                                                                                                                                                                     </td><td>0.000000                                                                                                                                                                                                 </td><td>7.071                                                                                                                                                                                                    </td></tr>\n",
       "\t<tr><td>tea tree oil!!!!! every night and morning i’ve been rubbing it all over my face w/ a make up wipe &amp; it’s been working wonders! i have a bunch of acne from my iud! i’ve always had good skin!! i hate it!</td><td>0.50                                                                                                                                                                                                         </td><td>0.000407                                                                                                                                                                                                     </td><td>3.536                                                                                                                                                                                                        </td></tr>\n",
       "\t<tr><td>lmfaoo : what's that iud's : twitter: what's your fetish?                                                                                                                                                </td><td>0.25                                                                                                                                                                                                     </td><td>0.077100                                                                                                                                                                                                 </td><td>1.768                                                                                                                                                                                                    </td></tr>\n",
       "\t<tr><td>since i have gotten my iud i’m not as emotional and don’t cry as much. which sucks because i miss having a good cry here and there                                                                       </td><td>0.50                                                                                                                                                                                                     </td><td>0.000407                                                                                                                                                                                                 </td><td>3.536                                                                                                                                                                                                    </td></tr>\n",
       "\t<tr><td>i don't need an over-compensator who doesn't know where iuds go to cure anything for me, but thanks for playing                                                                                          </td><td>0.25                                                                                                                                                                                                     </td><td>0.077100                                                                                                                                                                                                 </td><td>1.768                                                                                                                                                                                                    </td></tr>\n",
       "</tbody>\n",
       "</table>\n"
      ],
      "text/latex": [
       "\\begin{tabular}{r|llll}\n",
       " text & kappa & pvalue & zscore\\\\\n",
       "\\hline\n",
       "\t i'm thinking about switching to the iud that they insert in your arm. it stays there for five years. so easy.                                                                                             & 1.00                                                                                                                                                                                                      & 0.000000                                                                                                                                                                                                  & 7.071                                                                                                                                                                                                    \\\\\n",
       "\t imma blame it on the birth control shot                                                                                                                                                                   & 1.00                                                                                                                                                                                                      & 0.000000                                                                                                                                                                                                  & 7.071                                                                                                                                                                                                    \\\\\n",
       "\t tea tree oil!!!!! every night and morning i’ve been rubbing it all over my face w/ a make up wipe \\& it’s been working wonders! i have a bunch of acne from my iud! i’ve always had good skin!! i hate it! & 0.50                                                                                                                                                                                                        & 0.000407                                                                                                                                                                                                    & 3.536                                                                                                                                                                                                      \\\\\n",
       "\t lmfaoo : what's that iud's : twitter: what's your fetish?                                                                                                                                                 & 0.25                                                                                                                                                                                                      & 0.077100                                                                                                                                                                                                  & 1.768                                                                                                                                                                                                    \\\\\n",
       "\t since i have gotten my iud i’m not as emotional and don’t cry as much. which sucks because i miss having a good cry here and there                                                                        & 0.50                                                                                                                                                                                                      & 0.000407                                                                                                                                                                                                  & 3.536                                                                                                                                                                                                    \\\\\n",
       "\t i don't need an over-compensator who doesn't know where iuds go to cure anything for me, but thanks for playing                                                                                           & 0.25                                                                                                                                                                                                      & 0.077100                                                                                                                                                                                                  & 1.768                                                                                                                                                                                                    \\\\\n",
       "\\end{tabular}\n"
      ],
      "text/markdown": [
       "\n",
       "| text | kappa | pvalue | zscore |\n",
       "|---|---|---|---|\n",
       "| i'm thinking about switching to the iud that they insert in your arm. it stays there for five years. so easy.                                                                                             | 1.00                                                                                                                                                                                                      | 0.000000                                                                                                                                                                                                  | 7.071                                                                                                                                                                                                     |\n",
       "| imma blame it on the birth control shot                                                                                                                                                                   | 1.00                                                                                                                                                                                                      | 0.000000                                                                                                                                                                                                  | 7.071                                                                                                                                                                                                     |\n",
       "| tea tree oil!!!!! every night and morning i’ve been rubbing it all over my face w/ a make up wipe & it’s been working wonders! i have a bunch of acne from my iud! i’ve always had good skin!! i hate it! | 0.50                                                                                                                                                                                                      | 0.000407                                                                                                                                                                                                  | 3.536                                                                                                                                                                                                     |\n",
       "| lmfaoo : what's that iud's : twitter: what's your fetish?                                                                                                                                                 | 0.25                                                                                                                                                                                                      | 0.077100                                                                                                                                                                                                  | 1.768                                                                                                                                                                                                     |\n",
       "| since i have gotten my iud i’m not as emotional and don’t cry as much. which sucks because i miss having a good cry here and there                                                                        | 0.50                                                                                                                                                                                                      | 0.000407                                                                                                                                                                                                  | 3.536                                                                                                                                                                                                     |\n",
       "| i don't need an over-compensator who doesn't know where iuds go to cure anything for me, but thanks for playing                                                                                           | 0.25                                                                                                                                                                                                      | 0.077100                                                                                                                                                                                                  | 1.768                                                                                                                                                                                                     |\n",
       "\n"
      ],
      "text/plain": [
       "  text                                                                                                                                                                                                     \n",
       "1 i'm thinking about switching to the iud that they insert in your arm. it stays there for five years. so easy.                                                                                            \n",
       "2 imma blame it on the birth control shot                                                                                                                                                                  \n",
       "3 tea tree oil!!!!! every night and morning i’ve been rubbing it all over my face w/ a make up wipe & it’s been working wonders! i have a bunch of acne from my iud! i’ve always had good skin!! i hate it!\n",
       "4 lmfaoo : what's that iud's : twitter: what's your fetish?                                                                                                                                                \n",
       "5 since i have gotten my iud i’m not as emotional and don’t cry as much. which sucks because i miss having a good cry here and there                                                                       \n",
       "6 i don't need an over-compensator who doesn't know where iuds go to cure anything for me, but thanks for playing                                                                                          \n",
       "  kappa pvalue   zscore\n",
       "1 1.00  0.000000 7.071 \n",
       "2 1.00  0.000000 7.071 \n",
       "3 0.50  0.000407 3.536 \n",
       "4 0.25  0.077100 1.768 \n",
       "5 0.50  0.000407 3.536 \n",
       "6 0.25  0.077100 1.768 "
      ]
     },
     "metadata": {},
     "output_type": "display_data"
    },
    {
     "name": "stdout",
     "output_type": "stream",
     "text": [
      "[1] \"Total agreement in 172 out of the total 485 tweets.\"\n"
     ]
    }
   ],
   "source": [
    "kappaDf <- as.data.frame( df1[,1] )\n",
    "kappaDf$kappa <- NA\n",
    "kappaDf$pvalue <- NA\n",
    "kappaDf$zscore <- NA\n",
    "\n",
    "colnames( kappaDf )[1] <- \"text\"\n",
    "\n",
    "for( i in 1:nrow( kappaDf ) ){\n",
    "    kappaScore <- irr::kappam.fleiss(cbind(as.numeric(df1[i,2:6]), as.numeric(df2[i,2:6]), as.numeric(df3[i,2:6]),\n",
    "                                     as.numeric(df4[i,2:6]), as.numeric(df5[i,2:6])))\n",
    "    kappaDf$kappa[i]  <- kappaScore$value \n",
    "    kappaDf$pvalue[i] <- round(kappaScore$p.value,6)\n",
    "    kappaDf$zscore[i] <- round(kappaScore$statistic, 3)\n",
    "}\n",
    "\n",
    "\n",
    "head(kappaDf)\n",
    "print( paste0(\"Total agreement in \", nrow(kappaDf[ kappaDf$kappa ==1, ]), \" out of the total \", nrow(kappaDf), \" tweets.\"))"
   ]
  },
  {
   "cell_type": "markdown",
   "metadata": {},
   "source": [
    "### Create the gold standard based on all the raters answers\n",
    "- Each tweet has been reviewed independently by 5 different reviewers. We will include in the gold standard those tweets for which at least 3 reviewers agreed. \n",
    "- The goldStandard function will generate a data.frame where each row represent a tweet and it estimates how many raters classified the tweet as positive, negative, neutral, mixed or false positive. It will also show the Kappa score for the agreement (0 completely disagreement, 1 all agree) and the gold standard (the classification with the greates agreement)"
   ]
  },
  {
   "cell_type": "code",
   "execution_count": 100,
   "metadata": {},
   "outputs": [
    {
     "data": {
      "text/html": [
       "<table>\n",
       "<thead><tr><th></th><th scope=col>text</th><th scope=col>positive</th><th scope=col>negative</th><th scope=col>neutral</th><th scope=col>mixed</th><th scope=col>falsePositive</th><th scope=col>score</th><th scope=col>goldStandard</th></tr></thead>\n",
       "<tbody>\n",
       "\t<tr><th scope=row>2</th><td>i'm thinking about switching to the iud that they insert in your arm. it stays there for five years. so easy.                                                                                            </td><td>5                                                                                                                                                                                                        </td><td>0                                                                                                                                                                                                        </td><td>0                                                                                                                                                                                                        </td><td>0                                                                                                                                                                                                        </td><td>0                                                                                                                                                                                                        </td><td>1.0                                                                                                                                                                                                      </td><td>positive                                                                                                                                                                                                 </td></tr>\n",
       "\t<tr><th scope=row>3</th><td>imma blame it on the birth control shot                                                                                                                                                                  </td><td>0                                                                                                                                                                                                        </td><td>5                                                                                                                                                                                                        </td><td>0                                                                                                                                                                                                        </td><td>0                                                                                                                                                                                                        </td><td>0                                                                                                                                                                                                        </td><td>1.0                                                                                                                                                                                                      </td><td>negative                                                                                                                                                                                                 </td></tr>\n",
       "\t<tr><th scope=row>4</th><td>tea tree oil!!!!! every night and morning i’ve been rubbing it all over my face w/ a make up wipe &amp; it’s been working wonders! i have a bunch of acne from my iud! i’ve always had good skin!! i hate it!</td><td>0                                                                                                                                                                                                            </td><td>4                                                                                                                                                                                                            </td><td>0                                                                                                                                                                                                            </td><td>1                                                                                                                                                                                                            </td><td>0                                                                                                                                                                                                            </td><td>0.8                                                                                                                                                                                                          </td><td>negative                                                                                                                                                                                                     </td></tr>\n",
       "\t<tr><th scope=row>5</th><td>lmfaoo : what's that iud's : twitter: what's your fetish?                                                                                                                                                </td><td>0                                                                                                                                                                                                        </td><td>0                                                                                                                                                                                                        </td><td>3                                                                                                                                                                                                        </td><td>0                                                                                                                                                                                                        </td><td>2                                                                                                                                                                                                        </td><td>0.6                                                                                                                                                                                                      </td><td>neutral                                                                                                                                                                                                  </td></tr>\n",
       "\t<tr><th scope=row>6</th><td>since i have gotten my iud i’m not as emotional and don’t cry as much. which sucks because i miss having a good cry here and there                                                                       </td><td>0                                                                                                                                                                                                        </td><td>1                                                                                                                                                                                                        </td><td>0                                                                                                                                                                                                        </td><td>4                                                                                                                                                                                                        </td><td>0                                                                                                                                                                                                        </td><td>0.8                                                                                                                                                                                                      </td><td>mixed                                                                                                                                                                                                    </td></tr>\n",
       "\t<tr><th scope=row>7</th><td>i don't need an over-compensator who doesn't know where iuds go to cure anything for me, but thanks for playing                                                                                          </td><td>0                                                                                                                                                                                                        </td><td>0                                                                                                                                                                                                        </td><td>3                                                                                                                                                                                                        </td><td>2                                                                                                                                                                                                        </td><td>0                                                                                                                                                                                                        </td><td>0.6                                                                                                                                                                                                      </td><td>neutral                                                                                                                                                                                                  </td></tr>\n",
       "</tbody>\n",
       "</table>\n"
      ],
      "text/latex": [
       "\\begin{tabular}{r|llllllll}\n",
       "  & text & positive & negative & neutral & mixed & falsePositive & score & goldStandard\\\\\n",
       "\\hline\n",
       "\t2 & i'm thinking about switching to the iud that they insert in your arm. it stays there for five years. so easy.                                                                                             & 5                                                                                                                                                                                                         & 0                                                                                                                                                                                                         & 0                                                                                                                                                                                                         & 0                                                                                                                                                                                                         & 0                                                                                                                                                                                                         & 1.0                                                                                                                                                                                                       & positive                                                                                                                                                                                                 \\\\\n",
       "\t3 & imma blame it on the birth control shot                                                                                                                                                                   & 0                                                                                                                                                                                                         & 5                                                                                                                                                                                                         & 0                                                                                                                                                                                                         & 0                                                                                                                                                                                                         & 0                                                                                                                                                                                                         & 1.0                                                                                                                                                                                                       & negative                                                                                                                                                                                                 \\\\\n",
       "\t4 & tea tree oil!!!!! every night and morning i’ve been rubbing it all over my face w/ a make up wipe \\& it’s been working wonders! i have a bunch of acne from my iud! i’ve always had good skin!! i hate it! & 0                                                                                                                                                                                                           & 4                                                                                                                                                                                                           & 0                                                                                                                                                                                                           & 1                                                                                                                                                                                                           & 0                                                                                                                                                                                                           & 0.8                                                                                                                                                                                                         & negative                                                                                                                                                                                                   \\\\\n",
       "\t5 & lmfaoo : what's that iud's : twitter: what's your fetish?                                                                                                                                                 & 0                                                                                                                                                                                                         & 0                                                                                                                                                                                                         & 3                                                                                                                                                                                                         & 0                                                                                                                                                                                                         & 2                                                                                                                                                                                                         & 0.6                                                                                                                                                                                                       & neutral                                                                                                                                                                                                  \\\\\n",
       "\t6 & since i have gotten my iud i’m not as emotional and don’t cry as much. which sucks because i miss having a good cry here and there                                                                        & 0                                                                                                                                                                                                         & 1                                                                                                                                                                                                         & 0                                                                                                                                                                                                         & 4                                                                                                                                                                                                         & 0                                                                                                                                                                                                         & 0.8                                                                                                                                                                                                       & mixed                                                                                                                                                                                                    \\\\\n",
       "\t7 & i don't need an over-compensator who doesn't know where iuds go to cure anything for me, but thanks for playing                                                                                           & 0                                                                                                                                                                                                         & 0                                                                                                                                                                                                         & 3                                                                                                                                                                                                         & 2                                                                                                                                                                                                         & 0                                                                                                                                                                                                         & 0.6                                                                                                                                                                                                       & neutral                                                                                                                                                                                                  \\\\\n",
       "\\end{tabular}\n"
      ],
      "text/markdown": [
       "\n",
       "| <!--/--> | text | positive | negative | neutral | mixed | falsePositive | score | goldStandard |\n",
       "|---|---|---|---|---|---|---|---|---|\n",
       "| 2 | i'm thinking about switching to the iud that they insert in your arm. it stays there for five years. so easy.                                                                                             | 5                                                                                                                                                                                                         | 0                                                                                                                                                                                                         | 0                                                                                                                                                                                                         | 0                                                                                                                                                                                                         | 0                                                                                                                                                                                                         | 1.0                                                                                                                                                                                                       | positive                                                                                                                                                                                                  |\n",
       "| 3 | imma blame it on the birth control shot                                                                                                                                                                   | 0                                                                                                                                                                                                         | 5                                                                                                                                                                                                         | 0                                                                                                                                                                                                         | 0                                                                                                                                                                                                         | 0                                                                                                                                                                                                         | 1.0                                                                                                                                                                                                       | negative                                                                                                                                                                                                  |\n",
       "| 4 | tea tree oil!!!!! every night and morning i’ve been rubbing it all over my face w/ a make up wipe & it’s been working wonders! i have a bunch of acne from my iud! i’ve always had good skin!! i hate it! | 0                                                                                                                                                                                                         | 4                                                                                                                                                                                                         | 0                                                                                                                                                                                                         | 1                                                                                                                                                                                                         | 0                                                                                                                                                                                                         | 0.8                                                                                                                                                                                                       | negative                                                                                                                                                                                                  |\n",
       "| 5 | lmfaoo : what's that iud's : twitter: what's your fetish?                                                                                                                                                 | 0                                                                                                                                                                                                         | 0                                                                                                                                                                                                         | 3                                                                                                                                                                                                         | 0                                                                                                                                                                                                         | 2                                                                                                                                                                                                         | 0.6                                                                                                                                                                                                       | neutral                                                                                                                                                                                                   |\n",
       "| 6 | since i have gotten my iud i’m not as emotional and don’t cry as much. which sucks because i miss having a good cry here and there                                                                        | 0                                                                                                                                                                                                         | 1                                                                                                                                                                                                         | 0                                                                                                                                                                                                         | 4                                                                                                                                                                                                         | 0                                                                                                                                                                                                         | 0.8                                                                                                                                                                                                       | mixed                                                                                                                                                                                                     |\n",
       "| 7 | i don't need an over-compensator who doesn't know where iuds go to cure anything for me, but thanks for playing                                                                                           | 0                                                                                                                                                                                                         | 0                                                                                                                                                                                                         | 3                                                                                                                                                                                                         | 2                                                                                                                                                                                                         | 0                                                                                                                                                                                                         | 0.6                                                                                                                                                                                                       | neutral                                                                                                                                                                                                   |\n",
       "\n"
      ],
      "text/plain": [
       "  text                                                                                                                                                                                                     \n",
       "2 i'm thinking about switching to the iud that they insert in your arm. it stays there for five years. so easy.                                                                                            \n",
       "3 imma blame it on the birth control shot                                                                                                                                                                  \n",
       "4 tea tree oil!!!!! every night and morning i’ve been rubbing it all over my face w/ a make up wipe & it’s been working wonders! i have a bunch of acne from my iud! i’ve always had good skin!! i hate it!\n",
       "5 lmfaoo : what's that iud's : twitter: what's your fetish?                                                                                                                                                \n",
       "6 since i have gotten my iud i’m not as emotional and don’t cry as much. which sucks because i miss having a good cry here and there                                                                       \n",
       "7 i don't need an over-compensator who doesn't know where iuds go to cure anything for me, but thanks for playing                                                                                          \n",
       "  positive negative neutral mixed falsePositive score goldStandard\n",
       "2 5        0        0       0     0             1.0   positive    \n",
       "3 0        5        0       0     0             1.0   negative    \n",
       "4 0        4        0       1     0             0.8   negative    \n",
       "5 0        0        3       0     2             0.6   neutral     \n",
       "6 0        1        0       4     0             0.8   mixed       \n",
       "7 0        0        3       2     0             0.6   neutral     "
      ]
     },
     "metadata": {},
     "output_type": "display_data"
    },
    {
     "data": {
      "text/html": [
       "<dl class=dl-horizontal>\n",
       "\t<dt>0.4</dt>\n",
       "\t\t<dd>50</dd>\n",
       "\t<dt>0.6</dt>\n",
       "\t\t<dd>146</dd>\n",
       "\t<dt>0.8</dt>\n",
       "\t\t<dd>117</dd>\n",
       "\t<dt>1</dt>\n",
       "\t\t<dd>172</dd>\n",
       "</dl>\n"
      ],
      "text/latex": [
       "\\begin{description*}\n",
       "\\item[0.4] 50\n",
       "\\item[0.6] 146\n",
       "\\item[0.8] 117\n",
       "\\item[1] 172\n",
       "\\end{description*}\n"
      ],
      "text/markdown": [
       "0.4\n",
       ":   500.6\n",
       ":   1460.8\n",
       ":   1171\n",
       ":   172\n",
       "\n"
      ],
      "text/plain": [
       "0.4 0.6 0.8   1 \n",
       " 50 146 117 172 "
      ]
     },
     "metadata": {},
     "output_type": "display_data"
    }
   ],
   "source": [
    "dfSum <- cbind(df1[1], df1[-1] + df2[-1] + df3[-1] + df4[-1] + df5[-1])\n",
    "\n",
    "goldStandardPolarity2 <- goldStandard( dfSum = dfSum, \n",
    "                                      reviewers = 5, \n",
    "                                      startingColumn = 2, \n",
    "                                      finishingColumn = 6 )\n",
    "head( goldStandardPolarity2 )\n",
    "summary(as.factor( goldStandardPolarity2$score))"
   ]
  },
  {
   "cell_type": "markdown",
   "metadata": {},
   "source": [
    "## Create the gold standard file"
   ]
  },
  {
   "cell_type": "code",
   "execution_count": 118,
   "metadata": {},
   "outputs": [
    {
     "name": "stdout",
     "output_type": "stream",
     "text": [
      "[1] \"Total tweets included in the gold standard: 889\"\n"
     ]
    },
    {
     "data": {
      "text/html": [
       "<dl class=dl-horizontal>\n",
       "\t<dt>0.6</dt>\n",
       "\t\t<dd>257</dd>\n",
       "\t<dt>0.8</dt>\n",
       "\t\t<dd>229</dd>\n",
       "\t<dt>1</dt>\n",
       "\t\t<dd>403</dd>\n",
       "</dl>\n"
      ],
      "text/latex": [
       "\\begin{description*}\n",
       "\\item[0.6] 257\n",
       "\\item[0.8] 229\n",
       "\\item[1] 403\n",
       "\\end{description*}\n"
      ],
      "text/markdown": [
       "0.6\n",
       ":   2570.8\n",
       ":   2291\n",
       ":   403\n",
       "\n"
      ],
      "text/plain": [
       "0.6 0.8   1 \n",
       "257 229 403 "
      ]
     },
     "metadata": {},
     "output_type": "display_data"
    },
    {
     "data": {
      "text/html": [
       "<dl class=dl-horizontal>\n",
       "\t<dt>falsePositive</dt>\n",
       "\t\t<dd>29</dd>\n",
       "\t<dt>mixed</dt>\n",
       "\t\t<dd>95</dd>\n",
       "\t<dt>negative</dt>\n",
       "\t\t<dd>249</dd>\n",
       "\t<dt>neutral</dt>\n",
       "\t\t<dd>331</dd>\n",
       "\t<dt>positive</dt>\n",
       "\t\t<dd>185</dd>\n",
       "</dl>\n"
      ],
      "text/latex": [
       "\\begin{description*}\n",
       "\\item[falsePositive] 29\n",
       "\\item[mixed] 95\n",
       "\\item[negative] 249\n",
       "\\item[neutral] 331\n",
       "\\item[positive] 185\n",
       "\\end{description*}\n"
      ],
      "text/markdown": [
       "falsePositive\n",
       ":   29mixed\n",
       ":   95negative\n",
       ":   249neutral\n",
       ":   331positive\n",
       ":   185\n",
       "\n"
      ],
      "text/plain": [
       "falsePositive         mixed      negative       neutral      positive \n",
       "           29            95           249           331           185 "
      ]
     },
     "metadata": {},
     "output_type": "display_data"
    },
    {
     "name": "stdout",
     "output_type": "stream",
     "text": [
      "[1] \"Observed agreement: 88.9%\"\n"
     ]
    }
   ],
   "source": [
    "gs1 <- goldStandardPolarity1[ goldStandardPolarity1$score > 0.4, ]\n",
    "gs2 <- goldStandardPolarity2[ goldStandardPolarity2$score > 0.4, ]\n",
    "\n",
    "print( paste0( \"Total tweets included in the gold standard: \", nrow(finalGoldStandard)))\n",
    "\n",
    "#Summary of the score and classification of the tweets in the gold standard\n",
    "finalGoldStandard <- rbind( gs1, gs2 )\n",
    "summary(as.factor(finalGoldStandard$score))\n",
    "summary(as.factor(finalGoldStandard$goldStandard))\n",
    "\n",
    "print( paste0( \"Observed agreement: \", round((nrow(finalGoldStandard)/1000)*100, 2), \"%\"))\n",
    "\n",
    "goldStandardFile <- finalGoldStandard[, c(\"text\", \"goldStandard\")]\n",
    "write.table( goldStandardFile, file = \"/home/ec2-user/SageMaker/tweetsToReviewPolarity/finalGoldStandard.csv\", \n",
    "             col.names = TRUE, row.names = FALSE, sep = \"\\t\", quote = FALSE)"
   ]
  },
  {
   "cell_type": "markdown",
   "metadata": {},
   "source": [
    "## Estimate the sensitivity and specificity\n",
    "- We will compare the agreement values given by the reviewers with the results given by Amazon Comprehend to estimate the sensitivity and specificity\n",
    "\n",
    "First we put together the automatic results and the ones included in the gold standard. "
   ]
  },
  {
   "cell_type": "code",
   "execution_count": 122,
   "metadata": {},
   "outputs": [
    {
     "data": {
      "text/html": [
       "<table>\n",
       "<thead><tr><th></th><th scope=col>tweets</th><th scope=col>sentiments</th><th scope=col>positive</th><th scope=col>negative</th><th scope=col>neutral</th><th scope=col>mixed</th></tr></thead>\n",
       "<tbody>\n",
       "\t<tr><th scope=row>2</th><td>serious question my boyfriend has and now i’m curious; does my iud protect against god babies? like if there’s a market for immaculate conception, am i protected?                                                                               </td><td>neutral                                                                                                                                                                                                                                          </td><td>0.1288393140                                                                                                                                                                                                                                     </td><td>0.13338320                                                                                                                                                                                                                                       </td><td>0.73731971                                                                                                                                                                                                                                       </td><td>4.577281e-04                                                                                                                                                                                                                                     </td></tr>\n",
       "\t<tr><th scope=row>3</th><td>has been proven not to work. for some it's psychological. they also use injection depo (contraception) on them too                                                                                                                               </td><td>mixed                                                                                                                                                                                                                                            </td><td>0.0021833186                                                                                                                                                                                                                                     </td><td>0.02442839                                                                                                                                                                                                                                       </td><td>0.01124731                                                                                                                                                                                                                                       </td><td>9.621410e-01                                                                                                                                                                                                                                     </td></tr>\n",
       "\t<tr><th scope=row>4</th><td>just because you have the blessing of being able to carry a child doesn’t mean you have the right to murder it. get a contraception implant if you don’t want to have a child. i’d much prefer you be barren instead of taking a life. idiot.....</td><td>negative                                                                                                                                                                                                                                         </td><td>0.0007591724                                                                                                                                                                                                                                     </td><td>0.97708726                                                                                                                                                                                                                                       </td><td>0.02213454                                                                                                                                                                                                                                       </td><td>1.893010e-05                                                                                                                                                                                                                                     </td></tr>\n",
       "\t<tr><th scope=row>5</th><td>need response jennifer williams ward anyone taken depo provera? did you or do you like it? what to expect?                                                                                                                                       </td><td>neutral                                                                                                                                                                                                                                          </td><td>0.0015469046                                                                                                                                                                                                                                     </td><td>0.01033810                                                                                                                                                                                                                                       </td><td>0.98811311                                                                                                                                                                                                                                       </td><td>1.891628e-06                                                                                                                                                                                                                                     </td></tr>\n",
       "\t<tr><th scope=row>6</th><td>lmfaooooo : let me see yo birth control patch bitch                                                                                                                                                                                              </td><td>negative                                                                                                                                                                                                                                         </td><td>0.0102170259                                                                                                                                                                                                                                     </td><td>0.90682310                                                                                                                                                                                                                                       </td><td>0.08295346                                                                                                                                                                                                                                       </td><td>6.405082e-06                                                                                                                                                                                                                                     </td></tr>\n",
       "\t<tr><th scope=row>7</th><td>« gotta birth control shot, ish hurt like hell» hell yeah                                                                                                                                                                                        </td><td>negative                                                                                                                                                                                                                                         </td><td>0.0699670836                                                                                                                                                                                                                                     </td><td>0.47252899                                                                                                                                                                                                                                       </td><td>0.44854924                                                                                                                                                                                                                                       </td><td>8.954676e-03                                                                                                                                                                                                                                     </td></tr>\n",
       "</tbody>\n",
       "</table>\n"
      ],
      "text/latex": [
       "\\begin{tabular}{r|llllll}\n",
       "  & tweets & sentiments & positive & negative & neutral & mixed\\\\\n",
       "\\hline\n",
       "\t2 & serious question my boyfriend has and now i’m curious; does my iud protect against god babies? like if there’s a market for immaculate conception, am i protected?                                                                                & neutral                                                                                                                                                                                                                                           & 0.1288393140                                                                                                                                                                                                                                      & 0.13338320                                                                                                                                                                                                                                        & 0.73731971                                                                                                                                                                                                                                        & 4.577281e-04                                                                                                                                                                                                                                     \\\\\n",
       "\t3 & has been proven not to work. for some it's psychological. they also use injection depo (contraception) on them too                                                                                                                                & mixed                                                                                                                                                                                                                                             & 0.0021833186                                                                                                                                                                                                                                      & 0.02442839                                                                                                                                                                                                                                        & 0.01124731                                                                                                                                                                                                                                        & 9.621410e-01                                                                                                                                                                                                                                     \\\\\n",
       "\t4 & just because you have the blessing of being able to carry a child doesn’t mean you have the right to murder it. get a contraception implant if you don’t want to have a child. i’d much prefer you be barren instead of taking a life. idiot..... & negative                                                                                                                                                                                                                                          & 0.0007591724                                                                                                                                                                                                                                      & 0.97708726                                                                                                                                                                                                                                        & 0.02213454                                                                                                                                                                                                                                        & 1.893010e-05                                                                                                                                                                                                                                     \\\\\n",
       "\t5 & need response jennifer williams ward anyone taken depo provera? did you or do you like it? what to expect?                                                                                                                                        & neutral                                                                                                                                                                                                                                           & 0.0015469046                                                                                                                                                                                                                                      & 0.01033810                                                                                                                                                                                                                                        & 0.98811311                                                                                                                                                                                                                                        & 1.891628e-06                                                                                                                                                                                                                                     \\\\\n",
       "\t6 & lmfaooooo : let me see yo birth control patch bitch                                                                                                                                                                                               & negative                                                                                                                                                                                                                                          & 0.0102170259                                                                                                                                                                                                                                      & 0.90682310                                                                                                                                                                                                                                        & 0.08295346                                                                                                                                                                                                                                        & 6.405082e-06                                                                                                                                                                                                                                     \\\\\n",
       "\t7 & « gotta birth control shot, ish hurt like hell» hell yeah                                                                                                                                                                                         & negative                                                                                                                                                                                                                                          & 0.0699670836                                                                                                                                                                                                                                      & 0.47252899                                                                                                                                                                                                                                        & 0.44854924                                                                                                                                                                                                                                        & 8.954676e-03                                                                                                                                                                                                                                     \\\\\n",
       "\\end{tabular}\n"
      ],
      "text/markdown": [
       "\n",
       "| <!--/--> | tweets | sentiments | positive | negative | neutral | mixed |\n",
       "|---|---|---|---|---|---|---|\n",
       "| 2 | serious question my boyfriend has and now i’m curious; does my iud protect against god babies? like if there’s a market for immaculate conception, am i protected?                                                                                | neutral                                                                                                                                                                                                                                           | 0.1288393140                                                                                                                                                                                                                                      | 0.13338320                                                                                                                                                                                                                                        | 0.73731971                                                                                                                                                                                                                                        | 4.577281e-04                                                                                                                                                                                                                                      |\n",
       "| 3 | has been proven not to work. for some it's psychological. they also use injection depo (contraception) on them too                                                                                                                                | mixed                                                                                                                                                                                                                                             | 0.0021833186                                                                                                                                                                                                                                      | 0.02442839                                                                                                                                                                                                                                        | 0.01124731                                                                                                                                                                                                                                        | 9.621410e-01                                                                                                                                                                                                                                      |\n",
       "| 4 | just because you have the blessing of being able to carry a child doesn’t mean you have the right to murder it. get a contraception implant if you don’t want to have a child. i’d much prefer you be barren instead of taking a life. idiot..... | negative                                                                                                                                                                                                                                          | 0.0007591724                                                                                                                                                                                                                                      | 0.97708726                                                                                                                                                                                                                                        | 0.02213454                                                                                                                                                                                                                                        | 1.893010e-05                                                                                                                                                                                                                                      |\n",
       "| 5 | need response jennifer williams ward anyone taken depo provera? did you or do you like it? what to expect?                                                                                                                                        | neutral                                                                                                                                                                                                                                           | 0.0015469046                                                                                                                                                                                                                                      | 0.01033810                                                                                                                                                                                                                                        | 0.98811311                                                                                                                                                                                                                                        | 1.891628e-06                                                                                                                                                                                                                                      |\n",
       "| 6 | lmfaooooo : let me see yo birth control patch bitch                                                                                                                                                                                               | negative                                                                                                                                                                                                                                          | 0.0102170259                                                                                                                                                                                                                                      | 0.90682310                                                                                                                                                                                                                                        | 0.08295346                                                                                                                                                                                                                                        | 6.405082e-06                                                                                                                                                                                                                                      |\n",
       "| 7 | « gotta birth control shot, ish hurt like hell» hell yeah                                                                                                                                                                                         | negative                                                                                                                                                                                                                                          | 0.0699670836                                                                                                                                                                                                                                      | 0.47252899                                                                                                                                                                                                                                        | 0.44854924                                                                                                                                                                                                                                        | 8.954676e-03                                                                                                                                                                                                                                      |\n",
       "\n"
      ],
      "text/plain": [
       "  tweets                                                                                                                                                                                                                                           \n",
       "2 serious question my boyfriend has and now i’m curious; does my iud protect against god babies? like if there’s a market for immaculate conception, am i protected?                                                                               \n",
       "3 has been proven not to work. for some it's psychological. they also use injection depo (contraception) on them too                                                                                                                               \n",
       "4 just because you have the blessing of being able to carry a child doesn’t mean you have the right to murder it. get a contraception implant if you don’t want to have a child. i’d much prefer you be barren instead of taking a life. idiot.....\n",
       "5 need response jennifer williams ward anyone taken depo provera? did you or do you like it? what to expect?                                                                                                                                       \n",
       "6 lmfaooooo : let me see yo birth control patch bitch                                                                                                                                                                                              \n",
       "7 « gotta birth control shot, ish hurt like hell» hell yeah                                                                                                                                                                                        \n",
       "  sentiments positive     negative   neutral    mixed       \n",
       "2 neutral    0.1288393140 0.13338320 0.73731971 4.577281e-04\n",
       "3 mixed      0.0021833186 0.02442839 0.01124731 9.621410e-01\n",
       "4 negative   0.0007591724 0.97708726 0.02213454 1.893010e-05\n",
       "5 neutral    0.0015469046 0.01033810 0.98811311 1.891628e-06\n",
       "6 negative   0.0102170259 0.90682310 0.08295346 6.405082e-06\n",
       "7 negative   0.0699670836 0.47252899 0.44854924 8.954676e-03"
      ]
     },
     "metadata": {},
     "output_type": "display_data"
    }
   ],
   "source": [
    "# we select from the gold standard the three columns of interest, the text, the score and the gold standard\n",
    "gs <- finalGoldStandard[, c(\"text\", \"score\", \"goldStandard\")]\n",
    "gs$text <- as.character(gs$text)\n",
    "\n",
    "# we load the results for the same tweets from Amazon Comprehend\n",
    "automaticResults2 <- read.csv(\"/home/ec2-user/SageMaker/tweetsToReviewPolarity/set2_AWScomprehend_corrected.csv\", header = TRUE )\n",
    "automaticResults2 <- automaticResults2[-1,-1]\n",
    "automaticResults2$sentiments <- tolower( automaticResults2$sentiments )\n",
    "\n",
    "automaticResults1 <- read.csv(\"/home/ec2-user/SageMaker/tweetsToReviewPolarity/set1_AWScomprehend_corrected.csv\", header = TRUE )\n",
    "automaticResults1 <- automaticResults1[-1,-1]\n",
    "automaticResults1$sentiments <- tolower( automaticResults1$sentiments )\n",
    "\n",
    "automaticResults <- rbind( automaticResults1, automaticResults2 )\n",
    "automaticResults$tweets <- as.character(automaticResults$tweets)\n",
    "\n",
    "head(automaticResults)"
   ]
  },
  {
   "cell_type": "markdown",
   "metadata": {},
   "source": [
    "Then we compare the results between both, creating as an output two different datasets, one with the tweets in agreement between the reviewers and Amazon Comprehend, and the other one with the results in disagreement. \n",
    "\n",
    "**Note that Amazon Comprehend gives a confident score for each output, that we are not considering when looking for the agreement**"
   ]
  },
  {
   "cell_type": "code",
   "execution_count": 126,
   "metadata": {},
   "outputs": [
    {
     "name": "stdout",
     "output_type": "stream",
     "text": [
      "[1] \"There are 418 tweets in agreement between reviewers and Amazon Comprehend\"\n",
      "[1] \"There are 397 tweets in disagreement between reviewers and Amazon Comprehend\"\n"
     ]
    }
   ],
   "source": [
    "agreeResults <- as.data.frame( matrix( ncol = 4) )\n",
    "nonAgreeResults <- as.data.frame( matrix( ncol = 5) )\n",
    "\n",
    "for( i in 1:nrow( gs ) ){\n",
    "    #print(i)\n",
    "    selection <- automaticResults[ automaticResults$tweets == gs$text[i], ]\n",
    "    \n",
    "    if(nrow(selection) == 0){\n",
    "        #print( paste0(i, \" row not found\"))\n",
    "    }\n",
    "    else{\n",
    "        if( selection$sentiments == gs$goldStandard[i] ){\n",
    "            newRow <- c( as.character(gs$text[i]), gs$goldStandard[i], gs$score[i], max( selection[,c(\"positive\",\"negative\", \"neutral\")]))\n",
    "            agreeResults <- rbind( agreeResults, newRow)\n",
    "        }\n",
    "        if( selection$sentiments != gs$goldStandard[i] ){\n",
    "            newRow <- c( as.character(gs$text[i]), gs$goldStandard[i], gs$score[i], selection$sentiments, selection[, which(colnames(selection)== selection$sentiments)] )\n",
    "            nonAgreeResults <- rbind( nonAgreeResults, newRow)\n",
    "        } \n",
    "    }\n",
    "}\n",
    "\n",
    "agreeResults <- agreeResults[-1, ]\n",
    "colnames(agreeResults) <- c(\"tweet\", \"commonAnswer\", \"manualScore\", \"awsScore\")\n",
    "\n",
    "nonAgreeResults <- nonAgreeResults[-1,]\n",
    "colnames(nonAgreeResults) <- c(\"tweet\", \"manualAnswer\", \"manualScore\", \"awsAnswer\", \"awsScore\")\n",
    "\n",
    "print( paste0( \"There are \", nrow(agreeResults), \" tweets in agreement between reviewers and Amazon Comprehend\"))\n",
    "print( paste0( \"There are \", nrow(nonAgreeResults), \" tweets in disagreement between reviewers and Amazon Comprehend\"))"
   ]
  },
  {
   "cell_type": "markdown",
   "metadata": {},
   "source": [
    "#### Estimate the scpecificity and sensitivity for each category"
   ]
  },
  {
   "cell_type": "code",
   "execution_count": 127,
   "metadata": {},
   "outputs": [],
   "source": [
    "###################################################################\n",
    "## Function to estimate sensitivity and specificity by category ##\n",
    "##################################################################\n",
    "#sensitivity or recall Se = TP/(TP+FN) \n",
    "#proportion of positive cases correctly identified\n",
    "#specificity or precision Sp = TP/(TP+FP) ? \n",
    "\n",
    "sensitivitySepcificity <- function( category, awsScore = 0 ){\n",
    "    truepositive <- nrow( agreeResults[ agreeResults$commonAnswer == category & agreeResults$awsScore >= awsScore, ] )\n",
    "    truenegative <- nrow( agreeResults[ agreeResults$commonAnswer != category  & agreeResults$awsScore >= awsScore, ] )\n",
    "    falsepositive <- nrow( nonAgreeResults[ nonAgreeResults$manualAnswer != category & nonAgreeResults$awsAnswer == category & nonAgreeResults$awsScore >= awsScore, ])\n",
    "    falsenegative <- nrow( nonAgreeResults[ nonAgreeResults$manualAnswer == category & nonAgreeResults$awsAnswer != category & nonAgreeResults$awsScore >= awsScore , ])\n",
    "\n",
    "    print( paste0( \"True positive: \", truepositive))\n",
    "    print( paste0( \"True negative: \", truenegative))\n",
    "    print( paste0( \"False positive: \", falsepositive))\n",
    "    print( paste0( \"False negative: \", falsenegative))\n",
    "\n",
    "    sensitivity = truepositive / (truepositive + falsenegative)\n",
    "    print( paste0( \"Sensitivity: \", sensitivity ))\n",
    "    specificity = truenegative / (truenegative + falsepositive)\n",
    "    print( paste0( \"Specificity: \", specificity ))\n",
    "}"
   ]
  },
  {
   "cell_type": "markdown",
   "metadata": {},
   "source": [
    "We will estimate the general sensitivity and specificity without filtering by the Amazon Comprehend Score for each category:\n",
    "- positive\n",
    "- negative \n",
    "- neutral\n",
    "- mixed"
   ]
  },
  {
   "cell_type": "code",
   "execution_count": 132,
   "metadata": {},
   "outputs": [
    {
     "name": "stdout",
     "output_type": "stream",
     "text": [
      "[1] \"Positive\"\n",
      "[1] \"True positive: 62\"\n",
      "[1] \"True negative: 356\"\n",
      "[1] \"False positive: 65\"\n",
      "[1] \"False negative: 106\"\n",
      "[1] \"Sensitivity: 0.369047619047619\"\n",
      "[1] \"Specificity: 0.845605700712589\"\n",
      "[1] \"###########\"\n",
      "[1] \"Negative\"\n",
      "[1] \"True positive: 153\"\n",
      "[1] \"True negative: 265\"\n",
      "[1] \"False positive: 178\"\n",
      "[1] \"False negative: 77\"\n",
      "[1] \"Sensitivity: 0.665217391304348\"\n",
      "[1] \"Specificity: 0.598194130925508\"\n",
      "[1] \"###########\"\n",
      "[1] \"Neutral\"\n",
      "[1] \"True positive: 190\"\n",
      "[1] \"True negative: 228\"\n",
      "[1] \"False positive: 135\"\n",
      "[1] \"False negative: 108\"\n",
      "[1] \"Sensitivity: 0.63758389261745\"\n",
      "[1] \"Specificity: 0.628099173553719\"\n",
      "[1] \"###########\"\n",
      "[1] \"Mixed\"\n",
      "[1] \"True positive: 13\"\n",
      "[1] \"True negative: 405\"\n",
      "[1] \"False positive: 19\"\n",
      "[1] \"False negative: 80\"\n",
      "[1] \"Sensitivity: 0.139784946236559\"\n",
      "[1] \"Specificity: 0.955188679245283\"\n",
      "[1] \"###########\"\n"
     ]
    }
   ],
   "source": [
    "print( \"Positive\")\n",
    "sensitivitySepcificity( category = \"positive\", awsScore = 0 )\n",
    "print(\"###########\")\n",
    "\n",
    "print( \"Negative\")\n",
    "sensitivitySepcificity( category = \"negative\", awsScore = 0 )\n",
    "print(\"###########\")\n",
    "\n",
    "print( \"Neutral\")\n",
    "sensitivitySepcificity( category = \"neutral\", awsScore = 0 )\n",
    "print(\"###########\")\n",
    "\n",
    "print( \"Mixed\")\n",
    "sensitivitySepcificity( category = \"mixed\", awsScore = 0 )\n",
    "print(\"###########\")"
   ]
  },
  {
   "cell_type": "code",
   "execution_count": null,
   "metadata": {},
   "outputs": [],
   "source": [
    "print( \"Positive\")\n",
    "sensitivitySepcificity( category = \"positive\", awsScore = 80 )\n",
    "print(\"###########\")\n",
    "\n",
    "print( \"Negative\")\n",
    "sensitivitySepcificity( category = \"negative\", awsScore = 80 )\n",
    "print(\"###########\")\n",
    "\n",
    "print( \"Neutral\")\n",
    "sensitivitySepcificity( category = \"neutral\", awsScore = 80 )\n",
    "print(\"###########\")\n",
    "\n",
    "print( \"Mixed\")\n",
    "sensitivitySepcificity( category = \"mixed\", awsScore = 80 )\n",
    "print(\"###########\")"
   ]
  },
  {
   "cell_type": "markdown",
   "metadata": {},
   "source": [
    "We will estimate the general sensitivity and specificity filtering the Amazon Comprehend Score at 0.95 confident score for each category:\n",
    "- positive\n",
    "- negative \n",
    "- neutral\n",
    "- mixed"
   ]
  },
  {
   "cell_type": "code",
   "execution_count": 133,
   "metadata": {},
   "outputs": [
    {
     "name": "stdout",
     "output_type": "stream",
     "text": [
      "[1] \"Positive\"\n",
      "[1] \"True positive: 22\"\n",
      "[1] \"True negative: 98\"\n",
      "[1] \"False positive: 9\"\n",
      "[1] \"False negative: 11\"\n",
      "[1] \"Sensitivity: 0.666666666666667\"\n",
      "[1] \"Specificity: 0.91588785046729\"\n",
      "[1] \"###########\"\n",
      "[1] \"Negative\"\n",
      "[1] \"True positive: 58\"\n",
      "[1] \"True negative: 62\"\n",
      "[1] \"False positive: 25\"\n",
      "[1] \"False negative: 12\"\n",
      "[1] \"Sensitivity: 0.828571428571429\"\n",
      "[1] \"Specificity: 0.71264367816092\"\n",
      "[1] \"###########\"\n",
      "[1] \"Neutral\"\n",
      "[1] \"True positive: 40\"\n",
      "[1] \"True negative: 80\"\n",
      "[1] \"False positive: 11\"\n",
      "[1] \"False negative: 14\"\n",
      "[1] \"Sensitivity: 0.740740740740741\"\n",
      "[1] \"Specificity: 0.879120879120879\"\n",
      "[1] \"###########\"\n",
      "[1] \"Mixed\"\n",
      "[1] \"True positive: 0\"\n",
      "[1] \"True negative: 120\"\n",
      "[1] \"False positive: 3\"\n",
      "[1] \"False negative: 9\"\n",
      "[1] \"Sensitivity: 0\"\n",
      "[1] \"Specificity: 0.975609756097561\"\n",
      "[1] \"###########\"\n"
     ]
    }
   ],
   "source": [
    "print( \"Positive\")\n",
    "sensitivitySepcificity( category = \"positive\", awsScore = 0.95 )\n",
    "print(\"###########\")\n",
    "\n",
    "print( \"Negative\")\n",
    "sensitivitySepcificity( category = \"negative\", awsScore = 0.95 )\n",
    "print(\"###########\")\n",
    "\n",
    "print( \"Neutral\")\n",
    "sensitivitySepcificity( category = \"neutral\", awsScore = 0.95 )\n",
    "print(\"###########\")\n",
    "\n",
    "print( \"Mixed\")\n",
    "sensitivitySepcificity( category = \"mixed\", awsScore = 0.95 )\n",
    "print(\"###########\")"
   ]
  },
  {
   "cell_type": "code",
   "execution_count": 129,
   "metadata": {},
   "outputs": [
    {
     "name": "stdout",
     "output_type": "stream",
     "text": [
      "[1] \"Total tweets agreement between manual reviewers: 889\"\n",
      "[1] \"Total tweets agreement between manual reviewers and aws: 418\"\n"
     ]
    }
   ],
   "source": [
    "agree <- summary( as.numeric(agreeResults$awsScore) )\n",
    "notagree <- summary( as.numeric(nonAgreeResults$awsScore) )\n",
    "\n",
    "print( paste0(\"Total tweets agreement between manual reviewers: \", nrow( gs) ))\n",
    "print( paste0(\"Total tweets agreement between manual reviewers and aws: \", nrow( agreeResults) ))"
   ]
  },
  {
   "cell_type": "code",
   "execution_count": 134,
   "metadata": {},
   "outputs": [
    {
     "data": {
      "text/plain": [
       "R version 3.6.1 (2019-07-05)\n",
       "Platform: x86_64-conda_cos6-linux-gnu (64-bit)\n",
       "Running under: Amazon Linux AMI 2018.03\n",
       "\n",
       "Matrix products: default\n",
       "BLAS/LAPACK: /home/ec2-user/anaconda3/envs/R/lib/R/lib/libRblas.so\n",
       "\n",
       "locale:\n",
       " [1] LC_CTYPE=en_US.UTF-8       LC_NUMERIC=C              \n",
       " [3] LC_TIME=en_US.UTF-8        LC_COLLATE=en_US.UTF-8    \n",
       " [5] LC_MONETARY=en_US.UTF-8    LC_MESSAGES=en_US.UTF-8   \n",
       " [7] LC_PAPER=en_US.UTF-8       LC_NAME=C                 \n",
       " [9] LC_ADDRESS=C               LC_TELEPHONE=C            \n",
       "[11] LC_MEASUREMENT=en_US.UTF-8 LC_IDENTIFICATION=C       \n",
       "\n",
       "attached base packages:\n",
       "[1] stats     graphics  grDevices utils     datasets  methods   base     \n",
       "\n",
       "other attached packages:\n",
       "[1] irr_0.84.1       lpSolve_5.6.13.3 dplyr_0.8.3     \n",
       "\n",
       "loaded via a namespace (and not attached):\n",
       " [1] Rcpp_1.0.1       digest_0.6.18    crayon_1.3.4     assertthat_0.2.1\n",
       " [5] IRdisplay_0.7.0  repr_0.19.2      R6_2.4.0         jsonlite_1.6    \n",
       " [9] magrittr_1.5     evaluate_0.13    pillar_1.3.1     rlang_0.4.2     \n",
       "[13] uuid_0.1-2       IRkernel_0.8.15  tools_3.6.1      glue_1.3.1      \n",
       "[17] purrr_0.3.2      compiler_3.6.1   pkgconfig_2.0.2  base64enc_0.1-3 \n",
       "[21] htmltools_0.3.6  pbdZMQ_0.3-3     tidyselect_0.2.5 tibble_2.1.1    "
      ]
     },
     "metadata": {},
     "output_type": "display_data"
    }
   ],
   "source": [
    "sessionInfo()"
   ]
  }
 ],
 "metadata": {
  "kernelspec": {
   "display_name": "R",
   "language": "R",
   "name": "ir"
  },
  "language_info": {
   "codemirror_mode": "r",
   "file_extension": ".r",
   "mimetype": "text/x-r-source",
   "name": "R",
   "pygments_lexer": "r",
   "version": "3.6.1"
  }
 },
 "nbformat": 4,
 "nbformat_minor": 2
}
